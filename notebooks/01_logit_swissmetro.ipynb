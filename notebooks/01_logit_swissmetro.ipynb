{
 "cells": [
  {
   "cell_type": "code",
   "execution_count": 283,
   "metadata": {},
   "outputs": [],
   "source": [
    "import numpy as np\n",
    "import pandas as pd\n",
    "import biogeme.database as db\n",
    "import biogeme.biogeme as bio\n",
    "import biogeme.models as models\n",
    "from biogeme.expressions import Beta"
   ]
  },
  {
   "cell_type": "code",
   "execution_count": 284,
   "metadata": {},
   "outputs": [
    {
     "data": {
      "text/plain": [
       "(10728, 28)"
      ]
     },
     "execution_count": 284,
     "metadata": {},
     "output_type": "execute_result"
    }
   ],
   "source": [
    "# Read data\n",
    "df = pd.read_csv(\"../data/swissmetro.dat\",'\\t')\n",
    "df.shape"
   ]
  },
  {
   "cell_type": "code",
   "execution_count": 285,
   "metadata": {},
   "outputs": [
    {
     "data": {
      "text/html": [
       "<div>\n",
       "<style scoped>\n",
       "    .dataframe tbody tr th:only-of-type {\n",
       "        vertical-align: middle;\n",
       "    }\n",
       "\n",
       "    .dataframe tbody tr th {\n",
       "        vertical-align: top;\n",
       "    }\n",
       "\n",
       "    .dataframe thead th {\n",
       "        text-align: right;\n",
       "    }\n",
       "</style>\n",
       "<table border=\"1\" class=\"dataframe\">\n",
       "  <thead>\n",
       "    <tr style=\"text-align: right;\">\n",
       "      <th></th>\n",
       "      <th>GROUP</th>\n",
       "      <th>SURVEY</th>\n",
       "      <th>SP</th>\n",
       "      <th>ID</th>\n",
       "      <th>PURPOSE</th>\n",
       "      <th>FIRST</th>\n",
       "      <th>TICKET</th>\n",
       "      <th>WHO</th>\n",
       "      <th>LUGGAGE</th>\n",
       "      <th>AGE</th>\n",
       "      <th>...</th>\n",
       "      <th>TRAIN_TT</th>\n",
       "      <th>TRAIN_CO</th>\n",
       "      <th>TRAIN_HE</th>\n",
       "      <th>SM_TT</th>\n",
       "      <th>SM_CO</th>\n",
       "      <th>SM_HE</th>\n",
       "      <th>SM_SEATS</th>\n",
       "      <th>CAR_TT</th>\n",
       "      <th>CAR_CO</th>\n",
       "      <th>CHOICE</th>\n",
       "    </tr>\n",
       "  </thead>\n",
       "  <tbody>\n",
       "    <tr>\n",
       "      <th>0</th>\n",
       "      <td>2</td>\n",
       "      <td>0</td>\n",
       "      <td>1</td>\n",
       "      <td>1</td>\n",
       "      <td>1</td>\n",
       "      <td>0</td>\n",
       "      <td>1</td>\n",
       "      <td>1</td>\n",
       "      <td>0</td>\n",
       "      <td>3</td>\n",
       "      <td>...</td>\n",
       "      <td>112</td>\n",
       "      <td>48</td>\n",
       "      <td>120</td>\n",
       "      <td>63</td>\n",
       "      <td>52</td>\n",
       "      <td>20</td>\n",
       "      <td>0</td>\n",
       "      <td>117</td>\n",
       "      <td>65</td>\n",
       "      <td>2</td>\n",
       "    </tr>\n",
       "    <tr>\n",
       "      <th>1</th>\n",
       "      <td>2</td>\n",
       "      <td>0</td>\n",
       "      <td>1</td>\n",
       "      <td>1</td>\n",
       "      <td>1</td>\n",
       "      <td>0</td>\n",
       "      <td>1</td>\n",
       "      <td>1</td>\n",
       "      <td>0</td>\n",
       "      <td>3</td>\n",
       "      <td>...</td>\n",
       "      <td>103</td>\n",
       "      <td>48</td>\n",
       "      <td>30</td>\n",
       "      <td>60</td>\n",
       "      <td>49</td>\n",
       "      <td>10</td>\n",
       "      <td>0</td>\n",
       "      <td>117</td>\n",
       "      <td>84</td>\n",
       "      <td>2</td>\n",
       "    </tr>\n",
       "    <tr>\n",
       "      <th>2</th>\n",
       "      <td>2</td>\n",
       "      <td>0</td>\n",
       "      <td>1</td>\n",
       "      <td>1</td>\n",
       "      <td>1</td>\n",
       "      <td>0</td>\n",
       "      <td>1</td>\n",
       "      <td>1</td>\n",
       "      <td>0</td>\n",
       "      <td>3</td>\n",
       "      <td>...</td>\n",
       "      <td>130</td>\n",
       "      <td>48</td>\n",
       "      <td>60</td>\n",
       "      <td>67</td>\n",
       "      <td>58</td>\n",
       "      <td>30</td>\n",
       "      <td>0</td>\n",
       "      <td>117</td>\n",
       "      <td>52</td>\n",
       "      <td>2</td>\n",
       "    </tr>\n",
       "    <tr>\n",
       "      <th>3</th>\n",
       "      <td>2</td>\n",
       "      <td>0</td>\n",
       "      <td>1</td>\n",
       "      <td>1</td>\n",
       "      <td>1</td>\n",
       "      <td>0</td>\n",
       "      <td>1</td>\n",
       "      <td>1</td>\n",
       "      <td>0</td>\n",
       "      <td>3</td>\n",
       "      <td>...</td>\n",
       "      <td>103</td>\n",
       "      <td>40</td>\n",
       "      <td>30</td>\n",
       "      <td>63</td>\n",
       "      <td>52</td>\n",
       "      <td>20</td>\n",
       "      <td>0</td>\n",
       "      <td>72</td>\n",
       "      <td>52</td>\n",
       "      <td>2</td>\n",
       "    </tr>\n",
       "    <tr>\n",
       "      <th>4</th>\n",
       "      <td>2</td>\n",
       "      <td>0</td>\n",
       "      <td>1</td>\n",
       "      <td>1</td>\n",
       "      <td>1</td>\n",
       "      <td>0</td>\n",
       "      <td>1</td>\n",
       "      <td>1</td>\n",
       "      <td>0</td>\n",
       "      <td>3</td>\n",
       "      <td>...</td>\n",
       "      <td>130</td>\n",
       "      <td>36</td>\n",
       "      <td>60</td>\n",
       "      <td>63</td>\n",
       "      <td>42</td>\n",
       "      <td>20</td>\n",
       "      <td>0</td>\n",
       "      <td>90</td>\n",
       "      <td>84</td>\n",
       "      <td>2</td>\n",
       "    </tr>\n",
       "  </tbody>\n",
       "</table>\n",
       "<p>5 rows × 28 columns</p>\n",
       "</div>"
      ],
      "text/plain": [
       "   GROUP  SURVEY  SP  ID  PURPOSE  FIRST  TICKET  WHO  LUGGAGE  AGE  ...  \\\n",
       "0      2       0   1   1        1      0       1    1        0    3  ...   \n",
       "1      2       0   1   1        1      0       1    1        0    3  ...   \n",
       "2      2       0   1   1        1      0       1    1        0    3  ...   \n",
       "3      2       0   1   1        1      0       1    1        0    3  ...   \n",
       "4      2       0   1   1        1      0       1    1        0    3  ...   \n",
       "\n",
       "   TRAIN_TT  TRAIN_CO  TRAIN_HE  SM_TT  SM_CO  SM_HE  SM_SEATS  CAR_TT  \\\n",
       "0       112        48       120     63     52     20         0     117   \n",
       "1       103        48        30     60     49     10         0     117   \n",
       "2       130        48        60     67     58     30         0     117   \n",
       "3       103        40        30     63     52     20         0      72   \n",
       "4       130        36        60     63     42     20         0      90   \n",
       "\n",
       "   CAR_CO  CHOICE  \n",
       "0      65       2  \n",
       "1      84       2  \n",
       "2      52       2  \n",
       "3      52       2  \n",
       "4      84       2  \n",
       "\n",
       "[5 rows x 28 columns]"
      ]
     },
     "execution_count": 285,
     "metadata": {},
     "output_type": "execute_result"
    }
   ],
   "source": [
    "df.head()"
   ]
  },
  {
   "cell_type": "code",
   "execution_count": 286,
   "metadata": {},
   "outputs": [
    {
     "data": {
      "text/plain": [
       "False    10728\n",
       "Name: AGE, dtype: int64"
      ]
     },
     "execution_count": 286,
     "metadata": {},
     "output_type": "execute_result"
    }
   ],
   "source": [
    "(df.AGE > 65).value_counts()"
   ]
  },
  {
   "cell_type": "code",
   "execution_count": 287,
   "metadata": {},
   "outputs": [
    {
     "data": {
      "text/plain": [
       "biogeme.database.Database"
      ]
     },
     "execution_count": 287,
     "metadata": {},
     "output_type": "execute_result"
    }
   ],
   "source": [
    "# Convert to biogeme database\n",
    "database = db.Database('swissmetro',df)\n",
    "type(database)"
   ]
  },
  {
   "cell_type": "code",
   "execution_count": 288,
   "metadata": {},
   "outputs": [],
   "source": [
    "globals().update(database.variables)"
   ]
  },
  {
   "cell_type": "code",
   "execution_count": 289,
   "metadata": {},
   "outputs": [],
   "source": [
    "# Remove some observations\n",
    "exclude = ((PURPOSE != 1) * (PURPOSE != 3) + (CHOICE == 0)) > 0\n",
    "database.remove(exclude)"
   ]
  },
  {
   "cell_type": "code",
   "execution_count": 290,
   "metadata": {},
   "outputs": [
    {
     "data": {
      "text/plain": [
       "(6768, 28)"
      ]
     },
     "execution_count": 290,
     "metadata": {},
     "output_type": "execute_result"
    }
   ],
   "source": [
    "database.data.shape"
   ]
  },
  {
   "cell_type": "code",
   "execution_count": 291,
   "metadata": {},
   "outputs": [],
   "source": [
    "# Paramaters\n",
    "ASC_CAR = Beta('ASC_CAR', 0, None, None, 0)\n",
    "ASC_TRAIN = Beta('ASC_TRAIN', 0, None, None, 0)\n",
    "ASC_SM = Beta('ASC_SM', 0, None, None, 1)\n",
    "B_TIME = Beta('B_TIME', 0, None, None, 0)\n",
    "# B_COST = Beta('B_COST', 0, None, None, 0)\n",
    "B_COST_CAR = Beta('B_COST_CAR', 0, None, None, 0)\n",
    "B_COST_TRAIN = Beta('B_COST_TRAIN', 0, None, None, 0)\n",
    "B_COST_SM = Beta('B_COST_SM', 0, None, None, 0)"
   ]
  },
  {
   "cell_type": "code",
   "execution_count": 292,
   "metadata": {},
   "outputs": [
    {
     "data": {
      "text/plain": [
       "Index(['GROUP', 'SURVEY', 'SP', 'ID', 'PURPOSE', 'FIRST', 'TICKET', 'WHO',\n",
       "       'LUGGAGE', 'AGE', 'MALE', 'INCOME', 'GA', 'ORIGIN', 'DEST', 'TRAIN_AV',\n",
       "       'CAR_AV', 'SM_AV', 'TRAIN_TT', 'TRAIN_CO', 'TRAIN_HE', 'SM_TT', 'SM_CO',\n",
       "       'SM_HE', 'SM_SEATS', 'CAR_TT', 'CAR_CO', 'CHOICE'],\n",
       "      dtype='object')"
      ]
     },
     "execution_count": 292,
     "metadata": {},
     "output_type": "execute_result"
    }
   ],
   "source": [
    "database.data.columns"
   ]
  },
  {
   "cell_type": "code",
   "execution_count": 293,
   "metadata": {},
   "outputs": [
    {
     "data": {
      "text/html": [
       "<div>\n",
       "<style scoped>\n",
       "    .dataframe tbody tr th:only-of-type {\n",
       "        vertical-align: middle;\n",
       "    }\n",
       "\n",
       "    .dataframe tbody tr th {\n",
       "        vertical-align: top;\n",
       "    }\n",
       "\n",
       "    .dataframe thead th {\n",
       "        text-align: right;\n",
       "    }\n",
       "</style>\n",
       "<table border=\"1\" class=\"dataframe\">\n",
       "  <thead>\n",
       "    <tr style=\"text-align: right;\">\n",
       "      <th></th>\n",
       "      <th>TRAIN_TT</th>\n",
       "      <th>TRAIN_CO</th>\n",
       "      <th>SM_TT</th>\n",
       "      <th>SM_CO</th>\n",
       "      <th>CAR_TT</th>\n",
       "      <th>CAR_CO</th>\n",
       "    </tr>\n",
       "  </thead>\n",
       "  <tbody>\n",
       "    <tr>\n",
       "      <th>count</th>\n",
       "      <td>6768.000000</td>\n",
       "      <td>6768.000000</td>\n",
       "      <td>6768.000000</td>\n",
       "      <td>6768.000000</td>\n",
       "      <td>6768.000000</td>\n",
       "      <td>6768.000000</td>\n",
       "    </tr>\n",
       "    <tr>\n",
       "      <th>mean</th>\n",
       "      <td>166.077423</td>\n",
       "      <td>490.885195</td>\n",
       "      <td>84.507388</td>\n",
       "      <td>641.066489</td>\n",
       "      <td>123.154846</td>\n",
       "      <td>78.655881</td>\n",
       "    </tr>\n",
       "    <tr>\n",
       "      <th>std</th>\n",
       "      <td>69.795646</td>\n",
       "      <td>1062.593533</td>\n",
       "      <td>47.113140</td>\n",
       "      <td>1411.658237</td>\n",
       "      <td>91.718406</td>\n",
       "      <td>55.921803</td>\n",
       "    </tr>\n",
       "    <tr>\n",
       "      <th>min</th>\n",
       "      <td>35.000000</td>\n",
       "      <td>9.000000</td>\n",
       "      <td>12.000000</td>\n",
       "      <td>11.000000</td>\n",
       "      <td>0.000000</td>\n",
       "      <td>0.000000</td>\n",
       "    </tr>\n",
       "    <tr>\n",
       "      <th>25%</th>\n",
       "      <td>112.000000</td>\n",
       "      <td>60.000000</td>\n",
       "      <td>55.000000</td>\n",
       "      <td>74.000000</td>\n",
       "      <td>70.000000</td>\n",
       "      <td>40.000000</td>\n",
       "    </tr>\n",
       "    <tr>\n",
       "      <th>50%</th>\n",
       "      <td>159.000000</td>\n",
       "      <td>94.000000</td>\n",
       "      <td>77.000000</td>\n",
       "      <td>112.000000</td>\n",
       "      <td>120.000000</td>\n",
       "      <td>76.000000</td>\n",
       "    </tr>\n",
       "    <tr>\n",
       "      <th>75%</th>\n",
       "      <td>206.000000</td>\n",
       "      <td>166.000000</td>\n",
       "      <td>105.000000</td>\n",
       "      <td>196.000000</td>\n",
       "      <td>176.000000</td>\n",
       "      <td>115.000000</td>\n",
       "    </tr>\n",
       "    <tr>\n",
       "      <th>max</th>\n",
       "      <td>1022.000000</td>\n",
       "      <td>5040.000000</td>\n",
       "      <td>796.000000</td>\n",
       "      <td>6720.000000</td>\n",
       "      <td>1560.000000</td>\n",
       "      <td>520.000000</td>\n",
       "    </tr>\n",
       "  </tbody>\n",
       "</table>\n",
       "</div>"
      ],
      "text/plain": [
       "          TRAIN_TT     TRAIN_CO        SM_TT        SM_CO       CAR_TT  \\\n",
       "count  6768.000000  6768.000000  6768.000000  6768.000000  6768.000000   \n",
       "mean    166.077423   490.885195    84.507388   641.066489   123.154846   \n",
       "std      69.795646  1062.593533    47.113140  1411.658237    91.718406   \n",
       "min      35.000000     9.000000    12.000000    11.000000     0.000000   \n",
       "25%     112.000000    60.000000    55.000000    74.000000    70.000000   \n",
       "50%     159.000000    94.000000    77.000000   112.000000   120.000000   \n",
       "75%     206.000000   166.000000   105.000000   196.000000   176.000000   \n",
       "max    1022.000000  5040.000000   796.000000  6720.000000  1560.000000   \n",
       "\n",
       "            CAR_CO  \n",
       "count  6768.000000  \n",
       "mean     78.655881  \n",
       "std      55.921803  \n",
       "min       0.000000  \n",
       "25%      40.000000  \n",
       "50%      76.000000  \n",
       "75%     115.000000  \n",
       "max     520.000000  "
      ]
     },
     "execution_count": 293,
     "metadata": {},
     "output_type": "execute_result"
    }
   ],
   "source": [
    "database.data[['TRAIN_TT', \"TRAIN_CO\", 'SM_TT', \"SM_CO\", \"CAR_TT\", \"CAR_CO\"]].describe()"
   ]
  },
  {
   "cell_type": "code",
   "execution_count": 294,
   "metadata": {},
   "outputs": [],
   "source": [
    "# Define new variables\n",
    "SM_COST = SM_CO * (GA == 0)\n",
    "TRAIN_COST = TRAIN_CO * (GA == 0)\n",
    "CAR_AV_SP = CAR_AV * (SP != 0)\n",
    "TRAIN_AV_SP = TRAIN_AV * (SP != 0)\n",
    "TRAIN_TT_SCALED = TRAIN_TT / 100.0\n",
    "TRAIN_CO_SCALED = TRAIN_COST / 100.0\n",
    "SM_TT_SCALED = SM_TT / 100.0\n",
    "SM_CO_SCALED = SM_COST / 100.0\n",
    "CAR_TT_SCALED = CAR_TT / 100.0\n",
    "CAR_CO_SCALED = CAR_CO / 100.0"
   ]
  },
  {
   "cell_type": "code",
   "execution_count": 295,
   "metadata": {},
   "outputs": [],
   "source": [
    "# Define Utility functions\n",
    "# V1 = (ASC_TRAIN + B_TIME * TRAIN_TT_SCALED + B_COST * TRAIN_CO_SCALED)\n",
    "# V2 = (ASC_SM  + B_TIME * SM_TT_SCALED + B_COST * SM_CO_SCALED)\n",
    "# V3 = (ASC_CAR + B_TIME * CAR_TT_SCALED + B_COST * CAR_CO_SCALED)\n",
    "V1 = (ASC_TRAIN + B_TIME * TRAIN_TT_SCALED + B_COST_TRAIN * TRAIN_CO_SCALED)\n",
    "V2 = (ASC_SM  + B_TIME * SM_TT_SCALED + B_COST_SM * SM_CO_SCALED)\n",
    "V3 = (ASC_CAR + B_TIME * CAR_TT_SCALED + B_COST_CAR * CAR_CO_SCALED)"
   ]
  },
  {
   "cell_type": "code",
   "execution_count": 296,
   "metadata": {},
   "outputs": [],
   "source": [
    "# Availability and loglikelihood\n",
    "av = {1:TRAIN_AV_SP, 2:SM_AV, 3: CAR_AV_SP}\n",
    "V = {1: V1, 2: V2, 3: V3}\n",
    "logprob = models.loglogit(V, av, CHOICE)"
   ]
  },
  {
   "cell_type": "code",
   "execution_count": 297,
   "metadata": {},
   "outputs": [
    {
     "data": {
      "text/plain": [
       "_bioLogLogit(1:((ASC_TRAIN(0) + (B_TIME(0) * (TRAIN_TT / `100.0`))) + (B_COST_TRAIN(0) * ((TRAIN_CO * (GA == `0`)) / `100.0`))), 2:((ASC_SM(0) + (B_TIME(0) * (SM_TT / `100.0`))) + (B_COST_SM(0) * ((SM_CO * (GA == `0`)) / `100.0`))), 3:((ASC_CAR(0) + (B_TIME(0) * (CAR_TT / `100.0`))) + (B_COST_CAR(0) * (CAR_CO / `100.0`))))"
      ]
     },
     "execution_count": 297,
     "metadata": {},
     "output_type": "execute_result"
    }
   ],
   "source": [
    "logprob"
   ]
  },
  {
   "cell_type": "code",
   "execution_count": 298,
   "metadata": {},
   "outputs": [
    {
     "data": {
      "text/plain": [
       "biogeme.biogeme.BIOGEME"
      ]
     },
     "execution_count": 298,
     "metadata": {},
     "output_type": "execute_result"
    }
   ],
   "source": [
    "# Create biogeme object\n",
    "mlogit = bio.BIOGEME(database, logprob)\n",
    "mlogit.modelName = \"01_logit_sm\"\n",
    "type(mlogit)"
   ]
  },
  {
   "cell_type": "code",
   "execution_count": 299,
   "metadata": {},
   "outputs": [
    {
     "data": {
      "text/plain": [
       "_bioLogLogit(1:((ASC_TRAIN(0) + (B_TIME(0) * (TRAIN_TT / `100.0`))) + (B_COST_TRAIN(0) * ((TRAIN_CO * (GA == `0`)) / `100.0`))), 2:((ASC_SM(0) + (B_TIME(0) * (SM_TT / `100.0`))) + (B_COST_SM(0) * ((SM_CO * (GA == `0`)) / `100.0`))), 3:((ASC_CAR(0) + (B_TIME(0) * (CAR_TT / `100.0`))) + (B_COST_CAR(0) * (CAR_CO / `100.0`))))"
      ]
     },
     "execution_count": 299,
     "metadata": {},
     "output_type": "execute_result"
    }
   ],
   "source": [
    "logprob"
   ]
  },
  {
   "cell_type": "code",
   "execution_count": 300,
   "metadata": {},
   "outputs": [],
   "source": [
    "results = biogeme.estimate(saveIterations=True)"
   ]
  },
  {
   "cell_type": "code",
   "execution_count": 301,
   "metadata": {},
   "outputs": [
    {
     "data": {
      "text/html": [
       "<div>\n",
       "<style scoped>\n",
       "    .dataframe tbody tr th:only-of-type {\n",
       "        vertical-align: middle;\n",
       "    }\n",
       "\n",
       "    .dataframe tbody tr th {\n",
       "        vertical-align: top;\n",
       "    }\n",
       "\n",
       "    .dataframe thead th {\n",
       "        text-align: right;\n",
       "    }\n",
       "</style>\n",
       "<table border=\"1\" class=\"dataframe\">\n",
       "  <thead>\n",
       "    <tr style=\"text-align: right;\">\n",
       "      <th></th>\n",
       "      <th>Value</th>\n",
       "      <th>Std err</th>\n",
       "      <th>t-test</th>\n",
       "      <th>p-value</th>\n",
       "      <th>Rob. Std err</th>\n",
       "      <th>Rob. t-test</th>\n",
       "      <th>Rob. p-value</th>\n",
       "    </tr>\n",
       "  </thead>\n",
       "  <tbody>\n",
       "    <tr>\n",
       "      <th>ASC_CAR</th>\n",
       "      <td>-0.427275</td>\n",
       "      <td>0.076908</td>\n",
       "      <td>-5.555681</td>\n",
       "      <td>2.765322e-08</td>\n",
       "      <td>0.077052</td>\n",
       "      <td>-5.545292</td>\n",
       "      <td>2.934636e-08</td>\n",
       "    </tr>\n",
       "    <tr>\n",
       "      <th>ASC_TRAIN</th>\n",
       "      <td>0.189393</td>\n",
       "      <td>0.065512</td>\n",
       "      <td>2.890947</td>\n",
       "      <td>3.840825e-03</td>\n",
       "      <td>0.092140</td>\n",
       "      <td>2.055491</td>\n",
       "      <td>3.983165e-02</td>\n",
       "    </tr>\n",
       "    <tr>\n",
       "      <th>B_COST_CAR</th>\n",
       "      <td>-0.938943</td>\n",
       "      <td>0.090345</td>\n",
       "      <td>-10.392857</td>\n",
       "      <td>0.000000e+00</td>\n",
       "      <td>0.115850</td>\n",
       "      <td>-8.104806</td>\n",
       "      <td>4.440892e-16</td>\n",
       "    </tr>\n",
       "    <tr>\n",
       "      <th>B_COST_SM</th>\n",
       "      <td>-1.090544</td>\n",
       "      <td>0.052632</td>\n",
       "      <td>-20.720204</td>\n",
       "      <td>0.000000e+00</td>\n",
       "      <td>0.070374</td>\n",
       "      <td>-15.496406</td>\n",
       "      <td>0.000000e+00</td>\n",
       "    </tr>\n",
       "    <tr>\n",
       "      <th>B_COST_TRAIN</th>\n",
       "      <td>-2.929038</td>\n",
       "      <td>0.112200</td>\n",
       "      <td>-26.105571</td>\n",
       "      <td>0.000000e+00</td>\n",
       "      <td>0.168586</td>\n",
       "      <td>-17.374129</td>\n",
       "      <td>0.000000e+00</td>\n",
       "    </tr>\n",
       "    <tr>\n",
       "      <th>B_TIME</th>\n",
       "      <td>-1.116365</td>\n",
       "      <td>0.060939</td>\n",
       "      <td>-18.319493</td>\n",
       "      <td>0.000000e+00</td>\n",
       "      <td>0.120079</td>\n",
       "      <td>-9.296889</td>\n",
       "      <td>0.000000e+00</td>\n",
       "    </tr>\n",
       "  </tbody>\n",
       "</table>\n",
       "</div>"
      ],
      "text/plain": [
       "                 Value   Std err     t-test       p-value  Rob. Std err  \\\n",
       "ASC_CAR      -0.427275  0.076908  -5.555681  2.765322e-08      0.077052   \n",
       "ASC_TRAIN     0.189393  0.065512   2.890947  3.840825e-03      0.092140   \n",
       "B_COST_CAR   -0.938943  0.090345 -10.392857  0.000000e+00      0.115850   \n",
       "B_COST_SM    -1.090544  0.052632 -20.720204  0.000000e+00      0.070374   \n",
       "B_COST_TRAIN -2.929038  0.112200 -26.105571  0.000000e+00      0.168586   \n",
       "B_TIME       -1.116365  0.060939 -18.319493  0.000000e+00      0.120079   \n",
       "\n",
       "              Rob. t-test  Rob. p-value  \n",
       "ASC_CAR         -5.545292  2.934636e-08  \n",
       "ASC_TRAIN        2.055491  3.983165e-02  \n",
       "B_COST_CAR      -8.104806  4.440892e-16  \n",
       "B_COST_SM      -15.496406  0.000000e+00  \n",
       "B_COST_TRAIN   -17.374129  0.000000e+00  \n",
       "B_TIME          -9.296889  0.000000e+00  "
      ]
     },
     "execution_count": 301,
     "metadata": {},
     "output_type": "execute_result"
    }
   ],
   "source": [
    "results.getEstimatedParameters()"
   ]
  },
  {
   "cell_type": "code",
   "execution_count": 302,
   "metadata": {},
   "outputs": [
    {
     "data": {
      "text/plain": [
       "{'Number of estimated parameters': (6, ''),\n",
       " 'Sample size': (6768, ''),\n",
       " 'Excluded observations': (3960, ''),\n",
       " 'Init log likelihood': (-6964.662979192372, '.7g'),\n",
       " 'Final log likelihood': (-5083.4999380817335, '.7g'),\n",
       " 'Likelihood ratio test for the init. model': (3762.326082221278, '.7g'),\n",
       " 'Rho-square for the init. model': (0.2701010869773314, '.3g'),\n",
       " 'Rho-square-bar for the init. model': (0.26923959518398466, '.3g'),\n",
       " 'Akaike Information Criterion': (10178.999876163467, '.7g'),\n",
       " 'Bayesian Information Criterion': (10219.919641571183, '.7g'),\n",
       " 'Final gradient norm': (0.0162235191236585, '.4E'),\n",
       " 'Nbr of threads': (4, '')}"
      ]
     },
     "execution_count": 302,
     "metadata": {},
     "output_type": "execute_result"
    }
   ],
   "source": [
    "results.getGeneralStatistics()"
   ]
  },
  {
   "cell_type": "code",
   "execution_count": 303,
   "metadata": {},
   "outputs": [
    {
     "data": {
      "text/plain": [
       "{'ASC_CAR': -0.4272747701232511,\n",
       " 'ASC_TRAIN': 0.18939275267183409,\n",
       " 'B_COST_CAR': -0.938942608489664,\n",
       " 'B_COST_SM': -1.0905441342085622,\n",
       " 'B_COST_TRAIN': -2.929038422579854,\n",
       " 'B_TIME': -1.1163651683467066}"
      ]
     },
     "execution_count": 303,
     "metadata": {},
     "output_type": "execute_result"
    }
   ],
   "source": [
    "results.getBetaValues()"
   ]
  },
  {
   "cell_type": "code",
   "execution_count": 304,
   "metadata": {},
   "outputs": [
    {
     "data": {
      "text/plain": [
       "_bioLogLogit(1:((ASC_TRAIN(0) + (B_TIME(0) * (TRAIN_TT / `100.0`))) + (B_COST_TRAIN(0) * ((TRAIN_CO * (GA == `0`)) / `100.0`))), 2:((ASC_SM(0) + (B_TIME(0) * (SM_TT / `100.0`))) + (B_COST_SM(0) * ((SM_CO * (GA == `0`)) / `100.0`))), 3:((ASC_CAR(0) + (B_TIME(0) * (CAR_TT / `100.0`))) + (B_COST_CAR(0) * (CAR_CO / `100.0`))))"
      ]
     },
     "execution_count": 304,
     "metadata": {},
     "output_type": "execute_result"
    }
   ],
   "source": [
    "logprob"
   ]
  },
  {
   "cell_type": "code",
   "execution_count": 305,
   "metadata": {},
   "outputs": [
    {
     "data": {
      "text/plain": [
       "_bioLogLogit(1:((ASC_TRAIN(0.18939275267183409) + (B_TIME(-1.1163651683467066) * (TRAIN_TT / `100.0`))) + (B_COST_TRAIN(-2.929038422579854) * ((TRAIN_CO * (GA == `0`)) / `100.0`))), 2:((ASC_SM(0) + (B_TIME(-1.1163651683467066) * (SM_TT / `100.0`))) + (B_COST_SM(-1.0905441342085622) * ((SM_CO * (GA == `0`)) / `100.0`))), 3:((ASC_CAR(-0.4272747701232511) + (B_TIME(-1.1163651683467066) * (CAR_TT / `100.0`))) + (B_COST_CAR(-0.938942608489664) * (CAR_CO / `100.0`))))"
      ]
     },
     "execution_count": 305,
     "metadata": {},
     "output_type": "execute_result"
    }
   ],
   "source": [
    "mlogit.loadSavedIteration()\n",
    "mlogit.loglike"
   ]
  },
  {
   "cell_type": "code",
   "execution_count": 306,
   "metadata": {},
   "outputs": [
    {
     "data": {
      "text/plain": [
       "_bioLogLogit(1:((ASC_TRAIN(0.18939275267183409) + (B_TIME(-1.1163651683467066) * (TRAIN_TT / `100.0`))) + (B_COST_TRAIN(-2.929038422579854) * ((TRAIN_CO * (GA == `0`)) / `100.0`))), 2:((ASC_SM(0) + (B_TIME(-1.1163651683467066) * (SM_TT / `100.0`))) + (B_COST_SM(-1.0905441342085622) * ((SM_CO * (GA == `0`)) / `100.0`))), 3:((ASC_CAR(-0.4272747701232511) + (B_TIME(-1.1163651683467066) * (CAR_TT / `100.0`))) + (B_COST_CAR(-0.938942608489664) * (CAR_CO / `100.0`))))"
      ]
     },
     "execution_count": 306,
     "metadata": {},
     "output_type": "execute_result"
    }
   ],
   "source": [
    "logprob"
   ]
  },
  {
   "cell_type": "code",
   "execution_count": 307,
   "metadata": {},
   "outputs": [],
   "source": [
    "# biogeme.simulate(results.getBetaValues())"
   ]
  },
  {
   "cell_type": "markdown",
   "metadata": {},
   "source": [
    "### Biogeme loglikelihood"
   ]
  },
  {
   "cell_type": "code",
   "execution_count": 308,
   "metadata": {},
   "outputs": [],
   "source": [
    "import biogeme.loglikelihood as ll"
   ]
  },
  {
   "cell_type": "code",
   "execution_count": 309,
   "metadata": {},
   "outputs": [],
   "source": [
    "biogeme\n",
    "loglike = ll.loglikelihood(logprob)"
   ]
  },
  {
   "cell_type": "code",
   "execution_count": 310,
   "metadata": {},
   "outputs": [
    {
     "name": "stdout",
     "output_type": "stream",
     "text": [
      "log(_bioLogLogit(1:((ASC_TRAIN(0.18939275267183409) + (B_TIME(-1.1163651683467066) * (TRAIN_TT / `100.0`))) + (B_COST_TRAIN(-2.929038422579854) * ((TRAIN_CO * (GA == `0`)) / `100.0`))), 2:((ASC_SM(0) + (B_TIME(-1.1163651683467066) * (SM_TT / `100.0`))) + (B_COST_SM(-1.0905441342085622) * ((SM_CO * (GA == `0`)) / `100.0`))), 3:((ASC_CAR(-0.4272747701232511) + (B_TIME(-1.1163651683467066) * (CAR_TT / `100.0`))) + (B_COST_CAR(-0.938942608489664) * (CAR_CO / `100.0`)))))\n"
     ]
    }
   ],
   "source": [
    "print(loglike)"
   ]
  },
  {
   "cell_type": "code",
   "execution_count": 311,
   "metadata": {},
   "outputs": [
    {
     "data": {
      "text/plain": [
       "((ASC_TRAIN(0.18939275267183409) + (B_TIME(-1.1163651683467066) * (TRAIN_TT / `100.0`))) + (B_COST_TRAIN(-2.929038422579854) * ((TRAIN_CO * (GA == `0`)) / `100.0`)))"
      ]
     },
     "execution_count": 311,
     "metadata": {},
     "output_type": "execute_result"
    }
   ],
   "source": [
    "V1"
   ]
  },
  {
   "cell_type": "code",
   "execution_count": 312,
   "metadata": {},
   "outputs": [],
   "source": [
    "def add_utilities(db, V):\n",
    "    df = db.data\n",
    "    for idx, v in V.items():\n",
    "        df[f'V_{idx}'] = db.valuesFromDatabase(v)\n",
    "    Vs = [f'V_{idx}' for idx in V.keys()]\n",
    "    df[\"PRED\"] = np.argmax(df[Vs].values, axis=1) + 1\n",
    "    return df"
   ]
  },
  {
   "cell_type": "code",
   "execution_count": 313,
   "metadata": {},
   "outputs": [],
   "source": [
    "test = add_utilities(database, V)"
   ]
  },
  {
   "cell_type": "code",
   "execution_count": 314,
   "metadata": {},
   "outputs": [
    {
     "data": {
      "text/html": [
       "<div>\n",
       "<style scoped>\n",
       "    .dataframe tbody tr th:only-of-type {\n",
       "        vertical-align: middle;\n",
       "    }\n",
       "\n",
       "    .dataframe tbody tr th {\n",
       "        vertical-align: top;\n",
       "    }\n",
       "\n",
       "    .dataframe thead th {\n",
       "        text-align: right;\n",
       "    }\n",
       "</style>\n",
       "<table border=\"1\" class=\"dataframe\">\n",
       "  <thead>\n",
       "    <tr style=\"text-align: right;\">\n",
       "      <th></th>\n",
       "      <th>GROUP</th>\n",
       "      <th>SURVEY</th>\n",
       "      <th>SP</th>\n",
       "      <th>ID</th>\n",
       "      <th>PURPOSE</th>\n",
       "      <th>FIRST</th>\n",
       "      <th>TICKET</th>\n",
       "      <th>WHO</th>\n",
       "      <th>LUGGAGE</th>\n",
       "      <th>AGE</th>\n",
       "      <th>...</th>\n",
       "      <th>SM_CO</th>\n",
       "      <th>SM_HE</th>\n",
       "      <th>SM_SEATS</th>\n",
       "      <th>CAR_TT</th>\n",
       "      <th>CAR_CO</th>\n",
       "      <th>CHOICE</th>\n",
       "      <th>V_1</th>\n",
       "      <th>V_2</th>\n",
       "      <th>V_3</th>\n",
       "      <th>PRED</th>\n",
       "    </tr>\n",
       "  </thead>\n",
       "  <tbody>\n",
       "    <tr>\n",
       "      <th>0</th>\n",
       "      <td>2</td>\n",
       "      <td>0</td>\n",
       "      <td>1</td>\n",
       "      <td>1</td>\n",
       "      <td>1</td>\n",
       "      <td>0</td>\n",
       "      <td>1</td>\n",
       "      <td>1</td>\n",
       "      <td>0</td>\n",
       "      <td>3</td>\n",
       "      <td>...</td>\n",
       "      <td>52</td>\n",
       "      <td>20</td>\n",
       "      <td>0</td>\n",
       "      <td>117</td>\n",
       "      <td>65</td>\n",
       "      <td>2</td>\n",
       "      <td>-2.466875</td>\n",
       "      <td>-1.270393</td>\n",
       "      <td>-2.343735</td>\n",
       "      <td>2</td>\n",
       "    </tr>\n",
       "    <tr>\n",
       "      <th>1</th>\n",
       "      <td>2</td>\n",
       "      <td>0</td>\n",
       "      <td>1</td>\n",
       "      <td>1</td>\n",
       "      <td>1</td>\n",
       "      <td>0</td>\n",
       "      <td>1</td>\n",
       "      <td>1</td>\n",
       "      <td>0</td>\n",
       "      <td>3</td>\n",
       "      <td>...</td>\n",
       "      <td>49</td>\n",
       "      <td>10</td>\n",
       "      <td>0</td>\n",
       "      <td>117</td>\n",
       "      <td>84</td>\n",
       "      <td>2</td>\n",
       "      <td>-2.366402</td>\n",
       "      <td>-1.204186</td>\n",
       "      <td>-2.522134</td>\n",
       "      <td>2</td>\n",
       "    </tr>\n",
       "    <tr>\n",
       "      <th>2</th>\n",
       "      <td>2</td>\n",
       "      <td>0</td>\n",
       "      <td>1</td>\n",
       "      <td>1</td>\n",
       "      <td>1</td>\n",
       "      <td>0</td>\n",
       "      <td>1</td>\n",
       "      <td>1</td>\n",
       "      <td>0</td>\n",
       "      <td>3</td>\n",
       "      <td>...</td>\n",
       "      <td>58</td>\n",
       "      <td>30</td>\n",
       "      <td>0</td>\n",
       "      <td>117</td>\n",
       "      <td>52</td>\n",
       "      <td>2</td>\n",
       "      <td>-2.667820</td>\n",
       "      <td>-1.380480</td>\n",
       "      <td>-2.221672</td>\n",
       "      <td>2</td>\n",
       "    </tr>\n",
       "    <tr>\n",
       "      <th>3</th>\n",
       "      <td>2</td>\n",
       "      <td>0</td>\n",
       "      <td>1</td>\n",
       "      <td>1</td>\n",
       "      <td>1</td>\n",
       "      <td>0</td>\n",
       "      <td>1</td>\n",
       "      <td>1</td>\n",
       "      <td>0</td>\n",
       "      <td>3</td>\n",
       "      <td>...</td>\n",
       "      <td>52</td>\n",
       "      <td>20</td>\n",
       "      <td>0</td>\n",
       "      <td>72</td>\n",
       "      <td>52</td>\n",
       "      <td>2</td>\n",
       "      <td>-2.132079</td>\n",
       "      <td>-1.270393</td>\n",
       "      <td>-1.719308</td>\n",
       "      <td>2</td>\n",
       "    </tr>\n",
       "    <tr>\n",
       "      <th>4</th>\n",
       "      <td>2</td>\n",
       "      <td>0</td>\n",
       "      <td>1</td>\n",
       "      <td>1</td>\n",
       "      <td>1</td>\n",
       "      <td>0</td>\n",
       "      <td>1</td>\n",
       "      <td>1</td>\n",
       "      <td>0</td>\n",
       "      <td>3</td>\n",
       "      <td>...</td>\n",
       "      <td>42</td>\n",
       "      <td>20</td>\n",
       "      <td>0</td>\n",
       "      <td>90</td>\n",
       "      <td>84</td>\n",
       "      <td>2</td>\n",
       "      <td>-2.316336</td>\n",
       "      <td>-1.161339</td>\n",
       "      <td>-2.220715</td>\n",
       "      <td>2</td>\n",
       "    </tr>\n",
       "    <tr>\n",
       "      <th>...</th>\n",
       "      <td>...</td>\n",
       "      <td>...</td>\n",
       "      <td>...</td>\n",
       "      <td>...</td>\n",
       "      <td>...</td>\n",
       "      <td>...</td>\n",
       "      <td>...</td>\n",
       "      <td>...</td>\n",
       "      <td>...</td>\n",
       "      <td>...</td>\n",
       "      <td>...</td>\n",
       "      <td>...</td>\n",
       "      <td>...</td>\n",
       "      <td>...</td>\n",
       "      <td>...</td>\n",
       "      <td>...</td>\n",
       "      <td>...</td>\n",
       "      <td>...</td>\n",
       "      <td>...</td>\n",
       "      <td>...</td>\n",
       "      <td>...</td>\n",
       "    </tr>\n",
       "    <tr>\n",
       "      <th>8446</th>\n",
       "      <td>3</td>\n",
       "      <td>1</td>\n",
       "      <td>1</td>\n",
       "      <td>939</td>\n",
       "      <td>3</td>\n",
       "      <td>1</td>\n",
       "      <td>7</td>\n",
       "      <td>3</td>\n",
       "      <td>1</td>\n",
       "      <td>5</td>\n",
       "      <td>...</td>\n",
       "      <td>17</td>\n",
       "      <td>30</td>\n",
       "      <td>0</td>\n",
       "      <td>130</td>\n",
       "      <td>64</td>\n",
       "      <td>1</td>\n",
       "      <td>-1.397057</td>\n",
       "      <td>-0.743575</td>\n",
       "      <td>-2.479473</td>\n",
       "      <td>2</td>\n",
       "    </tr>\n",
       "    <tr>\n",
       "      <th>8447</th>\n",
       "      <td>3</td>\n",
       "      <td>1</td>\n",
       "      <td>1</td>\n",
       "      <td>939</td>\n",
       "      <td>3</td>\n",
       "      <td>1</td>\n",
       "      <td>7</td>\n",
       "      <td>3</td>\n",
       "      <td>1</td>\n",
       "      <td>5</td>\n",
       "      <td>...</td>\n",
       "      <td>16</td>\n",
       "      <td>10</td>\n",
       "      <td>0</td>\n",
       "      <td>80</td>\n",
       "      <td>80</td>\n",
       "      <td>1</td>\n",
       "      <td>-1.367766</td>\n",
       "      <td>-0.766161</td>\n",
       "      <td>-2.071521</td>\n",
       "      <td>2</td>\n",
       "    </tr>\n",
       "    <tr>\n",
       "      <th>8448</th>\n",
       "      <td>3</td>\n",
       "      <td>1</td>\n",
       "      <td>1</td>\n",
       "      <td>939</td>\n",
       "      <td>3</td>\n",
       "      <td>1</td>\n",
       "      <td>7</td>\n",
       "      <td>3</td>\n",
       "      <td>1</td>\n",
       "      <td>5</td>\n",
       "      <td>...</td>\n",
       "      <td>16</td>\n",
       "      <td>20</td>\n",
       "      <td>0</td>\n",
       "      <td>80</td>\n",
       "      <td>64</td>\n",
       "      <td>1</td>\n",
       "      <td>-1.484928</td>\n",
       "      <td>-0.732670</td>\n",
       "      <td>-1.921290</td>\n",
       "      <td>2</td>\n",
       "    </tr>\n",
       "    <tr>\n",
       "      <th>8449</th>\n",
       "      <td>3</td>\n",
       "      <td>1</td>\n",
       "      <td>1</td>\n",
       "      <td>939</td>\n",
       "      <td>3</td>\n",
       "      <td>1</td>\n",
       "      <td>7</td>\n",
       "      <td>3</td>\n",
       "      <td>1</td>\n",
       "      <td>5</td>\n",
       "      <td>...</td>\n",
       "      <td>17</td>\n",
       "      <td>30</td>\n",
       "      <td>0</td>\n",
       "      <td>80</td>\n",
       "      <td>104</td>\n",
       "      <td>1</td>\n",
       "      <td>-1.708201</td>\n",
       "      <td>-0.777066</td>\n",
       "      <td>-2.296867</td>\n",
       "      <td>2</td>\n",
       "    </tr>\n",
       "    <tr>\n",
       "      <th>8450</th>\n",
       "      <td>3</td>\n",
       "      <td>1</td>\n",
       "      <td>1</td>\n",
       "      <td>939</td>\n",
       "      <td>3</td>\n",
       "      <td>1</td>\n",
       "      <td>7</td>\n",
       "      <td>3</td>\n",
       "      <td>1</td>\n",
       "      <td>5</td>\n",
       "      <td>...</td>\n",
       "      <td>21</td>\n",
       "      <td>30</td>\n",
       "      <td>0</td>\n",
       "      <td>100</td>\n",
       "      <td>80</td>\n",
       "      <td>1</td>\n",
       "      <td>-1.397057</td>\n",
       "      <td>-0.820688</td>\n",
       "      <td>-2.294794</td>\n",
       "      <td>2</td>\n",
       "    </tr>\n",
       "  </tbody>\n",
       "</table>\n",
       "<p>6768 rows × 32 columns</p>\n",
       "</div>"
      ],
      "text/plain": [
       "      GROUP  SURVEY  SP   ID  PURPOSE  FIRST  TICKET  WHO  LUGGAGE  AGE  ...  \\\n",
       "0         2       0   1    1        1      0       1    1        0    3  ...   \n",
       "1         2       0   1    1        1      0       1    1        0    3  ...   \n",
       "2         2       0   1    1        1      0       1    1        0    3  ...   \n",
       "3         2       0   1    1        1      0       1    1        0    3  ...   \n",
       "4         2       0   1    1        1      0       1    1        0    3  ...   \n",
       "...     ...     ...  ..  ...      ...    ...     ...  ...      ...  ...  ...   \n",
       "8446      3       1   1  939        3      1       7    3        1    5  ...   \n",
       "8447      3       1   1  939        3      1       7    3        1    5  ...   \n",
       "8448      3       1   1  939        3      1       7    3        1    5  ...   \n",
       "8449      3       1   1  939        3      1       7    3        1    5  ...   \n",
       "8450      3       1   1  939        3      1       7    3        1    5  ...   \n",
       "\n",
       "      SM_CO  SM_HE  SM_SEATS  CAR_TT  CAR_CO  CHOICE       V_1       V_2  \\\n",
       "0        52     20         0     117      65       2 -2.466875 -1.270393   \n",
       "1        49     10         0     117      84       2 -2.366402 -1.204186   \n",
       "2        58     30         0     117      52       2 -2.667820 -1.380480   \n",
       "3        52     20         0      72      52       2 -2.132079 -1.270393   \n",
       "4        42     20         0      90      84       2 -2.316336 -1.161339   \n",
       "...     ...    ...       ...     ...     ...     ...       ...       ...   \n",
       "8446     17     30         0     130      64       1 -1.397057 -0.743575   \n",
       "8447     16     10         0      80      80       1 -1.367766 -0.766161   \n",
       "8448     16     20         0      80      64       1 -1.484928 -0.732670   \n",
       "8449     17     30         0      80     104       1 -1.708201 -0.777066   \n",
       "8450     21     30         0     100      80       1 -1.397057 -0.820688   \n",
       "\n",
       "           V_3  PRED  \n",
       "0    -2.343735     2  \n",
       "1    -2.522134     2  \n",
       "2    -2.221672     2  \n",
       "3    -1.719308     2  \n",
       "4    -2.220715     2  \n",
       "...        ...   ...  \n",
       "8446 -2.479473     2  \n",
       "8447 -2.071521     2  \n",
       "8448 -1.921290     2  \n",
       "8449 -2.296867     2  \n",
       "8450 -2.294794     2  \n",
       "\n",
       "[6768 rows x 32 columns]"
      ]
     },
     "execution_count": 314,
     "metadata": {},
     "output_type": "execute_result"
    }
   ],
   "source": [
    "test"
   ]
  },
  {
   "cell_type": "code",
   "execution_count": 315,
   "metadata": {},
   "outputs": [],
   "source": [
    "# df[\"V1\"] = database.valuesFromDatabase(V1)\n",
    "# df[\"V2\"] = database.valuesFromDatabase(V2)\n",
    "# df[\"V3\"] = database.valuesFromDatabase(V3)\n",
    "# df[\"PRED\"] = np.argmax(df[[\"V1\",\"V2\",\"V3\"]].values, axis=1) + 1"
   ]
  },
  {
   "cell_type": "code",
   "execution_count": 273,
   "metadata": {},
   "outputs": [],
   "source": [
    "# V1.getValue_c(database)"
   ]
  },
  {
   "cell_type": "code",
   "execution_count": 274,
   "metadata": {},
   "outputs": [],
   "source": [
    "cols = ['ID', 'PURPOSE', 'CHOICE', 'V1', 'V2', 'V3', 'PRED']"
   ]
  },
  {
   "cell_type": "code",
   "execution_count": 275,
   "metadata": {},
   "outputs": [
    {
     "data": {
      "text/html": [
       "<div>\n",
       "<style scoped>\n",
       "    .dataframe tbody tr th:only-of-type {\n",
       "        vertical-align: middle;\n",
       "    }\n",
       "\n",
       "    .dataframe tbody tr th {\n",
       "        vertical-align: top;\n",
       "    }\n",
       "\n",
       "    .dataframe thead th {\n",
       "        text-align: right;\n",
       "    }\n",
       "</style>\n",
       "<table border=\"1\" class=\"dataframe\">\n",
       "  <thead>\n",
       "    <tr style=\"text-align: right;\">\n",
       "      <th></th>\n",
       "      <th>ID</th>\n",
       "      <th>PURPOSE</th>\n",
       "      <th>CHOICE</th>\n",
       "      <th>V1</th>\n",
       "      <th>V2</th>\n",
       "      <th>V3</th>\n",
       "      <th>PRED</th>\n",
       "    </tr>\n",
       "  </thead>\n",
       "  <tbody>\n",
       "    <tr>\n",
       "      <th>0</th>\n",
       "      <td>1</td>\n",
       "      <td>1</td>\n",
       "      <td>2</td>\n",
       "      <td>-2.466875</td>\n",
       "      <td>-1.270393</td>\n",
       "      <td>-2.343735</td>\n",
       "      <td>2</td>\n",
       "    </tr>\n",
       "    <tr>\n",
       "      <th>1</th>\n",
       "      <td>1</td>\n",
       "      <td>1</td>\n",
       "      <td>2</td>\n",
       "      <td>-2.366402</td>\n",
       "      <td>-1.204186</td>\n",
       "      <td>-2.522134</td>\n",
       "      <td>2</td>\n",
       "    </tr>\n",
       "    <tr>\n",
       "      <th>2</th>\n",
       "      <td>1</td>\n",
       "      <td>1</td>\n",
       "      <td>2</td>\n",
       "      <td>-2.667820</td>\n",
       "      <td>-1.380480</td>\n",
       "      <td>-2.221672</td>\n",
       "      <td>2</td>\n",
       "    </tr>\n",
       "    <tr>\n",
       "      <th>3</th>\n",
       "      <td>1</td>\n",
       "      <td>1</td>\n",
       "      <td>2</td>\n",
       "      <td>-2.132079</td>\n",
       "      <td>-1.270393</td>\n",
       "      <td>-1.719308</td>\n",
       "      <td>2</td>\n",
       "    </tr>\n",
       "    <tr>\n",
       "      <th>4</th>\n",
       "      <td>1</td>\n",
       "      <td>1</td>\n",
       "      <td>2</td>\n",
       "      <td>-2.316336</td>\n",
       "      <td>-1.161339</td>\n",
       "      <td>-2.220715</td>\n",
       "      <td>2</td>\n",
       "    </tr>\n",
       "  </tbody>\n",
       "</table>\n",
       "</div>"
      ],
      "text/plain": [
       "   ID  PURPOSE  CHOICE        V1        V2        V3  PRED\n",
       "0   1        1       2 -2.466875 -1.270393 -2.343735     2\n",
       "1   1        1       2 -2.366402 -1.204186 -2.522134     2\n",
       "2   1        1       2 -2.667820 -1.380480 -2.221672     2\n",
       "3   1        1       2 -2.132079 -1.270393 -1.719308     2\n",
       "4   1        1       2 -2.316336 -1.161339 -2.220715     2"
      ]
     },
     "execution_count": 275,
     "metadata": {},
     "output_type": "execute_result"
    }
   ],
   "source": [
    "df[cols].head()"
   ]
  },
  {
   "cell_type": "code",
   "execution_count": 276,
   "metadata": {},
   "outputs": [],
   "source": [
    "def accuracy(actual, pred):\n",
    "    res = np.sum(np.array(actual) == np.array(pred)) / len(actual)\n",
    "    return res"
   ]
  },
  {
   "cell_type": "code",
   "execution_count": 277,
   "metadata": {},
   "outputs": [
    {
     "data": {
      "text/plain": [
       "0.5709219858156028"
      ]
     },
     "execution_count": 277,
     "metadata": {},
     "output_type": "execute_result"
    }
   ],
   "source": [
    "accuracy(df[\"CHOICE\"], df[\"PRED\"])"
   ]
  },
  {
   "cell_type": "markdown",
   "metadata": {},
   "source": [
    "## TEST ANOTHER CASE"
   ]
  },
  {
   "cell_type": "code",
   "execution_count": 46,
   "metadata": {},
   "outputs": [],
   "source": [
    "# Define Utility functions\n",
    "ASC_CAR = Beta('ASC_CAR', 0, None, None, 0)\n",
    "ASC_TRAIN = Beta('ASC_TRAIN', 0, None, None, 1)\n",
    "ASC_SM = Beta('ASC_SM', 0, None, None, 0)\n",
    "B_TIME = Beta('B_TIME', 0, None, None, 0)\n",
    "B_COST = Beta('B_COST', 0, None, None, 0)\n",
    "B_HE = Beta('B_HE', 0, None, None, 0)"
   ]
  },
  {
   "cell_type": "code",
   "execution_count": 48,
   "metadata": {},
   "outputs": [],
   "source": [
    "v_car = ASC_CAR + B_TIME * CAR_TT_SCALED + B_COST * CAR_CO_SCALED\n",
    "v_trn = ASC_TRAIN + B_TIME * TRAIN_TT_SCALED + B_COST * TRAIN_CO_SCALED + B_HE * TRAIN_HE\n",
    "v_sm  = ASC_SM + B_TIME * SM_TT_SCALED + B_COST * SM_CO_SCALED + B_HE * SM_HE\n",
    "\n",
    "av = {1:TRAIN_AV_SP, 2:SM_AV, 3: CAR_AV_SP}\n",
    "v = {1: v_trn, 2: v_sm, 3: v_car}\n",
    "logprob = models.logit(v, av, CHOICE)"
   ]
  },
  {
   "cell_type": "code",
   "execution_count": 49,
   "metadata": {},
   "outputs": [],
   "source": [
    "biogeme = bio.BIOGEME(database, logprob)\n",
    "biogeme.modelName = \"01_logit_mit\""
   ]
  },
  {
   "cell_type": "code",
   "execution_count": 50,
   "metadata": {},
   "outputs": [],
   "source": [
    "results = biogeme.estimate()"
   ]
  },
  {
   "cell_type": "code",
   "execution_count": 51,
   "metadata": {},
   "outputs": [
    {
     "data": {
      "text/plain": [
       "<biogeme.results.bioResults at 0x7f10e2320a30>"
      ]
     },
     "execution_count": 51,
     "metadata": {},
     "output_type": "execute_result"
    }
   ],
   "source": [
    "results"
   ]
  },
  {
   "cell_type": "code",
   "execution_count": 57,
   "metadata": {},
   "outputs": [
    {
     "data": {
      "text/html": [
       "<div>\n",
       "<style scoped>\n",
       "    .dataframe tbody tr th:only-of-type {\n",
       "        vertical-align: middle;\n",
       "    }\n",
       "\n",
       "    .dataframe tbody tr th {\n",
       "        vertical-align: top;\n",
       "    }\n",
       "\n",
       "    .dataframe thead th {\n",
       "        text-align: right;\n",
       "    }\n",
       "</style>\n",
       "<table border=\"1\" class=\"dataframe\">\n",
       "  <thead>\n",
       "    <tr style=\"text-align: right;\">\n",
       "      <th></th>\n",
       "      <th>Value</th>\n",
       "      <th>Std err</th>\n",
       "      <th>t-test</th>\n",
       "      <th>p-value</th>\n",
       "      <th>Rob. Std err</th>\n",
       "      <th>Rob. t-test</th>\n",
       "      <th>Rob. p-value</th>\n",
       "    </tr>\n",
       "  </thead>\n",
       "  <tbody>\n",
       "    <tr>\n",
       "      <th>ASC_CAR</th>\n",
       "      <td>17.890440</td>\n",
       "      <td>9.089397</td>\n",
       "      <td>1.968276</td>\n",
       "      <td>0.049036</td>\n",
       "      <td>3.849171</td>\n",
       "      <td>4.647868</td>\n",
       "      <td>0.000003</td>\n",
       "    </tr>\n",
       "    <tr>\n",
       "      <th>ASC_SM</th>\n",
       "      <td>40.801820</td>\n",
       "      <td>15.012395</td>\n",
       "      <td>2.717875</td>\n",
       "      <td>0.006570</td>\n",
       "      <td>8.669971</td>\n",
       "      <td>4.706108</td>\n",
       "      <td>0.000003</td>\n",
       "    </tr>\n",
       "    <tr>\n",
       "      <th>B_COST</th>\n",
       "      <td>-163.664660</td>\n",
       "      <td>60.312231</td>\n",
       "      <td>-2.713623</td>\n",
       "      <td>0.006655</td>\n",
       "      <td>41.420026</td>\n",
       "      <td>-3.951341</td>\n",
       "      <td>0.000078</td>\n",
       "    </tr>\n",
       "    <tr>\n",
       "      <th>B_HE</th>\n",
       "      <td>-1.111451</td>\n",
       "      <td>0.423329</td>\n",
       "      <td>-2.625502</td>\n",
       "      <td>0.008652</td>\n",
       "      <td>0.313539</td>\n",
       "      <td>-3.544856</td>\n",
       "      <td>0.000393</td>\n",
       "    </tr>\n",
       "    <tr>\n",
       "      <th>B_TIME</th>\n",
       "      <td>-188.087538</td>\n",
       "      <td>69.221641</td>\n",
       "      <td>-2.717178</td>\n",
       "      <td>0.006584</td>\n",
       "      <td>47.601760</td>\n",
       "      <td>-3.951273</td>\n",
       "      <td>0.000078</td>\n",
       "    </tr>\n",
       "  </tbody>\n",
       "</table>\n",
       "</div>"
      ],
      "text/plain": [
       "              Value    Std err    t-test   p-value  Rob. Std err  Rob. t-test  \\\n",
       "ASC_CAR   17.890440   9.089397  1.968276  0.049036      3.849171     4.647868   \n",
       "ASC_SM    40.801820  15.012395  2.717875  0.006570      8.669971     4.706108   \n",
       "B_COST  -163.664660  60.312231 -2.713623  0.006655     41.420026    -3.951341   \n",
       "B_HE      -1.111451   0.423329 -2.625502  0.008652      0.313539    -3.544856   \n",
       "B_TIME  -188.087538  69.221641 -2.717178  0.006584     47.601760    -3.951273   \n",
       "\n",
       "         Rob. p-value  \n",
       "ASC_CAR      0.000003  \n",
       "ASC_SM       0.000003  \n",
       "B_COST       0.000078  \n",
       "B_HE         0.000393  \n",
       "B_TIME       0.000078  "
      ]
     },
     "execution_count": 57,
     "metadata": {},
     "output_type": "execute_result"
    }
   ],
   "source": [
    "results.getEstimatedParameters()"
   ]
  },
  {
   "cell_type": "markdown",
   "metadata": {},
   "source": [
    "### OPTION 2"
   ]
  },
  {
   "cell_type": "code",
   "execution_count": 78,
   "metadata": {},
   "outputs": [
    {
     "data": {
      "text/plain": [
       "(10728, 28)"
      ]
     },
     "execution_count": 78,
     "metadata": {},
     "output_type": "execute_result"
    }
   ],
   "source": [
    "# Read data\n",
    "df = pd.read_csv(\"../data/swissmetro.dat\",'\\t')\n",
    "df.shape"
   ]
  },
  {
   "cell_type": "code",
   "execution_count": 79,
   "metadata": {},
   "outputs": [
    {
     "data": {
      "text/html": [
       "<div>\n",
       "<style scoped>\n",
       "    .dataframe tbody tr th:only-of-type {\n",
       "        vertical-align: middle;\n",
       "    }\n",
       "\n",
       "    .dataframe tbody tr th {\n",
       "        vertical-align: top;\n",
       "    }\n",
       "\n",
       "    .dataframe thead th {\n",
       "        text-align: right;\n",
       "    }\n",
       "</style>\n",
       "<table border=\"1\" class=\"dataframe\">\n",
       "  <thead>\n",
       "    <tr style=\"text-align: right;\">\n",
       "      <th></th>\n",
       "      <th>GROUP</th>\n",
       "      <th>SURVEY</th>\n",
       "      <th>SP</th>\n",
       "      <th>ID</th>\n",
       "      <th>PURPOSE</th>\n",
       "      <th>FIRST</th>\n",
       "      <th>TICKET</th>\n",
       "      <th>WHO</th>\n",
       "      <th>LUGGAGE</th>\n",
       "      <th>AGE</th>\n",
       "      <th>...</th>\n",
       "      <th>TRAIN_TT</th>\n",
       "      <th>TRAIN_CO</th>\n",
       "      <th>TRAIN_HE</th>\n",
       "      <th>SM_TT</th>\n",
       "      <th>SM_CO</th>\n",
       "      <th>SM_HE</th>\n",
       "      <th>SM_SEATS</th>\n",
       "      <th>CAR_TT</th>\n",
       "      <th>CAR_CO</th>\n",
       "      <th>CHOICE</th>\n",
       "    </tr>\n",
       "  </thead>\n",
       "  <tbody>\n",
       "    <tr>\n",
       "      <th>0</th>\n",
       "      <td>2</td>\n",
       "      <td>0</td>\n",
       "      <td>1</td>\n",
       "      <td>1</td>\n",
       "      <td>1</td>\n",
       "      <td>0</td>\n",
       "      <td>1</td>\n",
       "      <td>1</td>\n",
       "      <td>0</td>\n",
       "      <td>3</td>\n",
       "      <td>...</td>\n",
       "      <td>112</td>\n",
       "      <td>48</td>\n",
       "      <td>120</td>\n",
       "      <td>63</td>\n",
       "      <td>52</td>\n",
       "      <td>20</td>\n",
       "      <td>0</td>\n",
       "      <td>117</td>\n",
       "      <td>65</td>\n",
       "      <td>2</td>\n",
       "    </tr>\n",
       "    <tr>\n",
       "      <th>1</th>\n",
       "      <td>2</td>\n",
       "      <td>0</td>\n",
       "      <td>1</td>\n",
       "      <td>1</td>\n",
       "      <td>1</td>\n",
       "      <td>0</td>\n",
       "      <td>1</td>\n",
       "      <td>1</td>\n",
       "      <td>0</td>\n",
       "      <td>3</td>\n",
       "      <td>...</td>\n",
       "      <td>103</td>\n",
       "      <td>48</td>\n",
       "      <td>30</td>\n",
       "      <td>60</td>\n",
       "      <td>49</td>\n",
       "      <td>10</td>\n",
       "      <td>0</td>\n",
       "      <td>117</td>\n",
       "      <td>84</td>\n",
       "      <td>2</td>\n",
       "    </tr>\n",
       "    <tr>\n",
       "      <th>2</th>\n",
       "      <td>2</td>\n",
       "      <td>0</td>\n",
       "      <td>1</td>\n",
       "      <td>1</td>\n",
       "      <td>1</td>\n",
       "      <td>0</td>\n",
       "      <td>1</td>\n",
       "      <td>1</td>\n",
       "      <td>0</td>\n",
       "      <td>3</td>\n",
       "      <td>...</td>\n",
       "      <td>130</td>\n",
       "      <td>48</td>\n",
       "      <td>60</td>\n",
       "      <td>67</td>\n",
       "      <td>58</td>\n",
       "      <td>30</td>\n",
       "      <td>0</td>\n",
       "      <td>117</td>\n",
       "      <td>52</td>\n",
       "      <td>2</td>\n",
       "    </tr>\n",
       "    <tr>\n",
       "      <th>3</th>\n",
       "      <td>2</td>\n",
       "      <td>0</td>\n",
       "      <td>1</td>\n",
       "      <td>1</td>\n",
       "      <td>1</td>\n",
       "      <td>0</td>\n",
       "      <td>1</td>\n",
       "      <td>1</td>\n",
       "      <td>0</td>\n",
       "      <td>3</td>\n",
       "      <td>...</td>\n",
       "      <td>103</td>\n",
       "      <td>40</td>\n",
       "      <td>30</td>\n",
       "      <td>63</td>\n",
       "      <td>52</td>\n",
       "      <td>20</td>\n",
       "      <td>0</td>\n",
       "      <td>72</td>\n",
       "      <td>52</td>\n",
       "      <td>2</td>\n",
       "    </tr>\n",
       "    <tr>\n",
       "      <th>4</th>\n",
       "      <td>2</td>\n",
       "      <td>0</td>\n",
       "      <td>1</td>\n",
       "      <td>1</td>\n",
       "      <td>1</td>\n",
       "      <td>0</td>\n",
       "      <td>1</td>\n",
       "      <td>1</td>\n",
       "      <td>0</td>\n",
       "      <td>3</td>\n",
       "      <td>...</td>\n",
       "      <td>130</td>\n",
       "      <td>36</td>\n",
       "      <td>60</td>\n",
       "      <td>63</td>\n",
       "      <td>42</td>\n",
       "      <td>20</td>\n",
       "      <td>0</td>\n",
       "      <td>90</td>\n",
       "      <td>84</td>\n",
       "      <td>2</td>\n",
       "    </tr>\n",
       "  </tbody>\n",
       "</table>\n",
       "<p>5 rows × 28 columns</p>\n",
       "</div>"
      ],
      "text/plain": [
       "   GROUP  SURVEY  SP  ID  PURPOSE  FIRST  TICKET  WHO  LUGGAGE  AGE  ...  \\\n",
       "0      2       0   1   1        1      0       1    1        0    3  ...   \n",
       "1      2       0   1   1        1      0       1    1        0    3  ...   \n",
       "2      2       0   1   1        1      0       1    1        0    3  ...   \n",
       "3      2       0   1   1        1      0       1    1        0    3  ...   \n",
       "4      2       0   1   1        1      0       1    1        0    3  ...   \n",
       "\n",
       "   TRAIN_TT  TRAIN_CO  TRAIN_HE  SM_TT  SM_CO  SM_HE  SM_SEATS  CAR_TT  \\\n",
       "0       112        48       120     63     52     20         0     117   \n",
       "1       103        48        30     60     49     10         0     117   \n",
       "2       130        48        60     67     58     30         0     117   \n",
       "3       103        40        30     63     52     20         0      72   \n",
       "4       130        36        60     63     42     20         0      90   \n",
       "\n",
       "   CAR_CO  CHOICE  \n",
       "0      65       2  \n",
       "1      84       2  \n",
       "2      52       2  \n",
       "3      52       2  \n",
       "4      84       2  \n",
       "\n",
       "[5 rows x 28 columns]"
      ]
     },
     "execution_count": 79,
     "metadata": {},
     "output_type": "execute_result"
    }
   ],
   "source": [
    "df.head()"
   ]
  },
  {
   "cell_type": "code",
   "execution_count": 80,
   "metadata": {},
   "outputs": [],
   "source": [
    "df[\"SENIOR\"] = df.AGE > 65"
   ]
  },
  {
   "cell_type": "code",
   "execution_count": 81,
   "metadata": {},
   "outputs": [],
   "source": [
    "df[\"SENIOR\"] = df[\"SENIOR\"].astype(int)"
   ]
  },
  {
   "cell_type": "code",
   "execution_count": 82,
   "metadata": {},
   "outputs": [],
   "source": [
    "# Convert to biogeme database\n",
    "database = db.Database('swissmetro',df)"
   ]
  },
  {
   "cell_type": "code",
   "execution_count": 83,
   "metadata": {},
   "outputs": [],
   "source": [
    "# Remove some observations\n",
    "exclude = ((PURPOSE != 1) * (PURPOSE != 3) + (CHOICE == 0)) > 0\n",
    "database.remove(exclude)"
   ]
  },
  {
   "cell_type": "code",
   "execution_count": 84,
   "metadata": {},
   "outputs": [],
   "source": [
    "# Define Utility functions\n",
    "ASC_CAR = Beta('ASC_CAR', 0, None, None, 0)\n",
    "ASC_TRAIN = Beta('ASC_TRAIN', 0, None, None, 1)\n",
    "ASC_SM = Beta('ASC_SM', 0, None, None, 0)\n",
    "B_TIME = Beta('B_TIME', 0, None, None, 0)\n",
    "B_COST_CAR = Beta('B_COST_CAR', 0, None, None, 0)\n",
    "B_COST_TRAIN = Beta('B_COST_TRAIN', 0, None, None, 0)\n",
    "B_COST_SM = Beta('B_COST_SM', 0, None, None, 0)\n",
    "B_HE = Beta('B_HE', 0, None, None, 0)\n",
    "B_GA = Beta('B_GA', 0, None, None, 0)\n",
    "\n",
    "v_car = ASC_CAR + B_TIME * CAR_TT + B_COST_CAR * CAR_CO\n",
    "v_trn = ASC_TRAIN + B_TIME * TRAIN_TT + B_COST_TRAIN * TRAIN_CO + B_HE * TRAIN_HE + B_GA * GA\n",
    "v_sm  = ASC_SM + B_TIME * SM_TT + B_COST_SM * SM_CO + B_HE * SM_HE  + B_GA * GA\n",
    "\n",
    "av = {1:TRAIN_AV_SP, 2:SM_AV, 3: CAR_AV_SP}\n",
    "v = {1: v_trn, 2: v_sm, 3: v_car}\n",
    "logprob = models.logit(v, av, CHOICE)"
   ]
  },
  {
   "cell_type": "code",
   "execution_count": 85,
   "metadata": {},
   "outputs": [],
   "source": [
    "biogeme = bio.BIOGEME(database, logprob)"
   ]
  },
  {
   "cell_type": "code",
   "execution_count": 86,
   "metadata": {},
   "outputs": [
    {
     "name": "stderr",
     "output_type": "stream",
     "text": [
      "/home/danph/anaconda3/envs/dev/lib/python3.8/site-packages/biogeme/optimization.py:462: RuntimeWarning: invalid value encountered in multiply\n",
      "  x = self.project(x + delta_t * d)\n"
     ]
    }
   ],
   "source": [
    "results = biogeme.estimate()"
   ]
  },
  {
   "cell_type": "code",
   "execution_count": 87,
   "metadata": {},
   "outputs": [
    {
     "data": {
      "text/html": [
       "<div>\n",
       "<style scoped>\n",
       "    .dataframe tbody tr th:only-of-type {\n",
       "        vertical-align: middle;\n",
       "    }\n",
       "\n",
       "    .dataframe tbody tr th {\n",
       "        vertical-align: top;\n",
       "    }\n",
       "\n",
       "    .dataframe thead th {\n",
       "        text-align: right;\n",
       "    }\n",
       "</style>\n",
       "<table border=\"1\" class=\"dataframe\">\n",
       "  <thead>\n",
       "    <tr style=\"text-align: right;\">\n",
       "      <th></th>\n",
       "      <th>Value</th>\n",
       "      <th>Std err</th>\n",
       "      <th>t-test</th>\n",
       "      <th>p-value</th>\n",
       "      <th>Rob. Std err</th>\n",
       "      <th>Rob. t-test</th>\n",
       "      <th>Rob. p-value</th>\n",
       "    </tr>\n",
       "  </thead>\n",
       "  <tbody>\n",
       "    <tr>\n",
       "      <th>ASC_CAR</th>\n",
       "      <td>-43.811665</td>\n",
       "      <td>2.412671e+01</td>\n",
       "      <td>-1.815899e+00</td>\n",
       "      <td>0.069386</td>\n",
       "      <td>5.781173e+00</td>\n",
       "      <td>-7.578335e+00</td>\n",
       "      <td>3.508305e-14</td>\n",
       "    </tr>\n",
       "    <tr>\n",
       "      <th>ASC_SM</th>\n",
       "      <td>32.005619</td>\n",
       "      <td>2.196239e+01</td>\n",
       "      <td>1.457292e+00</td>\n",
       "      <td>0.145036</td>\n",
       "      <td>6.569427e+00</td>\n",
       "      <td>4.871904e+00</td>\n",
       "      <td>1.105276e-06</td>\n",
       "    </tr>\n",
       "    <tr>\n",
       "      <th>B_COST_CAR</th>\n",
       "      <td>-17.334401</td>\n",
       "      <td>1.114207e+01</td>\n",
       "      <td>-1.555761e+00</td>\n",
       "      <td>0.119765</td>\n",
       "      <td>3.020679e+00</td>\n",
       "      <td>-5.738578e+00</td>\n",
       "      <td>9.547480e-09</td>\n",
       "    </tr>\n",
       "    <tr>\n",
       "      <th>B_COST_SM</th>\n",
       "      <td>-17.710067</td>\n",
       "      <td>1.135941e+01</td>\n",
       "      <td>-1.559066e+00</td>\n",
       "      <td>0.118981</td>\n",
       "      <td>3.059432e+00</td>\n",
       "      <td>-5.788677e+00</td>\n",
       "      <td>7.094284e-09</td>\n",
       "    </tr>\n",
       "    <tr>\n",
       "      <th>B_COST_TRAIN</th>\n",
       "      <td>-22.632500</td>\n",
       "      <td>1.451853e+01</td>\n",
       "      <td>-1.558870e+00</td>\n",
       "      <td>0.119027</td>\n",
       "      <td>3.910867e+00</td>\n",
       "      <td>-5.787080e+00</td>\n",
       "      <td>7.162031e-09</td>\n",
       "    </tr>\n",
       "    <tr>\n",
       "      <th>B_GA</th>\n",
       "      <td>0.353409</td>\n",
       "      <td>1.506707e-08</td>\n",
       "      <td>2.345569e+07</td>\n",
       "      <td>0.000000</td>\n",
       "      <td>3.865332e-09</td>\n",
       "      <td>9.143034e+07</td>\n",
       "      <td>0.000000e+00</td>\n",
       "    </tr>\n",
       "    <tr>\n",
       "      <th>B_HE</th>\n",
       "      <td>-6.846326</td>\n",
       "      <td>4.359428e+00</td>\n",
       "      <td>-1.570464e+00</td>\n",
       "      <td>0.116307</td>\n",
       "      <td>1.149300e+00</td>\n",
       "      <td>-5.956955e+00</td>\n",
       "      <td>2.569810e-09</td>\n",
       "    </tr>\n",
       "    <tr>\n",
       "      <th>B_TIME</th>\n",
       "      <td>-22.739649</td>\n",
       "      <td>1.456489e+01</td>\n",
       "      <td>-1.561264e+00</td>\n",
       "      <td>0.118461</td>\n",
       "      <td>3.900223e+00</td>\n",
       "      <td>-5.830345e+00</td>\n",
       "      <td>5.531274e-09</td>\n",
       "    </tr>\n",
       "  </tbody>\n",
       "</table>\n",
       "</div>"
      ],
      "text/plain": [
       "                  Value       Std err        t-test   p-value  Rob. Std err  \\\n",
       "ASC_CAR      -43.811665  2.412671e+01 -1.815899e+00  0.069386  5.781173e+00   \n",
       "ASC_SM        32.005619  2.196239e+01  1.457292e+00  0.145036  6.569427e+00   \n",
       "B_COST_CAR   -17.334401  1.114207e+01 -1.555761e+00  0.119765  3.020679e+00   \n",
       "B_COST_SM    -17.710067  1.135941e+01 -1.559066e+00  0.118981  3.059432e+00   \n",
       "B_COST_TRAIN -22.632500  1.451853e+01 -1.558870e+00  0.119027  3.910867e+00   \n",
       "B_GA           0.353409  1.506707e-08  2.345569e+07  0.000000  3.865332e-09   \n",
       "B_HE          -6.846326  4.359428e+00 -1.570464e+00  0.116307  1.149300e+00   \n",
       "B_TIME       -22.739649  1.456489e+01 -1.561264e+00  0.118461  3.900223e+00   \n",
       "\n",
       "               Rob. t-test  Rob. p-value  \n",
       "ASC_CAR      -7.578335e+00  3.508305e-14  \n",
       "ASC_SM        4.871904e+00  1.105276e-06  \n",
       "B_COST_CAR   -5.738578e+00  9.547480e-09  \n",
       "B_COST_SM    -5.788677e+00  7.094284e-09  \n",
       "B_COST_TRAIN -5.787080e+00  7.162031e-09  \n",
       "B_GA          9.143034e+07  0.000000e+00  \n",
       "B_HE         -5.956955e+00  2.569810e-09  \n",
       "B_TIME       -5.830345e+00  5.531274e-09  "
      ]
     },
     "execution_count": 87,
     "metadata": {},
     "output_type": "execute_result"
    }
   ],
   "source": [
    "results.getEstimatedParameters()"
   ]
  },
  {
   "cell_type": "code",
   "execution_count": null,
   "metadata": {},
   "outputs": [],
   "source": []
  }
 ],
 "metadata": {
  "kernelspec": {
   "display_name": "Python 3",
   "language": "python",
   "name": "python3"
  },
  "language_info": {
   "codemirror_mode": {
    "name": "ipython",
    "version": 3
   },
   "file_extension": ".py",
   "mimetype": "text/x-python",
   "name": "python",
   "nbconvert_exporter": "python",
   "pygments_lexer": "ipython3",
   "version": "3.8.5"
  }
 },
 "nbformat": 4,
 "nbformat_minor": 4
}
