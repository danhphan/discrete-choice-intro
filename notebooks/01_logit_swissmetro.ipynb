{
 "cells": [
  {
   "cell_type": "code",
   "execution_count": 1,
   "metadata": {},
   "outputs": [],
   "source": [
    "import pandas as pd\n",
    "import biogeme.database as db\n",
    "import biogeme.biogeme as bio\n",
    "import biogeme.models as models\n",
    "from biogeme.expressions import Beta"
   ]
  },
  {
   "cell_type": "code",
   "execution_count": 2,
   "metadata": {},
   "outputs": [
    {
     "data": {
      "text/plain": [
       "(10728, 28)"
      ]
     },
     "execution_count": 2,
     "metadata": {},
     "output_type": "execute_result"
    }
   ],
   "source": [
    "# Read data\n",
    "df = pd.read_csv(\"../data/swissmetro.dat\",'\\t')\n",
    "df.shape"
   ]
  },
  {
   "cell_type": "code",
   "execution_count": 3,
   "metadata": {},
   "outputs": [
    {
     "data": {
      "text/plain": [
       "biogeme.database.Database"
      ]
     },
     "execution_count": 3,
     "metadata": {},
     "output_type": "execute_result"
    }
   ],
   "source": [
    "# Convert to biogeme database\n",
    "database = db.Database('swissmetro',df)\n",
    "type(database)"
   ]
  },
  {
   "cell_type": "code",
   "execution_count": 4,
   "metadata": {},
   "outputs": [],
   "source": [
    "globals().update(database.variables)"
   ]
  },
  {
   "cell_type": "code",
   "execution_count": 8,
   "metadata": {},
   "outputs": [],
   "source": [
    "# Remove some observations\n",
    "exclude = ((PURPOSE != 1) * (PURPOSE != 3) + (CHOICE == 0)) > 0\n",
    "database.remove(exclude)"
   ]
  },
  {
   "cell_type": "code",
   "execution_count": 33,
   "metadata": {},
   "outputs": [
    {
     "data": {
      "text/plain": [
       "(6768, 28)"
      ]
     },
     "execution_count": 33,
     "metadata": {},
     "output_type": "execute_result"
    }
   ],
   "source": [
    "database.data.shape"
   ]
  },
  {
   "cell_type": "code",
   "execution_count": 34,
   "metadata": {},
   "outputs": [],
   "source": [
    "# Paramaters\n",
    "ASC_CAR = Beta('ASC_CAR', 0, None, None, 0)\n",
    "ASC_TRAIN = Beta('ASC_TRAIN', 0, None, None, 0)\n",
    "ASC_SM = Beta('ASC_SM', 0, None, None, 1)\n",
    "B_TIME = Beta('B_TIME', 0, None, None, 0)\n",
    "B_COST = Beta('B_COST', 0, None, None, 0)"
   ]
  },
  {
   "cell_type": "code",
   "execution_count": 35,
   "metadata": {},
   "outputs": [
    {
     "data": {
      "text/plain": [
       "Index(['GROUP', 'SURVEY', 'SP', 'ID', 'PURPOSE', 'FIRST', 'TICKET', 'WHO',\n",
       "       'LUGGAGE', 'AGE', 'MALE', 'INCOME', 'GA', 'ORIGIN', 'DEST', 'TRAIN_AV',\n",
       "       'CAR_AV', 'SM_AV', 'TRAIN_TT', 'TRAIN_CO', 'TRAIN_HE', 'SM_TT', 'SM_CO',\n",
       "       'SM_HE', 'SM_SEATS', 'CAR_TT', 'CAR_CO', 'CHOICE'],\n",
       "      dtype='object')"
      ]
     },
     "execution_count": 35,
     "metadata": {},
     "output_type": "execute_result"
    }
   ],
   "source": [
    "database.data.columns"
   ]
  },
  {
   "cell_type": "code",
   "execution_count": 36,
   "metadata": {},
   "outputs": [
    {
     "data": {
      "text/html": [
       "<div>\n",
       "<style scoped>\n",
       "    .dataframe tbody tr th:only-of-type {\n",
       "        vertical-align: middle;\n",
       "    }\n",
       "\n",
       "    .dataframe tbody tr th {\n",
       "        vertical-align: top;\n",
       "    }\n",
       "\n",
       "    .dataframe thead th {\n",
       "        text-align: right;\n",
       "    }\n",
       "</style>\n",
       "<table border=\"1\" class=\"dataframe\">\n",
       "  <thead>\n",
       "    <tr style=\"text-align: right;\">\n",
       "      <th></th>\n",
       "      <th>TRAIN_TT</th>\n",
       "      <th>TRAIN_CO</th>\n",
       "      <th>SM_TT</th>\n",
       "      <th>SM_CO</th>\n",
       "      <th>CAR_TT</th>\n",
       "      <th>CAR_CO</th>\n",
       "    </tr>\n",
       "  </thead>\n",
       "  <tbody>\n",
       "    <tr>\n",
       "      <th>count</th>\n",
       "      <td>6768.000000</td>\n",
       "      <td>6768.000000</td>\n",
       "      <td>6768.000000</td>\n",
       "      <td>6768.000000</td>\n",
       "      <td>6768.000000</td>\n",
       "      <td>6768.000000</td>\n",
       "    </tr>\n",
       "    <tr>\n",
       "      <th>mean</th>\n",
       "      <td>166.077423</td>\n",
       "      <td>490.885195</td>\n",
       "      <td>84.507388</td>\n",
       "      <td>641.066489</td>\n",
       "      <td>123.154846</td>\n",
       "      <td>78.655881</td>\n",
       "    </tr>\n",
       "    <tr>\n",
       "      <th>std</th>\n",
       "      <td>69.795646</td>\n",
       "      <td>1062.593533</td>\n",
       "      <td>47.113140</td>\n",
       "      <td>1411.658237</td>\n",
       "      <td>91.718406</td>\n",
       "      <td>55.921803</td>\n",
       "    </tr>\n",
       "    <tr>\n",
       "      <th>min</th>\n",
       "      <td>35.000000</td>\n",
       "      <td>9.000000</td>\n",
       "      <td>12.000000</td>\n",
       "      <td>11.000000</td>\n",
       "      <td>0.000000</td>\n",
       "      <td>0.000000</td>\n",
       "    </tr>\n",
       "    <tr>\n",
       "      <th>25%</th>\n",
       "      <td>112.000000</td>\n",
       "      <td>60.000000</td>\n",
       "      <td>55.000000</td>\n",
       "      <td>74.000000</td>\n",
       "      <td>70.000000</td>\n",
       "      <td>40.000000</td>\n",
       "    </tr>\n",
       "    <tr>\n",
       "      <th>50%</th>\n",
       "      <td>159.000000</td>\n",
       "      <td>94.000000</td>\n",
       "      <td>77.000000</td>\n",
       "      <td>112.000000</td>\n",
       "      <td>120.000000</td>\n",
       "      <td>76.000000</td>\n",
       "    </tr>\n",
       "    <tr>\n",
       "      <th>75%</th>\n",
       "      <td>206.000000</td>\n",
       "      <td>166.000000</td>\n",
       "      <td>105.000000</td>\n",
       "      <td>196.000000</td>\n",
       "      <td>176.000000</td>\n",
       "      <td>115.000000</td>\n",
       "    </tr>\n",
       "    <tr>\n",
       "      <th>max</th>\n",
       "      <td>1022.000000</td>\n",
       "      <td>5040.000000</td>\n",
       "      <td>796.000000</td>\n",
       "      <td>6720.000000</td>\n",
       "      <td>1560.000000</td>\n",
       "      <td>520.000000</td>\n",
       "    </tr>\n",
       "  </tbody>\n",
       "</table>\n",
       "</div>"
      ],
      "text/plain": [
       "          TRAIN_TT     TRAIN_CO        SM_TT        SM_CO       CAR_TT  \\\n",
       "count  6768.000000  6768.000000  6768.000000  6768.000000  6768.000000   \n",
       "mean    166.077423   490.885195    84.507388   641.066489   123.154846   \n",
       "std      69.795646  1062.593533    47.113140  1411.658237    91.718406   \n",
       "min      35.000000     9.000000    12.000000    11.000000     0.000000   \n",
       "25%     112.000000    60.000000    55.000000    74.000000    70.000000   \n",
       "50%     159.000000    94.000000    77.000000   112.000000   120.000000   \n",
       "75%     206.000000   166.000000   105.000000   196.000000   176.000000   \n",
       "max    1022.000000  5040.000000   796.000000  6720.000000  1560.000000   \n",
       "\n",
       "            CAR_CO  \n",
       "count  6768.000000  \n",
       "mean     78.655881  \n",
       "std      55.921803  \n",
       "min       0.000000  \n",
       "25%      40.000000  \n",
       "50%      76.000000  \n",
       "75%     115.000000  \n",
       "max     520.000000  "
      ]
     },
     "execution_count": 36,
     "metadata": {},
     "output_type": "execute_result"
    }
   ],
   "source": [
    "database.data[['TRAIN_TT', \"TRAIN_CO\", 'SM_TT', \"SM_CO\", \"CAR_TT\", \"CAR_CO\"]].describe()"
   ]
  },
  {
   "cell_type": "code",
   "execution_count": 41,
   "metadata": {},
   "outputs": [],
   "source": [
    "# Define new variables\n",
    "SM_COST = SM_CO * (GA == 0)\n",
    "TRAIN_COST = TRAIN_CO * (GA == 0)\n",
    "CAR_AV_SP = CAR_AV * (SP != 0)\n",
    "TRAIN_AV_SP = TRAIN_AV * (SP != 0)\n",
    "TRAIN_TT_SCALED = TRAIN_TT / 100.0\n",
    "TRAIN_CO_SCALED = TRAIN_COST / 100.0\n",
    "SM_TT_SCALED = SM_TT / 100.0\n",
    "SM_CO_SCALED = SM_COST / 100.0\n",
    "CAR_TT_SCALED = CAR_TT / 100.0\n",
    "CAR_CO_SCALED = CAR_CO / 100.0"
   ]
  },
  {
   "cell_type": "code",
   "execution_count": 42,
   "metadata": {},
   "outputs": [],
   "source": [
    "# Define Utility functions\n",
    "V1 = (ASC_TRAIN + B_TIME * TRAIN_TT_SCALED + \\\n",
    "                  B_COST * TRAIN_CO_SCALED)\n",
    "V2 = (ASC_SM  + B_TIME * SM_TT_SCALED + \\\n",
    "                B_COST * SM_CO_SCALED)\n",
    "V3 = (ASC_CAR + B_TIME * CAR_TT_SCALED + \\\n",
    "                B_COST * CAR_CO_SCALED)"
   ]
  },
  {
   "cell_type": "code",
   "execution_count": 44,
   "metadata": {},
   "outputs": [],
   "source": [
    "# Availability and loglikelihood\n",
    "av = {1:TRAIN_AV_SP, 2:SM_AV, 3: CAR_AV_SP}\n",
    "V = {1: V1, 2: V2, 3: V3}\n",
    "logprob = models.loglogit(V, av, CHOICE)"
   ]
  },
  {
   "cell_type": "code",
   "execution_count": 45,
   "metadata": {},
   "outputs": [
    {
     "data": {
      "text/plain": [
       "biogeme.expressions._bioLogLogit"
      ]
     },
     "execution_count": 45,
     "metadata": {},
     "output_type": "execute_result"
    }
   ],
   "source": [
    "type(logprob)"
   ]
  },
  {
   "cell_type": "code",
   "execution_count": 50,
   "metadata": {},
   "outputs": [
    {
     "data": {
      "text/plain": [
       "biogeme.biogeme.BIOGEME"
      ]
     },
     "execution_count": 50,
     "metadata": {},
     "output_type": "execute_result"
    }
   ],
   "source": [
    "# Create biogeme object\n",
    "biogeme = bio.BIOGEME(database, logprob)\n",
    "type(biogeme)"
   ]
  },
  {
   "cell_type": "code",
   "execution_count": 59,
   "metadata": {},
   "outputs": [
    {
     "data": {
      "text/plain": [
       "<bound method Expression.embedExpression of _bioLogLogit(1:((ASC_TRAIN(0) + (B_TIME(0) * (TRAIN_TT / `100.0`))) + (B_COST(0) * ((TRAIN_CO * (GA == `0`)) / `100.0`))), 2:((ASC_SM(0) + (B_TIME(0) * (SM_TT / `100.0`))) + (B_COST(0) * ((SM_CO * (GA == `0`)) / `100.0`))), 3:((ASC_CAR(0) + (B_TIME(0) * (CAR_TT / `100.0`))) + (B_COST(0) * (CAR_CO / `100.0`))))>"
      ]
     },
     "execution_count": 59,
     "metadata": {},
     "output_type": "execute_result"
    }
   ],
   "source": [
    "logprob.embedExpression"
   ]
  },
  {
   "cell_type": "code",
   "execution_count": 51,
   "metadata": {},
   "outputs": [
    {
     "data": {
      "text/plain": [
       "['__class__',\n",
       " '__delattr__',\n",
       " '__dict__',\n",
       " '__dir__',\n",
       " '__doc__',\n",
       " '__eq__',\n",
       " '__format__',\n",
       " '__ge__',\n",
       " '__getattribute__',\n",
       " '__gt__',\n",
       " '__hash__',\n",
       " '__init__',\n",
       " '__init_subclass__',\n",
       " '__le__',\n",
       " '__lt__',\n",
       " '__module__',\n",
       " '__ne__',\n",
       " '__new__',\n",
       " '__reduce__',\n",
       " '__reduce_ex__',\n",
       " '__repr__',\n",
       " '__setattr__',\n",
       " '__sizeof__',\n",
       " '__str__',\n",
       " '__subclasshook__',\n",
       " '__weakref__',\n",
       " '_audit',\n",
       " '_generateDraws',\n",
       " '_prepareDatabaseForFormula',\n",
       " '_prepareLiterals',\n",
       " 'algoParameters',\n",
       " 'algorithm',\n",
       " 'allDraws',\n",
       " 'allFixedBetas',\n",
       " 'allFreeBetas',\n",
       " 'allRandomVariables',\n",
       " 'bestIteration',\n",
       " 'betaIds',\n",
       " 'betaInitValues',\n",
       " 'bootstrap_results',\n",
       " 'bootstrap_time',\n",
       " 'bounds',\n",
       " 'calculateInitLikelihood',\n",
       " 'calculateLikelihood',\n",
       " 'calculateLikelihoodAndDerivatives',\n",
       " 'cfsqp',\n",
       " 'cfsqp_default_bounds',\n",
       " 'changeInitValues',\n",
       " 'checkDerivatives',\n",
       " 'columnForBatchSamplingWeights',\n",
       " 'confidenceIntervals',\n",
       " 'createLogFile',\n",
       " 'database',\n",
       " 'drawNames',\n",
       " 'drawsProcessingTime',\n",
       " 'elementaryExpressionIndex',\n",
       " 'estimate',\n",
       " 'file_iterations',\n",
       " 'fixedBetaNames',\n",
       " 'fixedBetaValues',\n",
       " 'formulas',\n",
       " 'freeBetaNames',\n",
       " 'generateHtml',\n",
       " 'generatePickle',\n",
       " 'getBoundsOnBeta',\n",
       " 'initLogLike',\n",
       " 'lastSample',\n",
       " 'likelihoodFiniteDifferenceHessian',\n",
       " 'loadSavedIteration',\n",
       " 'logger',\n",
       " 'loglike',\n",
       " 'loglikeName',\n",
       " 'loglikeSignatures',\n",
       " 'missingData',\n",
       " 'modelName',\n",
       " 'monteCarlo',\n",
       " 'numberOfDraws',\n",
       " 'numberOfThreads',\n",
       " 'optimizationMessages',\n",
       " 'optimize',\n",
       " 'quickEstimate',\n",
       " 'randomVariableNames',\n",
       " 'saveIterations',\n",
       " 'simulate',\n",
       " 'theC',\n",
       " 'usedVariables',\n",
       " 'userNotes',\n",
       " 'validate',\n",
       " 'weight',\n",
       " 'weightName']"
      ]
     },
     "execution_count": 51,
     "metadata": {},
     "output_type": "execute_result"
    }
   ],
   "source": [
    "dir(biogeme)"
   ]
  },
  {
   "cell_type": "code",
   "execution_count": 95,
   "metadata": {},
   "outputs": [
    {
     "data": {
      "text/plain": [
       "_bioLogLogit(1:((ASC_TRAIN(0) + (B_TIME(0) * (TRAIN_TT / `100.0`))) + (B_COST(0) * ((TRAIN_CO * (GA == `0`)) / `100.0`))), 2:((ASC_SM(0) + (B_TIME(0) * (SM_TT / `100.0`))) + (B_COST(0) * ((SM_CO * (GA == `0`)) / `100.0`))), 3:((ASC_CAR(0) + (B_TIME(0) * (CAR_TT / `100.0`))) + (B_COST(0) * (CAR_CO / `100.0`))))"
      ]
     },
     "execution_count": 95,
     "metadata": {},
     "output_type": "execute_result"
    }
   ],
   "source": [
    "biogeme.loglike"
   ]
  },
  {
   "cell_type": "code",
   "execution_count": 106,
   "metadata": {},
   "outputs": [
    {
     "data": {
      "text/plain": [
       "_bioLogLogit(1:((ASC_TRAIN(-0.7011473794405245) + (B_TIME(-1.2778854818542016) * (TRAIN_TT / `100.0`))) + (B_COST(-1.0837675514845984) * ((TRAIN_CO * (GA == `0`)) / `100.0`))), 2:((ASC_SM(0) + (B_TIME(-1.2778854818542016) * (SM_TT / `100.0`))) + (B_COST(-1.0837675514845984) * ((SM_CO * (GA == `0`)) / `100.0`))), 3:((ASC_CAR(-0.15460289050933534) + (B_TIME(-1.2778854818542016) * (CAR_TT / `100.0`))) + (B_COST(-1.0837675514845984) * (CAR_CO / `100.0`))))"
      ]
     },
     "execution_count": 106,
     "metadata": {},
     "output_type": "execute_result"
    }
   ],
   "source": [
    "biogeme.loadSavedIteration()\n",
    "biogeme.loglike"
   ]
  },
  {
   "cell_type": "code",
   "execution_count": 103,
   "metadata": {},
   "outputs": [],
   "source": [
    "results = biogeme.estimate(saveIterations=True)"
   ]
  },
  {
   "cell_type": "code",
   "execution_count": 104,
   "metadata": {},
   "outputs": [
    {
     "data": {
      "text/html": [
       "<div>\n",
       "<style scoped>\n",
       "    .dataframe tbody tr th:only-of-type {\n",
       "        vertical-align: middle;\n",
       "    }\n",
       "\n",
       "    .dataframe tbody tr th {\n",
       "        vertical-align: top;\n",
       "    }\n",
       "\n",
       "    .dataframe thead th {\n",
       "        text-align: right;\n",
       "    }\n",
       "</style>\n",
       "<table border=\"1\" class=\"dataframe\">\n",
       "  <thead>\n",
       "    <tr style=\"text-align: right;\">\n",
       "      <th></th>\n",
       "      <th>Value</th>\n",
       "      <th>Std err</th>\n",
       "      <th>t-test</th>\n",
       "      <th>p-value</th>\n",
       "      <th>Rob. Std err</th>\n",
       "      <th>Rob. t-test</th>\n",
       "      <th>Rob. p-value</th>\n",
       "    </tr>\n",
       "  </thead>\n",
       "  <tbody>\n",
       "    <tr>\n",
       "      <th>ASC_CAR</th>\n",
       "      <td>-0.154603</td>\n",
       "      <td>0.043235</td>\n",
       "      <td>-3.575840</td>\n",
       "      <td>0.000349</td>\n",
       "      <td>0.058163</td>\n",
       "      <td>-2.658079</td>\n",
       "      <td>0.007859</td>\n",
       "    </tr>\n",
       "    <tr>\n",
       "      <th>ASC_TRAIN</th>\n",
       "      <td>-0.701147</td>\n",
       "      <td>0.054874</td>\n",
       "      <td>-12.777443</td>\n",
       "      <td>0.000000</td>\n",
       "      <td>0.082562</td>\n",
       "      <td>-8.492375</td>\n",
       "      <td>0.000000</td>\n",
       "    </tr>\n",
       "    <tr>\n",
       "      <th>B_COST</th>\n",
       "      <td>-1.083768</td>\n",
       "      <td>0.051830</td>\n",
       "      <td>-20.910063</td>\n",
       "      <td>0.000000</td>\n",
       "      <td>0.068224</td>\n",
       "      <td>-15.885339</td>\n",
       "      <td>0.000000</td>\n",
       "    </tr>\n",
       "    <tr>\n",
       "      <th>B_TIME</th>\n",
       "      <td>-1.277885</td>\n",
       "      <td>0.056883</td>\n",
       "      <td>-22.464979</td>\n",
       "      <td>0.000000</td>\n",
       "      <td>0.104255</td>\n",
       "      <td>-12.257328</td>\n",
       "      <td>0.000000</td>\n",
       "    </tr>\n",
       "  </tbody>\n",
       "</table>\n",
       "</div>"
      ],
      "text/plain": [
       "              Value   Std err     t-test   p-value  Rob. Std err  Rob. t-test  \\\n",
       "ASC_CAR   -0.154603  0.043235  -3.575840  0.000349      0.058163    -2.658079   \n",
       "ASC_TRAIN -0.701147  0.054874 -12.777443  0.000000      0.082562    -8.492375   \n",
       "B_COST    -1.083768  0.051830 -20.910063  0.000000      0.068224   -15.885339   \n",
       "B_TIME    -1.277885  0.056883 -22.464979  0.000000      0.104255   -12.257328   \n",
       "\n",
       "           Rob. p-value  \n",
       "ASC_CAR        0.007859  \n",
       "ASC_TRAIN      0.000000  \n",
       "B_COST         0.000000  \n",
       "B_TIME         0.000000  "
      ]
     },
     "execution_count": 104,
     "metadata": {},
     "output_type": "execute_result"
    }
   ],
   "source": [
    "results.getEstimatedParameters()"
   ]
  },
  {
   "cell_type": "code",
   "execution_count": 105,
   "metadata": {},
   "outputs": [
    {
     "data": {
      "text/plain": [
       "_bioLogLogit(1:((ASC_TRAIN(0) + (B_TIME(0) * (TRAIN_TT / `100.0`))) + (B_COST(0) * ((TRAIN_CO * (GA == `0`)) / `100.0`))), 2:((ASC_SM(0) + (B_TIME(0) * (SM_TT / `100.0`))) + (B_COST(0) * ((SM_CO * (GA == `0`)) / `100.0`))), 3:((ASC_CAR(0) + (B_TIME(0) * (CAR_TT / `100.0`))) + (B_COST(0) * (CAR_CO / `100.0`))))"
      ]
     },
     "execution_count": 105,
     "metadata": {},
     "output_type": "execute_result"
    }
   ],
   "source": [
    "biogeme.loglike"
   ]
  },
  {
   "cell_type": "code",
   "execution_count": 100,
   "metadata": {},
   "outputs": [
    {
     "data": {
      "text/plain": [
       "{'Number of estimated parameters': (4, ''),\n",
       " 'Sample size': (6768, ''),\n",
       " 'Excluded observations': (3960, ''),\n",
       " 'Init log likelihood': (-6964.662979192372, '.7g'),\n",
       " 'Final log likelihood': (-5331.252007298093, '.7g'),\n",
       " 'Likelihood ratio test for the init. model': (3266.821943788558, '.7g'),\n",
       " 'Rho-square for the init. model': (0.23452835790823734, '.3g'),\n",
       " 'Rho-square-bar for the init. model': (0.23395403004600612, '.3g'),\n",
       " 'Akaike Information Criterion': (10670.504014596187, '.7g'),\n",
       " 'Bayesian Information Criterion': (10697.78385820133, '.7g'),\n",
       " 'Final gradient norm': (0.015306327717452512, '.4E'),\n",
       " 'Nbr of threads': (4, '')}"
      ]
     },
     "execution_count": 100,
     "metadata": {},
     "output_type": "execute_result"
    }
   ],
   "source": [
    "results.getGeneralStatistics()"
   ]
  },
  {
   "cell_type": "code",
   "execution_count": 110,
   "metadata": {},
   "outputs": [
    {
     "data": {
      "text/plain": [
       "{'ASC_CAR': -0.15460289050933534,\n",
       " 'ASC_TRAIN': -0.7011473794405245,\n",
       " 'B_COST': -1.0837675514845984,\n",
       " 'B_TIME': -1.2778854818542016}"
      ]
     },
     "execution_count": 110,
     "metadata": {},
     "output_type": "execute_result"
    }
   ],
   "source": [
    "results.getBetaValues()"
   ]
  },
  {
   "cell_type": "code",
   "execution_count": 114,
   "metadata": {},
   "outputs": [
    {
     "data": {
      "text/html": [
       "<div>\n",
       "<style scoped>\n",
       "    .dataframe tbody tr th:only-of-type {\n",
       "        vertical-align: middle;\n",
       "    }\n",
       "\n",
       "    .dataframe tbody tr th {\n",
       "        vertical-align: top;\n",
       "    }\n",
       "\n",
       "    .dataframe thead th {\n",
       "        text-align: right;\n",
       "    }\n",
       "</style>\n",
       "<table border=\"1\" class=\"dataframe\">\n",
       "  <thead>\n",
       "    <tr style=\"text-align: right;\">\n",
       "      <th></th>\n",
       "      <th>loglike</th>\n",
       "    </tr>\n",
       "  </thead>\n",
       "  <tbody>\n",
       "    <tr>\n",
       "      <th>0</th>\n",
       "      <td>-0.500879</td>\n",
       "    </tr>\n",
       "    <tr>\n",
       "      <th>1</th>\n",
       "      <td>-0.452628</td>\n",
       "    </tr>\n",
       "    <tr>\n",
       "      <th>2</th>\n",
       "      <td>-0.547979</td>\n",
       "    </tr>\n",
       "    <tr>\n",
       "      <th>3</th>\n",
       "      <td>-0.743131</td>\n",
       "    </tr>\n",
       "    <tr>\n",
       "      <th>4</th>\n",
       "      <td>-0.476071</td>\n",
       "    </tr>\n",
       "    <tr>\n",
       "      <th>...</th>\n",
       "      <td>...</td>\n",
       "    </tr>\n",
       "    <tr>\n",
       "      <th>8446</th>\n",
       "      <td>-1.758083</td>\n",
       "    </tr>\n",
       "    <tr>\n",
       "      <th>8447</th>\n",
       "      <td>-1.805149</td>\n",
       "    </tr>\n",
       "    <tr>\n",
       "      <th>8448</th>\n",
       "      <td>-1.901937</td>\n",
       "    </tr>\n",
       "    <tr>\n",
       "      <th>8449</th>\n",
       "      <td>-2.005439</td>\n",
       "    </tr>\n",
       "    <tr>\n",
       "      <th>8450</th>\n",
       "      <td>-1.733217</td>\n",
       "    </tr>\n",
       "  </tbody>\n",
       "</table>\n",
       "<p>6768 rows × 1 columns</p>\n",
       "</div>"
      ],
      "text/plain": [
       "       loglike\n",
       "0    -0.500879\n",
       "1    -0.452628\n",
       "2    -0.547979\n",
       "3    -0.743131\n",
       "4    -0.476071\n",
       "...        ...\n",
       "8446 -1.758083\n",
       "8447 -1.805149\n",
       "8448 -1.901937\n",
       "8449 -2.005439\n",
       "8450 -1.733217\n",
       "\n",
       "[6768 rows x 1 columns]"
      ]
     },
     "execution_count": 114,
     "metadata": {},
     "output_type": "execute_result"
    }
   ],
   "source": [
    "biogeme.simulate(results.getBetaValues())"
   ]
  },
  {
   "cell_type": "code",
   "execution_count": 108,
   "metadata": {},
   "outputs": [
    {
     "data": {
      "text/plain": [
       "_bioLogLogit(1:((ASC_TRAIN(-0.7011473794405245) + (B_TIME(-1.2778854818542016) * (TRAIN_TT / `100.0`))) + (B_COST(-1.0837675514845984) * ((TRAIN_CO * (GA == `0`)) / `100.0`))), 2:((ASC_SM(0) + (B_TIME(-1.2778854818542016) * (SM_TT / `100.0`))) + (B_COST(-1.0837675514845984) * ((SM_CO * (GA == `0`)) / `100.0`))), 3:((ASC_CAR(-0.15460289050933534) + (B_TIME(-1.2778854818542016) * (CAR_TT / `100.0`))) + (B_COST(-1.0837675514845984) * (CAR_CO / `100.0`))))"
      ]
     },
     "execution_count": 108,
     "metadata": {},
     "output_type": "execute_result"
    }
   ],
   "source": [
    "biogeme.loglike"
   ]
  },
  {
   "cell_type": "code",
   "execution_count": 115,
   "metadata": {},
   "outputs": [],
   "source": [
    "formulas = [v.getSignature() for v in biogeme.formulas.values()]"
   ]
  },
  {
   "cell_type": "code",
   "execution_count": 119,
   "metadata": {},
   "outputs": [
    {
     "data": {
      "text/plain": [
       "[_bioLogLogit(1:((ASC_TRAIN(-0.7011473794405245) + (B_TIME(-1.2778854818542016) * (TRAIN_TT / `100.0`))) + (B_COST(-1.0837675514845984) * ((TRAIN_CO * (GA == `0`)) / `100.0`))), 2:((ASC_SM(0) + (B_TIME(-1.2778854818542016) * (SM_TT / `100.0`))) + (B_COST(-1.0837675514845984) * ((SM_CO * (GA == `0`)) / `100.0`))), 3:((ASC_CAR(-0.15460289050933534) + (B_TIME(-1.2778854818542016) * (CAR_TT / `100.0`))) + (B_COST(-1.0837675514845984) * (CAR_CO / `100.0`))))]"
      ]
     },
     "execution_count": 119,
     "metadata": {},
     "output_type": "execute_result"
    }
   ],
   "source": [
    "[v for v in biogeme.formulas.values()]"
   ]
  },
  {
   "cell_type": "code",
   "execution_count": 116,
   "metadata": {},
   "outputs": [
    {
     "data": {
      "text/plain": [
       "[[b'<Variable>{140392791882576}\"CHOICE\",32,27',\n",
       "  b'<Beta>{140392755617744}\"ASC_TRAIN\"[0],1,1',\n",
       "  b'<Beta>{140392755616880}\"B_TIME\"[0],3,3',\n",
       "  b'<Variable>{140392791882624}\"TRAIN_TT\",23,18',\n",
       "  b'<Numeric>{140392755213552},100.0',\n",
       "  b'<Divide>{140392755213504}(2),140392791882624,140392755213552',\n",
       "  b'<Times>{140392755215712}(2),140392755616880,140392755213504',\n",
       "  b'<Plus>{140392755215760}(2),140392755617744,140392755215712',\n",
       "  b'<Beta>{140392755617552}\"B_COST\"[0],2,2',\n",
       "  b'<Variable>{140392791881856}\"TRAIN_CO\",24,19',\n",
       "  b'<Variable>{140392791881664}\"GA\",17,12',\n",
       "  b'<Numeric>{140392755212640},0',\n",
       "  b'<Equal>{140392755212880}(2),140392791881664,140392755212640',\n",
       "  b'<Times>{140392755213216}(2),140392791881856,140392755212880',\n",
       "  b'<Numeric>{140392755213936},100.0',\n",
       "  b'<Divide>{140392755213648}(2),140392755213216,140392755213936',\n",
       "  b'<Times>{140392755215808}(2),140392755617552,140392755213648',\n",
       "  b'<Plus>{140392755214800}(2),140392755215760,140392755215808',\n",
       "  b'<Beta>{140392791688144}\"ASC_SM\"[1],4,0',\n",
       "  b'<Beta>{140392755616880}\"B_TIME\"[0],3,3',\n",
       "  b'<Variable>{140392791882672}\"SM_TT\",26,21',\n",
       "  b'<Numeric>{140392755212688},100.0',\n",
       "  b'<Divide>{140392755213888}(2),140392791882672,140392755212688',\n",
       "  b'<Times>{140392755215520}(2),140392755616880,140392755213888',\n",
       "  b'<Plus>{140392755215856}(2),140392791688144,140392755215520',\n",
       "  b'<Beta>{140392755617552}\"B_COST\"[0],2,2',\n",
       "  b'<Variable>{140392791882816}\"SM_CO\",27,22',\n",
       "  b'<Variable>{140392791881664}\"GA\",17,12',\n",
       "  b'<Numeric>{140392755212976},0',\n",
       "  b'<Equal>{140392755212928}(2),140392791881664,140392755212976',\n",
       "  b'<Times>{140392755213072}(2),140392791882816,140392755212928',\n",
       "  b'<Numeric>{140392755214176},100.0',\n",
       "  b'<Divide>{140392755213744}(2),140392755213072,140392755214176',\n",
       "  b'<Times>{140392755215664}(2),140392755617552,140392755213744',\n",
       "  b'<Plus>{140392755216000}(2),140392755215856,140392755215664',\n",
       "  b'<Beta>{140392755616976}\"ASC_CAR\"[0],0,0',\n",
       "  b'<Beta>{140392755616880}\"B_TIME\"[0],3,3',\n",
       "  b'<Variable>{140392791882000}\"CAR_TT\",30,25',\n",
       "  b'<Numeric>{140392755214272},100.0',\n",
       "  b'<Divide>{140392755213984}(2),140392791882000,140392755214272',\n",
       "  b'<Times>{140392755215904}(2),140392755616880,140392755213984',\n",
       "  b'<Plus>{140392755215616}(2),140392755616976,140392755215904',\n",
       "  b'<Beta>{140392755617552}\"B_COST\"[0],2,2',\n",
       "  b'<Variable>{140392791883104}\"CAR_CO\",31,26',\n",
       "  b'<Numeric>{140392755213456},100.0',\n",
       "  b'<Divide>{140392755214032}(2),140392791883104,140392755213456',\n",
       "  b'<Times>{140392755215952}(2),140392755617552,140392755214032',\n",
       "  b'<Plus>{140392755215088}(2),140392755215616,140392755215952',\n",
       "  b'<Variable>{140392791882432}\"TRAIN_AV\",20,15',\n",
       "  b'<Variable>{140392791880128}\"SP\",7,2',\n",
       "  b'<Numeric>{140392755213312},0',\n",
       "  b'<NotEqual>{140392755213264}(2),140392791880128,140392755213312',\n",
       "  b'<Times>{140392755213600}(2),140392791882432,140392755213264',\n",
       "  b'<Variable>{140392791883008}\"SM_AV\",22,17',\n",
       "  b'<Variable>{140392791880944}\"CAR_AV\",21,16',\n",
       "  b'<Variable>{140392791880128}\"SP\",7,2',\n",
       "  b'<Numeric>{140392755213024},0',\n",
       "  b'<NotEqual>{140392755213168}(2),140392791880128,140392755213024',\n",
       "  b'<Times>{140392755213408}(2),140392791880944,140392755213168',\n",
       "  b'<_bioLogLogit>{140392755213696}(3),140392791882576,1,140392755214800,140392755213600,2,140392755216000,140392791883008,3,140392755215088,140392755213408']]"
      ]
     },
     "execution_count": 116,
     "metadata": {},
     "output_type": "execute_result"
    }
   ],
   "source": [
    "formulas"
   ]
  },
  {
   "cell_type": "markdown",
   "metadata": {},
   "source": [
    "### Biogeme.loglikelyhood"
   ]
  },
  {
   "cell_type": "code",
   "execution_count": 120,
   "metadata": {},
   "outputs": [],
   "source": [
    "import biogeme.loglikelihood as ll"
   ]
  },
  {
   "cell_type": "code",
   "execution_count": 121,
   "metadata": {},
   "outputs": [],
   "source": [
    "loglike = ll.loglikelihood(logprob)"
   ]
  },
  {
   "cell_type": "code",
   "execution_count": 122,
   "metadata": {},
   "outputs": [
    {
     "name": "stdout",
     "output_type": "stream",
     "text": [
      "log(_bioLogLogit(1:((ASC_TRAIN(-0.7011473794405245) + (B_TIME(-1.2778854818542016) * (TRAIN_TT / `100.0`))) + (B_COST(-1.0837675514845984) * ((TRAIN_CO * (GA == `0`)) / `100.0`))), 2:((ASC_SM(0) + (B_TIME(-1.2778854818542016) * (SM_TT / `100.0`))) + (B_COST(-1.0837675514845984) * ((SM_CO * (GA == `0`)) / `100.0`))), 3:((ASC_CAR(-0.15460289050933534) + (B_TIME(-1.2778854818542016) * (CAR_TT / `100.0`))) + (B_COST(-1.0837675514845984) * (CAR_CO / `100.0`)))))\n"
     ]
    }
   ],
   "source": [
    "print(loglike)"
   ]
  },
  {
   "cell_type": "code",
   "execution_count": 124,
   "metadata": {},
   "outputs": [
    {
     "data": {
      "text/plain": [
       "((ASC_TRAIN(-0.7011473794405245) + (B_TIME(-1.2778854818542016) * (TRAIN_TT / `100.0`))) + (B_COST(-1.0837675514845984) * ((TRAIN_CO * (GA == `0`)) / `100.0`)))"
      ]
     },
     "execution_count": 124,
     "metadata": {},
     "output_type": "execute_result"
    }
   ],
   "source": [
    "V1"
   ]
  },
  {
   "cell_type": "code",
   "execution_count": 123,
   "metadata": {},
   "outputs": [
    {
     "data": {
      "text/plain": [
       "0      -2.652588\n",
       "1      -2.537578\n",
       "2      -2.882607\n",
       "3      -2.450876\n",
       "4      -2.752555\n",
       "          ...   \n",
       "8446   -2.222153\n",
       "8447   -2.211316\n",
       "8448   -2.254667\n",
       "8449   -2.510244\n",
       "8450   -2.222153\n",
       "Length: 6768, dtype: float64"
      ]
     },
     "execution_count": 123,
     "metadata": {},
     "output_type": "execute_result"
    }
   ],
   "source": [
    "database.valuesFromDatabase(V1)"
   ]
  },
  {
   "cell_type": "code",
   "execution_count": 126,
   "metadata": {},
   "outputs": [
    {
     "data": {
      "text/plain": [
       "0      -1.368627\n",
       "1      -1.297777\n",
       "2      -1.484768\n",
       "3      -1.368627\n",
       "4      -1.260250\n",
       "          ...   \n",
       "8446   -0.823183\n",
       "8447   -0.850682\n",
       "8448   -0.812346\n",
       "8449   -0.861520\n",
       "8450   -0.904870\n",
       "Length: 6768, dtype: float64"
      ]
     },
     "execution_count": 126,
     "metadata": {},
     "output_type": "execute_result"
    }
   ],
   "source": [
    "database.valuesFromDatabase(V2)"
   ]
  },
  {
   "cell_type": "code",
   "execution_count": 128,
   "metadata": {},
   "outputs": [],
   "source": [
    "df[\"V1\"] = database.valuesFromDatabase(V1)\n",
    "df[\"V2\"] = database.valuesFromDatabase(V2)\n",
    "df[\"V3\"] = database.valuesFromDatabase(V3)"
   ]
  },
  {
   "cell_type": "code",
   "execution_count": 129,
   "metadata": {},
   "outputs": [
    {
     "data": {
      "text/plain": [
       "Index(['GROUP', 'SURVEY', 'SP', 'ID', 'PURPOSE', 'FIRST', 'TICKET', 'WHO',\n",
       "       'LUGGAGE', 'AGE', 'MALE', 'INCOME', 'GA', 'ORIGIN', 'DEST', 'TRAIN_AV',\n",
       "       'CAR_AV', 'SM_AV', 'TRAIN_TT', 'TRAIN_CO', 'TRAIN_HE', 'SM_TT', 'SM_CO',\n",
       "       'SM_HE', 'SM_SEATS', 'CAR_TT', 'CAR_CO', 'CHOICE', 'V1', 'V2', 'V3'],\n",
       "      dtype='object')"
      ]
     },
     "execution_count": 129,
     "metadata": {},
     "output_type": "execute_result"
    }
   ],
   "source": [
    "df.columns"
   ]
  },
  {
   "cell_type": "code",
   "execution_count": 130,
   "metadata": {},
   "outputs": [],
   "source": [
    "cols = ['ID', 'PURPOSE', 'CHOICE', 'V1', 'V2', 'V3']"
   ]
  },
  {
   "cell_type": "code",
   "execution_count": 131,
   "metadata": {},
   "outputs": [
    {
     "data": {
      "text/html": [
       "<div>\n",
       "<style scoped>\n",
       "    .dataframe tbody tr th:only-of-type {\n",
       "        vertical-align: middle;\n",
       "    }\n",
       "\n",
       "    .dataframe tbody tr th {\n",
       "        vertical-align: top;\n",
       "    }\n",
       "\n",
       "    .dataframe thead th {\n",
       "        text-align: right;\n",
       "    }\n",
       "</style>\n",
       "<table border=\"1\" class=\"dataframe\">\n",
       "  <thead>\n",
       "    <tr style=\"text-align: right;\">\n",
       "      <th></th>\n",
       "      <th>ID</th>\n",
       "      <th>PURPOSE</th>\n",
       "      <th>CHOICE</th>\n",
       "      <th>V1</th>\n",
       "      <th>V2</th>\n",
       "      <th>V3</th>\n",
       "    </tr>\n",
       "  </thead>\n",
       "  <tbody>\n",
       "    <tr>\n",
       "      <th>0</th>\n",
       "      <td>1</td>\n",
       "      <td>1</td>\n",
       "      <td>2</td>\n",
       "      <td>-2.652588</td>\n",
       "      <td>-1.368627</td>\n",
       "      <td>-2.354178</td>\n",
       "    </tr>\n",
       "    <tr>\n",
       "      <th>1</th>\n",
       "      <td>1</td>\n",
       "      <td>1</td>\n",
       "      <td>2</td>\n",
       "      <td>-2.537578</td>\n",
       "      <td>-1.297777</td>\n",
       "      <td>-2.560094</td>\n",
       "    </tr>\n",
       "    <tr>\n",
       "      <th>2</th>\n",
       "      <td>1</td>\n",
       "      <td>1</td>\n",
       "      <td>2</td>\n",
       "      <td>-2.882607</td>\n",
       "      <td>-1.484768</td>\n",
       "      <td>-2.213288</td>\n",
       "    </tr>\n",
       "    <tr>\n",
       "      <th>3</th>\n",
       "      <td>1</td>\n",
       "      <td>1</td>\n",
       "      <td>2</td>\n",
       "      <td>-2.450876</td>\n",
       "      <td>-1.368627</td>\n",
       "      <td>-1.638240</td>\n",
       "    </tr>\n",
       "    <tr>\n",
       "      <th>4</th>\n",
       "      <td>1</td>\n",
       "      <td>1</td>\n",
       "      <td>2</td>\n",
       "      <td>-2.752555</td>\n",
       "      <td>-1.260250</td>\n",
       "      <td>-2.215065</td>\n",
       "    </tr>\n",
       "    <tr>\n",
       "      <th>...</th>\n",
       "      <td>...</td>\n",
       "      <td>...</td>\n",
       "      <td>...</td>\n",
       "      <td>...</td>\n",
       "      <td>...</td>\n",
       "      <td>...</td>\n",
       "    </tr>\n",
       "    <tr>\n",
       "      <th>8446</th>\n",
       "      <td>939</td>\n",
       "      <td>3</td>\n",
       "      <td>1</td>\n",
       "      <td>-2.222153</td>\n",
       "      <td>-0.823183</td>\n",
       "      <td>-2.509465</td>\n",
       "    </tr>\n",
       "    <tr>\n",
       "      <th>8447</th>\n",
       "      <td>939</td>\n",
       "      <td>3</td>\n",
       "      <td>1</td>\n",
       "      <td>-2.211316</td>\n",
       "      <td>-0.850682</td>\n",
       "      <td>-2.043925</td>\n",
       "    </tr>\n",
       "    <tr>\n",
       "      <th>8448</th>\n",
       "      <td>939</td>\n",
       "      <td>3</td>\n",
       "      <td>1</td>\n",
       "      <td>-2.254667</td>\n",
       "      <td>-0.812346</td>\n",
       "      <td>-1.870523</td>\n",
       "    </tr>\n",
       "    <tr>\n",
       "      <th>8449</th>\n",
       "      <td>939</td>\n",
       "      <td>3</td>\n",
       "      <td>1</td>\n",
       "      <td>-2.510244</td>\n",
       "      <td>-0.861520</td>\n",
       "      <td>-2.304030</td>\n",
       "    </tr>\n",
       "    <tr>\n",
       "      <th>8450</th>\n",
       "      <td>939</td>\n",
       "      <td>3</td>\n",
       "      <td>1</td>\n",
       "      <td>-2.222153</td>\n",
       "      <td>-0.904870</td>\n",
       "      <td>-2.299502</td>\n",
       "    </tr>\n",
       "  </tbody>\n",
       "</table>\n",
       "<p>6768 rows × 6 columns</p>\n",
       "</div>"
      ],
      "text/plain": [
       "       ID  PURPOSE  CHOICE        V1        V2        V3\n",
       "0       1        1       2 -2.652588 -1.368627 -2.354178\n",
       "1       1        1       2 -2.537578 -1.297777 -2.560094\n",
       "2       1        1       2 -2.882607 -1.484768 -2.213288\n",
       "3       1        1       2 -2.450876 -1.368627 -1.638240\n",
       "4       1        1       2 -2.752555 -1.260250 -2.215065\n",
       "...   ...      ...     ...       ...       ...       ...\n",
       "8446  939        3       1 -2.222153 -0.823183 -2.509465\n",
       "8447  939        3       1 -2.211316 -0.850682 -2.043925\n",
       "8448  939        3       1 -2.254667 -0.812346 -1.870523\n",
       "8449  939        3       1 -2.510244 -0.861520 -2.304030\n",
       "8450  939        3       1 -2.222153 -0.904870 -2.299502\n",
       "\n",
       "[6768 rows x 6 columns]"
      ]
     },
     "execution_count": 131,
     "metadata": {},
     "output_type": "execute_result"
    }
   ],
   "source": [
    "df[cols]"
   ]
  },
  {
   "cell_type": "code",
   "execution_count": 145,
   "metadata": {},
   "outputs": [
    {
     "data": {
      "text/plain": [
       "array([[10, 11, 12],\n",
       "       [13, 14, 15]])"
      ]
     },
     "execution_count": 145,
     "metadata": {},
     "output_type": "execute_result"
    }
   ],
   "source": [
    "import numpy as np\n",
    "a = np.arange(6).reshape(2,3) + 10\n",
    "a"
   ]
  },
  {
   "cell_type": "code",
   "execution_count": 150,
   "metadata": {},
   "outputs": [
    {
     "data": {
      "text/plain": [
       "array([2, 2])"
      ]
     },
     "execution_count": 150,
     "metadata": {},
     "output_type": "execute_result"
    }
   ],
   "source": [
    "np.argmax(a, axis=1)"
   ]
  },
  {
   "cell_type": "code",
   "execution_count": 140,
   "metadata": {},
   "outputs": [
    {
     "data": {
      "text/plain": [
       "6768"
      ]
     },
     "execution_count": 140,
     "metadata": {},
     "output_type": "execute_result"
    }
   ],
   "source": [
    "len(np.argmax(df[[\"V1\",\"V2\",\"V3\"]].values, axis=1))"
   ]
  },
  {
   "cell_type": "code",
   "execution_count": 151,
   "metadata": {},
   "outputs": [],
   "source": [
    "df[\"PRED\"] = np.argmax(df[[\"V1\",\"V2\",\"V3\"]].values, axis=1) + 1"
   ]
  },
  {
   "cell_type": "code",
   "execution_count": 152,
   "metadata": {},
   "outputs": [
    {
     "data": {
      "text/html": [
       "<div>\n",
       "<style scoped>\n",
       "    .dataframe tbody tr th:only-of-type {\n",
       "        vertical-align: middle;\n",
       "    }\n",
       "\n",
       "    .dataframe tbody tr th {\n",
       "        vertical-align: top;\n",
       "    }\n",
       "\n",
       "    .dataframe thead th {\n",
       "        text-align: right;\n",
       "    }\n",
       "</style>\n",
       "<table border=\"1\" class=\"dataframe\">\n",
       "  <thead>\n",
       "    <tr style=\"text-align: right;\">\n",
       "      <th></th>\n",
       "      <th>ID</th>\n",
       "      <th>PURPOSE</th>\n",
       "      <th>CHOICE</th>\n",
       "      <th>V1</th>\n",
       "      <th>V2</th>\n",
       "      <th>V3</th>\n",
       "      <th>PRED</th>\n",
       "    </tr>\n",
       "  </thead>\n",
       "  <tbody>\n",
       "    <tr>\n",
       "      <th>0</th>\n",
       "      <td>1</td>\n",
       "      <td>1</td>\n",
       "      <td>2</td>\n",
       "      <td>-2.652588</td>\n",
       "      <td>-1.368627</td>\n",
       "      <td>-2.354178</td>\n",
       "      <td>2</td>\n",
       "    </tr>\n",
       "    <tr>\n",
       "      <th>1</th>\n",
       "      <td>1</td>\n",
       "      <td>1</td>\n",
       "      <td>2</td>\n",
       "      <td>-2.537578</td>\n",
       "      <td>-1.297777</td>\n",
       "      <td>-2.560094</td>\n",
       "      <td>2</td>\n",
       "    </tr>\n",
       "    <tr>\n",
       "      <th>2</th>\n",
       "      <td>1</td>\n",
       "      <td>1</td>\n",
       "      <td>2</td>\n",
       "      <td>-2.882607</td>\n",
       "      <td>-1.484768</td>\n",
       "      <td>-2.213288</td>\n",
       "      <td>2</td>\n",
       "    </tr>\n",
       "    <tr>\n",
       "      <th>3</th>\n",
       "      <td>1</td>\n",
       "      <td>1</td>\n",
       "      <td>2</td>\n",
       "      <td>-2.450876</td>\n",
       "      <td>-1.368627</td>\n",
       "      <td>-1.638240</td>\n",
       "      <td>2</td>\n",
       "    </tr>\n",
       "    <tr>\n",
       "      <th>4</th>\n",
       "      <td>1</td>\n",
       "      <td>1</td>\n",
       "      <td>2</td>\n",
       "      <td>-2.752555</td>\n",
       "      <td>-1.260250</td>\n",
       "      <td>-2.215065</td>\n",
       "      <td>2</td>\n",
       "    </tr>\n",
       "    <tr>\n",
       "      <th>...</th>\n",
       "      <td>...</td>\n",
       "      <td>...</td>\n",
       "      <td>...</td>\n",
       "      <td>...</td>\n",
       "      <td>...</td>\n",
       "      <td>...</td>\n",
       "      <td>...</td>\n",
       "    </tr>\n",
       "    <tr>\n",
       "      <th>8446</th>\n",
       "      <td>939</td>\n",
       "      <td>3</td>\n",
       "      <td>1</td>\n",
       "      <td>-2.222153</td>\n",
       "      <td>-0.823183</td>\n",
       "      <td>-2.509465</td>\n",
       "      <td>2</td>\n",
       "    </tr>\n",
       "    <tr>\n",
       "      <th>8447</th>\n",
       "      <td>939</td>\n",
       "      <td>3</td>\n",
       "      <td>1</td>\n",
       "      <td>-2.211316</td>\n",
       "      <td>-0.850682</td>\n",
       "      <td>-2.043925</td>\n",
       "      <td>2</td>\n",
       "    </tr>\n",
       "    <tr>\n",
       "      <th>8448</th>\n",
       "      <td>939</td>\n",
       "      <td>3</td>\n",
       "      <td>1</td>\n",
       "      <td>-2.254667</td>\n",
       "      <td>-0.812346</td>\n",
       "      <td>-1.870523</td>\n",
       "      <td>2</td>\n",
       "    </tr>\n",
       "    <tr>\n",
       "      <th>8449</th>\n",
       "      <td>939</td>\n",
       "      <td>3</td>\n",
       "      <td>1</td>\n",
       "      <td>-2.510244</td>\n",
       "      <td>-0.861520</td>\n",
       "      <td>-2.304030</td>\n",
       "      <td>2</td>\n",
       "    </tr>\n",
       "    <tr>\n",
       "      <th>8450</th>\n",
       "      <td>939</td>\n",
       "      <td>3</td>\n",
       "      <td>1</td>\n",
       "      <td>-2.222153</td>\n",
       "      <td>-0.904870</td>\n",
       "      <td>-2.299502</td>\n",
       "      <td>2</td>\n",
       "    </tr>\n",
       "  </tbody>\n",
       "</table>\n",
       "<p>6768 rows × 7 columns</p>\n",
       "</div>"
      ],
      "text/plain": [
       "       ID  PURPOSE  CHOICE        V1        V2        V3  PRED\n",
       "0       1        1       2 -2.652588 -1.368627 -2.354178     2\n",
       "1       1        1       2 -2.537578 -1.297777 -2.560094     2\n",
       "2       1        1       2 -2.882607 -1.484768 -2.213288     2\n",
       "3       1        1       2 -2.450876 -1.368627 -1.638240     2\n",
       "4       1        1       2 -2.752555 -1.260250 -2.215065     2\n",
       "...   ...      ...     ...       ...       ...       ...   ...\n",
       "8446  939        3       1 -2.222153 -0.823183 -2.509465     2\n",
       "8447  939        3       1 -2.211316 -0.850682 -2.043925     2\n",
       "8448  939        3       1 -2.254667 -0.812346 -1.870523     2\n",
       "8449  939        3       1 -2.510244 -0.861520 -2.304030     2\n",
       "8450  939        3       1 -2.222153 -0.904870 -2.299502     2\n",
       "\n",
       "[6768 rows x 7 columns]"
      ]
     },
     "execution_count": 152,
     "metadata": {},
     "output_type": "execute_result"
    }
   ],
   "source": [
    "df[cols + [\"PRED\"]]"
   ]
  },
  {
   "cell_type": "code",
   "execution_count": 153,
   "metadata": {},
   "outputs": [
    {
     "data": {
      "text/plain": [
       "2    4414\n",
       "3    2354\n",
       "Name: PRED, dtype: int64"
      ]
     },
     "execution_count": 153,
     "metadata": {},
     "output_type": "execute_result"
    }
   ],
   "source": [
    "df.PRED.value_counts()"
   ]
  },
  {
   "cell_type": "code",
   "execution_count": 154,
   "metadata": {},
   "outputs": [
    {
     "data": {
      "text/plain": [
       "2    4090\n",
       "3    1770\n",
       "1     908\n",
       "Name: CHOICE, dtype: int64"
      ]
     },
     "execution_count": 154,
     "metadata": {},
     "output_type": "execute_result"
    }
   ],
   "source": [
    "df.CHOICE.value_counts()"
   ]
  },
  {
   "cell_type": "code",
   "execution_count": 162,
   "metadata": {},
   "outputs": [],
   "source": [
    "def accuracy(actual, pred):\n",
    "    res = np.sum(np.array(actual) == np.array(pred)) / len(actual)\n",
    "    return res"
   ]
  },
  {
   "cell_type": "code",
   "execution_count": 164,
   "metadata": {},
   "outputs": [
    {
     "data": {
      "text/plain": [
       "0.6666666666666666"
      ]
     },
     "execution_count": 164,
     "metadata": {},
     "output_type": "execute_result"
    }
   ],
   "source": [
    "actual = [1, 2 , 2]\n",
    "pred = [1, 2, 3]\n",
    "accuracy(actual, pred)"
   ]
  },
  {
   "cell_type": "code",
   "execution_count": 165,
   "metadata": {},
   "outputs": [
    {
     "data": {
      "text/plain": [
       "0.5701832151300237"
      ]
     },
     "execution_count": 165,
     "metadata": {},
     "output_type": "execute_result"
    }
   ],
   "source": [
    "accuracy(df[\"CHOICE\"], df[\"PRED\"])"
   ]
  },
  {
   "cell_type": "code",
   "execution_count": null,
   "metadata": {},
   "outputs": [],
   "source": []
  }
 ],
 "metadata": {
  "kernelspec": {
   "display_name": "Python 3",
   "language": "python",
   "name": "python3"
  },
  "language_info": {
   "codemirror_mode": {
    "name": "ipython",
    "version": 3
   },
   "file_extension": ".py",
   "mimetype": "text/x-python",
   "name": "python",
   "nbconvert_exporter": "python",
   "pygments_lexer": "ipython3",
   "version": "3.8.5"
  }
 },
 "nbformat": 4,
 "nbformat_minor": 4
}
