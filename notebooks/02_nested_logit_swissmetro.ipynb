{
 "cells": [
  {
   "cell_type": "code",
   "execution_count": 1,
   "metadata": {},
   "outputs": [],
   "source": [
    "import numpy as np\n",
    "import pandas as pd\n",
    "import biogeme.database as db\n",
    "import biogeme.biogeme as bio\n",
    "import biogeme.models as models\n",
    "from biogeme.expressions import Beta"
   ]
  },
  {
   "cell_type": "code",
   "execution_count": 2,
   "metadata": {},
   "outputs": [
    {
     "data": {
      "text/plain": [
       "(10728, 28)"
      ]
     },
     "execution_count": 2,
     "metadata": {},
     "output_type": "execute_result"
    }
   ],
   "source": [
    "# Read data\n",
    "df = pd.read_csv(\"../data/swissmetro.dat\",'\\t')\n",
    "df.shape"
   ]
  },
  {
   "cell_type": "code",
   "execution_count": 3,
   "metadata": {},
   "outputs": [
    {
     "data": {
      "text/plain": [
       "biogeme.database.Database"
      ]
     },
     "execution_count": 3,
     "metadata": {},
     "output_type": "execute_result"
    }
   ],
   "source": [
    "# Convert to biogeme database\n",
    "database = db.Database('swissmetro',df)\n",
    "type(database)"
   ]
  },
  {
   "cell_type": "code",
   "execution_count": 4,
   "metadata": {},
   "outputs": [],
   "source": [
    "globals().update(database.variables)"
   ]
  },
  {
   "cell_type": "code",
   "execution_count": 5,
   "metadata": {},
   "outputs": [],
   "source": [
    "# Remove some observations\n",
    "exclude = ((PURPOSE != 1) * (PURPOSE != 3) + (CHOICE == 0)) > 0\n",
    "database.remove(exclude)"
   ]
  },
  {
   "cell_type": "code",
   "execution_count": 6,
   "metadata": {},
   "outputs": [
    {
     "data": {
      "text/plain": [
       "(6768, 28)"
      ]
     },
     "execution_count": 6,
     "metadata": {},
     "output_type": "execute_result"
    }
   ],
   "source": [
    "database.data.shape"
   ]
  },
  {
   "cell_type": "code",
   "execution_count": 7,
   "metadata": {},
   "outputs": [],
   "source": [
    "# Paramaters\n",
    "ASC_CAR = Beta('ASC_CAR', 0, None, None, 0)\n",
    "ASC_TRAIN = Beta('ASC_TRAIN', 0, None, None, 0)\n",
    "ASC_SM = Beta('ASC_SM', 0, None, None, 1)\n",
    "B_TIME = Beta('B_TIME', 0, None, None, 0)\n",
    "B_COST = Beta('B_COST', 0, None, None, 0)\n",
    "MU     = Beta('MU', 1, 1, 10, 0)"
   ]
  },
  {
   "cell_type": "code",
   "execution_count": 8,
   "metadata": {},
   "outputs": [
    {
     "data": {
      "text/plain": [
       "Index(['GROUP', 'SURVEY', 'SP', 'ID', 'PURPOSE', 'FIRST', 'TICKET', 'WHO',\n",
       "       'LUGGAGE', 'AGE', 'MALE', 'INCOME', 'GA', 'ORIGIN', 'DEST', 'TRAIN_AV',\n",
       "       'CAR_AV', 'SM_AV', 'TRAIN_TT', 'TRAIN_CO', 'TRAIN_HE', 'SM_TT', 'SM_CO',\n",
       "       'SM_HE', 'SM_SEATS', 'CAR_TT', 'CAR_CO', 'CHOICE'],\n",
       "      dtype='object')"
      ]
     },
     "execution_count": 8,
     "metadata": {},
     "output_type": "execute_result"
    }
   ],
   "source": [
    "database.data.columns"
   ]
  },
  {
   "cell_type": "code",
   "execution_count": 9,
   "metadata": {},
   "outputs": [
    {
     "data": {
      "text/html": [
       "<div>\n",
       "<style scoped>\n",
       "    .dataframe tbody tr th:only-of-type {\n",
       "        vertical-align: middle;\n",
       "    }\n",
       "\n",
       "    .dataframe tbody tr th {\n",
       "        vertical-align: top;\n",
       "    }\n",
       "\n",
       "    .dataframe thead th {\n",
       "        text-align: right;\n",
       "    }\n",
       "</style>\n",
       "<table border=\"1\" class=\"dataframe\">\n",
       "  <thead>\n",
       "    <tr style=\"text-align: right;\">\n",
       "      <th></th>\n",
       "      <th>TRAIN_TT</th>\n",
       "      <th>TRAIN_CO</th>\n",
       "      <th>SM_TT</th>\n",
       "      <th>SM_CO</th>\n",
       "      <th>CAR_TT</th>\n",
       "      <th>CAR_CO</th>\n",
       "    </tr>\n",
       "  </thead>\n",
       "  <tbody>\n",
       "    <tr>\n",
       "      <th>count</th>\n",
       "      <td>6768.000000</td>\n",
       "      <td>6768.000000</td>\n",
       "      <td>6768.000000</td>\n",
       "      <td>6768.000000</td>\n",
       "      <td>6768.000000</td>\n",
       "      <td>6768.000000</td>\n",
       "    </tr>\n",
       "    <tr>\n",
       "      <th>mean</th>\n",
       "      <td>166.077423</td>\n",
       "      <td>490.885195</td>\n",
       "      <td>84.507388</td>\n",
       "      <td>641.066489</td>\n",
       "      <td>123.154846</td>\n",
       "      <td>78.655881</td>\n",
       "    </tr>\n",
       "    <tr>\n",
       "      <th>std</th>\n",
       "      <td>69.795646</td>\n",
       "      <td>1062.593533</td>\n",
       "      <td>47.113140</td>\n",
       "      <td>1411.658237</td>\n",
       "      <td>91.718406</td>\n",
       "      <td>55.921803</td>\n",
       "    </tr>\n",
       "    <tr>\n",
       "      <th>min</th>\n",
       "      <td>35.000000</td>\n",
       "      <td>9.000000</td>\n",
       "      <td>12.000000</td>\n",
       "      <td>11.000000</td>\n",
       "      <td>0.000000</td>\n",
       "      <td>0.000000</td>\n",
       "    </tr>\n",
       "    <tr>\n",
       "      <th>25%</th>\n",
       "      <td>112.000000</td>\n",
       "      <td>60.000000</td>\n",
       "      <td>55.000000</td>\n",
       "      <td>74.000000</td>\n",
       "      <td>70.000000</td>\n",
       "      <td>40.000000</td>\n",
       "    </tr>\n",
       "    <tr>\n",
       "      <th>50%</th>\n",
       "      <td>159.000000</td>\n",
       "      <td>94.000000</td>\n",
       "      <td>77.000000</td>\n",
       "      <td>112.000000</td>\n",
       "      <td>120.000000</td>\n",
       "      <td>76.000000</td>\n",
       "    </tr>\n",
       "    <tr>\n",
       "      <th>75%</th>\n",
       "      <td>206.000000</td>\n",
       "      <td>166.000000</td>\n",
       "      <td>105.000000</td>\n",
       "      <td>196.000000</td>\n",
       "      <td>176.000000</td>\n",
       "      <td>115.000000</td>\n",
       "    </tr>\n",
       "    <tr>\n",
       "      <th>max</th>\n",
       "      <td>1022.000000</td>\n",
       "      <td>5040.000000</td>\n",
       "      <td>796.000000</td>\n",
       "      <td>6720.000000</td>\n",
       "      <td>1560.000000</td>\n",
       "      <td>520.000000</td>\n",
       "    </tr>\n",
       "  </tbody>\n",
       "</table>\n",
       "</div>"
      ],
      "text/plain": [
       "          TRAIN_TT     TRAIN_CO        SM_TT        SM_CO       CAR_TT  \\\n",
       "count  6768.000000  6768.000000  6768.000000  6768.000000  6768.000000   \n",
       "mean    166.077423   490.885195    84.507388   641.066489   123.154846   \n",
       "std      69.795646  1062.593533    47.113140  1411.658237    91.718406   \n",
       "min      35.000000     9.000000    12.000000    11.000000     0.000000   \n",
       "25%     112.000000    60.000000    55.000000    74.000000    70.000000   \n",
       "50%     159.000000    94.000000    77.000000   112.000000   120.000000   \n",
       "75%     206.000000   166.000000   105.000000   196.000000   176.000000   \n",
       "max    1022.000000  5040.000000   796.000000  6720.000000  1560.000000   \n",
       "\n",
       "            CAR_CO  \n",
       "count  6768.000000  \n",
       "mean     78.655881  \n",
       "std      55.921803  \n",
       "min       0.000000  \n",
       "25%      40.000000  \n",
       "50%      76.000000  \n",
       "75%     115.000000  \n",
       "max     520.000000  "
      ]
     },
     "execution_count": 9,
     "metadata": {},
     "output_type": "execute_result"
    }
   ],
   "source": [
    "database.data[['TRAIN_TT', \"TRAIN_CO\", 'SM_TT', \"SM_CO\", \"CAR_TT\", \"CAR_CO\"]].describe()"
   ]
  },
  {
   "cell_type": "code",
   "execution_count": 10,
   "metadata": {},
   "outputs": [],
   "source": [
    "# Define new variables\n",
    "SM_COST = SM_CO * (GA == 0)\n",
    "TRAIN_COST = TRAIN_CO * (GA == 0)\n",
    "CAR_AV_SP = CAR_AV * (SP != 0)\n",
    "TRAIN_AV_SP = TRAIN_AV * (SP != 0)\n",
    "TRAIN_TT_SCALED = TRAIN_TT / 100.0\n",
    "TRAIN_CO_SCALED = TRAIN_COST / 100.0\n",
    "SM_TT_SCALED = SM_TT / 100.0\n",
    "SM_CO_SCALED = SM_COST / 100.0\n",
    "CAR_TT_SCALED = CAR_TT / 100.0\n",
    "CAR_CO_SCALED = CAR_CO / 100.0"
   ]
  },
  {
   "cell_type": "code",
   "execution_count": 11,
   "metadata": {},
   "outputs": [],
   "source": [
    "# Define Utility functions\n",
    "V1 = (ASC_TRAIN + B_TIME * TRAIN_TT_SCALED + \\\n",
    "                  B_COST * TRAIN_CO_SCALED)\n",
    "V2 = (ASC_SM  + B_TIME * SM_TT_SCALED + \\\n",
    "                B_COST * SM_CO_SCALED)\n",
    "V3 = (ASC_CAR + B_TIME * CAR_TT_SCALED + \\\n",
    "                B_COST * CAR_CO_SCALED)"
   ]
  },
  {
   "cell_type": "code",
   "execution_count": 12,
   "metadata": {},
   "outputs": [],
   "source": [
    "# Availability \n",
    "av = {1:TRAIN_AV_SP, 2:SM_AV, 3: CAR_AV_SP}\n",
    "V = {1: V1, 2: V2, 3: V3}\n"
   ]
  },
  {
   "cell_type": "code",
   "execution_count": 13,
   "metadata": {},
   "outputs": [],
   "source": [
    "# Nest definition\n",
    "existing = MU, [1, 3]\n",
    "future = 1.0, [2]\n",
    "nest = existing, future"
   ]
  },
  {
   "cell_type": "code",
   "execution_count": 14,
   "metadata": {},
   "outputs": [
    {
     "data": {
      "text/plain": [
       "((MU(1), [1, 3]), (1.0, [2]))"
      ]
     },
     "execution_count": 14,
     "metadata": {},
     "output_type": "execute_result"
    }
   ],
   "source": [
    "nest"
   ]
  },
  {
   "cell_type": "code",
   "execution_count": 15,
   "metadata": {},
   "outputs": [],
   "source": [
    "# Set up nested-logit model\n",
    "logprob = models.lognested(V, av, nest, CHOICE)\n",
    "biogeme = bio.BIOGEME(database, logprob)\n",
    "biogeme.modelName = \"02_nested_logit_sm\""
   ]
  },
  {
   "cell_type": "code",
   "execution_count": 16,
   "metadata": {},
   "outputs": [
    {
     "data": {
      "text/plain": [
       "<bound method Expression.embedExpression of _bioLogLogit(1:(((ASC_TRAIN(0) + (B_TIME(0) * (TRAIN_TT / `100.0`))) + (B_COST(0) * ((TRAIN_CO * (GA == `0`)) / `100.0`))) + (((MU(1) - `1.0`) * ((ASC_TRAIN(0) + (B_TIME(0) * (TRAIN_TT / `100.0`))) + (B_COST(0) * ((TRAIN_CO * (GA == `0`)) / `100.0`)))) + (((`1.0` / MU(1)) - `1.0`) * log(bioMultSum({{0:`0.0`, 1:exp((MU(1) * ((ASC_TRAIN(0) + (B_TIME(0) * (TRAIN_TT / `100.0`))) + (B_COST(0) * ((TRAIN_CO * (GA == `0`)) / `100.0`)))))}[((TRAIN_AV * (SP != `0`)) != `0`)], {{0:`0.0`, 1:exp((MU(1) * ((ASC_CAR(0) + (B_TIME(0) * (CAR_TT / `100.0`))) + (B_COST(0) * (CAR_CO / `100.0`)))))}[((CAR_AV * (SP != `0`)) != `0`)]))))), 2:(((ASC_SM(0) + (B_TIME(0) * (SM_TT / `100.0`))) + (B_COST(0) * ((SM_CO * (GA == `0`)) / `100.0`))) + ((`0.0` * ((ASC_SM(0) + (B_TIME(0) * (SM_TT / `100.0`))) + (B_COST(0) * ((SM_CO * (GA == `0`)) / `100.0`)))) + (`0.0` * log(bioMultSum({{0:`0.0`, 1:exp((`1.0` * ((ASC_SM(0) + (B_TIME(0) * (SM_TT / `100.0`))) + (B_COST(0) * ((SM_CO * (GA == `0`)) / `100.0`)))))}[(SM_AV != `0`)]))))), 3:(((ASC_CAR(0) + (B_TIME(0) * (CAR_TT / `100.0`))) + (B_COST(0) * (CAR_CO / `100.0`))) + (((MU(1) - `1.0`) * ((ASC_CAR(0) + (B_TIME(0) * (CAR_TT / `100.0`))) + (B_COST(0) * (CAR_CO / `100.0`)))) + (((`1.0` / MU(1)) - `1.0`) * log(bioMultSum({{0:`0.0`, 1:exp((MU(1) * ((ASC_TRAIN(0) + (B_TIME(0) * (TRAIN_TT / `100.0`))) + (B_COST(0) * ((TRAIN_CO * (GA == `0`)) / `100.0`)))))}[((TRAIN_AV * (SP != `0`)) != `0`)], {{0:`0.0`, 1:exp((MU(1) * ((ASC_CAR(0) + (B_TIME(0) * (CAR_TT / `100.0`))) + (B_COST(0) * (CAR_CO / `100.0`)))))}[((CAR_AV * (SP != `0`)) != `0`)]))))))>"
      ]
     },
     "execution_count": 16,
     "metadata": {},
     "output_type": "execute_result"
    }
   ],
   "source": [
    "logprob.embedExpression"
   ]
  },
  {
   "cell_type": "code",
   "execution_count": 17,
   "metadata": {},
   "outputs": [],
   "source": [
    "results = biogeme.estimate(saveIterations=False)"
   ]
  },
  {
   "cell_type": "code",
   "execution_count": 18,
   "metadata": {},
   "outputs": [
    {
     "data": {
      "text/html": [
       "<div>\n",
       "<style scoped>\n",
       "    .dataframe tbody tr th:only-of-type {\n",
       "        vertical-align: middle;\n",
       "    }\n",
       "\n",
       "    .dataframe tbody tr th {\n",
       "        vertical-align: top;\n",
       "    }\n",
       "\n",
       "    .dataframe thead th {\n",
       "        text-align: right;\n",
       "    }\n",
       "</style>\n",
       "<table border=\"1\" class=\"dataframe\">\n",
       "  <thead>\n",
       "    <tr style=\"text-align: right;\">\n",
       "      <th></th>\n",
       "      <th>Value</th>\n",
       "      <th>Std err</th>\n",
       "      <th>t-test</th>\n",
       "      <th>p-value</th>\n",
       "      <th>Rob. Std err</th>\n",
       "      <th>Rob. t-test</th>\n",
       "      <th>Rob. p-value</th>\n",
       "    </tr>\n",
       "  </thead>\n",
       "  <tbody>\n",
       "    <tr>\n",
       "      <th>ASC_CAR</th>\n",
       "      <td>-0.167198</td>\n",
       "      <td>0.037136</td>\n",
       "      <td>-4.502351</td>\n",
       "      <td>0.000007</td>\n",
       "      <td>0.054529</td>\n",
       "      <td>-3.066216</td>\n",
       "      <td>2.167863e-03</td>\n",
       "    </tr>\n",
       "    <tr>\n",
       "      <th>ASC_TRAIN</th>\n",
       "      <td>-0.511973</td>\n",
       "      <td>0.045178</td>\n",
       "      <td>-11.332242</td>\n",
       "      <td>0.000000</td>\n",
       "      <td>0.079113</td>\n",
       "      <td>-6.471410</td>\n",
       "      <td>9.709256e-11</td>\n",
       "    </tr>\n",
       "    <tr>\n",
       "      <th>B_COST</th>\n",
       "      <td>-0.856664</td>\n",
       "      <td>0.046275</td>\n",
       "      <td>-18.512650</td>\n",
       "      <td>0.000000</td>\n",
       "      <td>0.060039</td>\n",
       "      <td>-14.268469</td>\n",
       "      <td>0.000000e+00</td>\n",
       "    </tr>\n",
       "    <tr>\n",
       "      <th>B_TIME</th>\n",
       "      <td>-0.898596</td>\n",
       "      <td>0.056991</td>\n",
       "      <td>-15.767254</td>\n",
       "      <td>0.000000</td>\n",
       "      <td>0.107116</td>\n",
       "      <td>-8.389037</td>\n",
       "      <td>0.000000e+00</td>\n",
       "    </tr>\n",
       "    <tr>\n",
       "      <th>MU</th>\n",
       "      <td>2.054249</td>\n",
       "      <td>0.117727</td>\n",
       "      <td>17.449238</td>\n",
       "      <td>0.000000</td>\n",
       "      <td>0.164248</td>\n",
       "      <td>12.506998</td>\n",
       "      <td>0.000000e+00</td>\n",
       "    </tr>\n",
       "  </tbody>\n",
       "</table>\n",
       "</div>"
      ],
      "text/plain": [
       "              Value   Std err     t-test   p-value  Rob. Std err  Rob. t-test  \\\n",
       "ASC_CAR   -0.167198  0.037136  -4.502351  0.000007      0.054529    -3.066216   \n",
       "ASC_TRAIN -0.511973  0.045178 -11.332242  0.000000      0.079113    -6.471410   \n",
       "B_COST    -0.856664  0.046275 -18.512650  0.000000      0.060039   -14.268469   \n",
       "B_TIME    -0.898596  0.056991 -15.767254  0.000000      0.107116    -8.389037   \n",
       "MU         2.054249  0.117727  17.449238  0.000000      0.164248    12.506998   \n",
       "\n",
       "           Rob. p-value  \n",
       "ASC_CAR    2.167863e-03  \n",
       "ASC_TRAIN  9.709256e-11  \n",
       "B_COST     0.000000e+00  \n",
       "B_TIME     0.000000e+00  \n",
       "MU         0.000000e+00  "
      ]
     },
     "execution_count": 18,
     "metadata": {},
     "output_type": "execute_result"
    }
   ],
   "source": [
    "results.getEstimatedParameters()"
   ]
  },
  {
   "cell_type": "code",
   "execution_count": 19,
   "metadata": {},
   "outputs": [
    {
     "data": {
      "text/plain": [
       "{'Number of estimated parameters': (5, ''),\n",
       " 'Sample size': (6768, ''),\n",
       " 'Excluded observations': (3960, ''),\n",
       " 'Init log likelihood': (-6964.662979192372, '.7g'),\n",
       " 'Final log likelihood': (-5236.90001542563, '.7g'),\n",
       " 'Likelihood ratio test for the init. model': (3455.5259275334847, '.7g'),\n",
       " 'Rho-square for the init. model': (0.24807560235557802, '.3g'),\n",
       " 'Rho-square-bar for the init. model': (0.24735769252778905, '.3g'),\n",
       " 'Akaike Information Criterion': (10483.80003085126, '.7g'),\n",
       " 'Bayesian Information Criterion': (10517.89983535769, '.7g'),\n",
       " 'Final gradient norm': (0.0290355708572915, '.4E'),\n",
       " 'Nbr of threads': (4, '')}"
      ]
     },
     "execution_count": 19,
     "metadata": {},
     "output_type": "execute_result"
    }
   ],
   "source": [
    "results.getGeneralStatistics()"
   ]
  },
  {
   "cell_type": "code",
   "execution_count": 20,
   "metadata": {},
   "outputs": [
    {
     "data": {
      "text/plain": [
       "{'ASC_CAR': -0.1671984945299977,\n",
       " 'ASC_TRAIN': -0.5119729189945217,\n",
       " 'B_COST': -0.8566640180954533,\n",
       " 'B_TIME': -0.8985964324916943,\n",
       " 'MU': 2.054249486211504}"
      ]
     },
     "execution_count": 20,
     "metadata": {},
     "output_type": "execute_result"
    }
   ],
   "source": [
    "results.getBetaValues()"
   ]
  },
  {
   "cell_type": "code",
   "execution_count": 21,
   "metadata": {},
   "outputs": [
    {
     "data": {
      "text/html": [
       "<div>\n",
       "<style scoped>\n",
       "    .dataframe tbody tr th:only-of-type {\n",
       "        vertical-align: middle;\n",
       "    }\n",
       "\n",
       "    .dataframe tbody tr th {\n",
       "        vertical-align: top;\n",
       "    }\n",
       "\n",
       "    .dataframe thead th {\n",
       "        text-align: right;\n",
       "    }\n",
       "</style>\n",
       "<table border=\"1\" class=\"dataframe\">\n",
       "  <thead>\n",
       "    <tr style=\"text-align: right;\">\n",
       "      <th></th>\n",
       "      <th>loglike</th>\n",
       "    </tr>\n",
       "  </thead>\n",
       "  <tbody>\n",
       "    <tr>\n",
       "      <th>0</th>\n",
       "      <td>-0.475055</td>\n",
       "    </tr>\n",
       "    <tr>\n",
       "      <th>1</th>\n",
       "      <td>-0.439247</td>\n",
       "    </tr>\n",
       "    <tr>\n",
       "      <th>2</th>\n",
       "      <td>-0.514670</td>\n",
       "    </tr>\n",
       "    <tr>\n",
       "      <th>3</th>\n",
       "      <td>-0.642297</td>\n",
       "    </tr>\n",
       "    <tr>\n",
       "      <th>4</th>\n",
       "      <td>-0.452943</td>\n",
       "    </tr>\n",
       "    <tr>\n",
       "      <th>...</th>\n",
       "      <td>...</td>\n",
       "    </tr>\n",
       "    <tr>\n",
       "      <th>8446</th>\n",
       "      <td>-1.599996</td>\n",
       "    </tr>\n",
       "    <tr>\n",
       "      <th>8447</th>\n",
       "      <td>-1.762829</td>\n",
       "    </tr>\n",
       "    <tr>\n",
       "      <th>8448</th>\n",
       "      <td>-1.935206</td>\n",
       "    </tr>\n",
       "    <tr>\n",
       "      <th>8449</th>\n",
       "      <td>-1.907229</td>\n",
       "    </tr>\n",
       "    <tr>\n",
       "      <th>8450</th>\n",
       "      <td>-1.629516</td>\n",
       "    </tr>\n",
       "  </tbody>\n",
       "</table>\n",
       "<p>6768 rows × 1 columns</p>\n",
       "</div>"
      ],
      "text/plain": [
       "       loglike\n",
       "0    -0.475055\n",
       "1    -0.439247\n",
       "2    -0.514670\n",
       "3    -0.642297\n",
       "4    -0.452943\n",
       "...        ...\n",
       "8446 -1.599996\n",
       "8447 -1.762829\n",
       "8448 -1.935206\n",
       "8449 -1.907229\n",
       "8450 -1.629516\n",
       "\n",
       "[6768 rows x 1 columns]"
      ]
     },
     "execution_count": 21,
     "metadata": {},
     "output_type": "execute_result"
    }
   ],
   "source": [
    "biogeme.simulate(results.getBetaValues())"
   ]
  },
  {
   "cell_type": "markdown",
   "metadata": {},
   "source": [
    "### Biogeme loglikelihood"
   ]
  },
  {
   "cell_type": "code",
   "execution_count": 24,
   "metadata": {},
   "outputs": [],
   "source": [
    "params = results.getBetaValues()"
   ]
  },
  {
   "cell_type": "code",
   "execution_count": 33,
   "metadata": {},
   "outputs": [
    {
     "data": {
      "text/plain": [
       "{'ASC_CAR': -0.1671984945299977,\n",
       " 'ASC_TRAIN': -0.5119729189945217,\n",
       " 'B_COST': -0.8566640180954533,\n",
       " 'B_TIME': -0.8985964324916943,\n",
       " 'MU': 2.054249486211504}"
      ]
     },
     "execution_count": 33,
     "metadata": {},
     "output_type": "execute_result"
    }
   ],
   "source": [
    "params"
   ]
  },
  {
   "cell_type": "code",
   "execution_count": 25,
   "metadata": {},
   "outputs": [],
   "source": [
    "V1 = (params[\"ASC_TRAIN\"] + params[\"B_TIME\"] * TRAIN_TT_SCALED + params[\"B_COST\"] * TRAIN_CO_SCALED)\n",
    "V2 = (0 + params[\"B_TIME\"] * SM_TT_SCALED +  params[\"B_COST\"] * SM_CO_SCALED)\n",
    "V3 = (params[\"ASC_CAR\"] + params[\"B_TIME\"] * CAR_TT_SCALED + params[\"B_COST\"] * CAR_CO_SCALED)"
   ]
  },
  {
   "cell_type": "code",
   "execution_count": 34,
   "metadata": {},
   "outputs": [],
   "source": [
    "df[\"V1\"] = database.valuesFromDatabase(V1*params[\"MU\"])\n",
    "df[\"V2\"] = database.valuesFromDatabase(V2)\n",
    "df[\"V3\"] = database.valuesFromDatabase(V3*params[\"MU\"])\n",
    "df[\"PRED\"] = np.argmax(df[[\"V1\",\"V2\",\"V3\"]].values, axis=1) + 1"
   ]
  },
  {
   "cell_type": "code",
   "execution_count": 35,
   "metadata": {},
   "outputs": [
    {
     "data": {
      "text/plain": [
       "Index(['GROUP', 'SURVEY', 'SP', 'ID', 'PURPOSE', 'FIRST', 'TICKET', 'WHO',\n",
       "       'LUGGAGE', 'AGE', 'MALE', 'INCOME', 'GA', 'ORIGIN', 'DEST', 'TRAIN_AV',\n",
       "       'CAR_AV', 'SM_AV', 'TRAIN_TT', 'TRAIN_CO', 'TRAIN_HE', 'SM_TT', 'SM_CO',\n",
       "       'SM_HE', 'SM_SEATS', 'CAR_TT', 'CAR_CO', 'CHOICE', 'V1', 'V2', 'V3',\n",
       "       'PRED'],\n",
       "      dtype='object')"
      ]
     },
     "execution_count": 35,
     "metadata": {},
     "output_type": "execute_result"
    }
   ],
   "source": [
    "df.columns"
   ]
  },
  {
   "cell_type": "code",
   "execution_count": 36,
   "metadata": {},
   "outputs": [],
   "source": [
    "cols = ['ID', 'PURPOSE', 'CHOICE', 'V1', 'V2', 'V3', 'PRED']"
   ]
  },
  {
   "cell_type": "code",
   "execution_count": 37,
   "metadata": {},
   "outputs": [
    {
     "data": {
      "text/html": [
       "<div>\n",
       "<style scoped>\n",
       "    .dataframe tbody tr th:only-of-type {\n",
       "        vertical-align: middle;\n",
       "    }\n",
       "\n",
       "    .dataframe tbody tr th {\n",
       "        vertical-align: top;\n",
       "    }\n",
       "\n",
       "    .dataframe thead th {\n",
       "        text-align: right;\n",
       "    }\n",
       "</style>\n",
       "<table border=\"1\" class=\"dataframe\">\n",
       "  <thead>\n",
       "    <tr style=\"text-align: right;\">\n",
       "      <th></th>\n",
       "      <th>ID</th>\n",
       "      <th>PURPOSE</th>\n",
       "      <th>CHOICE</th>\n",
       "      <th>V1</th>\n",
       "      <th>V2</th>\n",
       "      <th>V3</th>\n",
       "      <th>PRED</th>\n",
       "    </tr>\n",
       "  </thead>\n",
       "  <tbody>\n",
       "    <tr>\n",
       "      <th>0</th>\n",
       "      <td>1</td>\n",
       "      <td>1</td>\n",
       "      <td>2</td>\n",
       "      <td>-3.963879</td>\n",
       "      <td>-1.011581</td>\n",
       "      <td>-3.647090</td>\n",
       "      <td>2</td>\n",
       "    </tr>\n",
       "    <tr>\n",
       "      <th>1</th>\n",
       "      <td>1</td>\n",
       "      <td>1</td>\n",
       "      <td>2</td>\n",
       "      <td>-3.797744</td>\n",
       "      <td>-0.958923</td>\n",
       "      <td>-3.981452</td>\n",
       "      <td>2</td>\n",
       "    </tr>\n",
       "    <tr>\n",
       "      <th>2</th>\n",
       "      <td>1</td>\n",
       "      <td>1</td>\n",
       "      <td>2</td>\n",
       "      <td>-4.296149</td>\n",
       "      <td>-1.098925</td>\n",
       "      <td>-3.418316</td>\n",
       "      <td>2</td>\n",
       "    </tr>\n",
       "    <tr>\n",
       "      <th>3</th>\n",
       "      <td>1</td>\n",
       "      <td>1</td>\n",
       "      <td>2</td>\n",
       "      <td>-3.656960</td>\n",
       "      <td>-1.011581</td>\n",
       "      <td>-2.587642</td>\n",
       "      <td>2</td>\n",
       "    </tr>\n",
       "    <tr>\n",
       "      <th>4</th>\n",
       "      <td>1</td>\n",
       "      <td>1</td>\n",
       "      <td>2</td>\n",
       "      <td>-4.084972</td>\n",
       "      <td>-0.925915</td>\n",
       "      <td>-3.483048</td>\n",
       "      <td>2</td>\n",
       "    </tr>\n",
       "  </tbody>\n",
       "</table>\n",
       "</div>"
      ],
      "text/plain": [
       "   ID  PURPOSE  CHOICE        V1        V2        V3  PRED\n",
       "0   1        1       2 -3.963879 -1.011581 -3.647090     2\n",
       "1   1        1       2 -3.797744 -0.958923 -3.981452     2\n",
       "2   1        1       2 -4.296149 -1.098925 -3.418316     2\n",
       "3   1        1       2 -3.656960 -1.011581 -2.587642     2\n",
       "4   1        1       2 -4.084972 -0.925915 -3.483048     2"
      ]
     },
     "execution_count": 37,
     "metadata": {},
     "output_type": "execute_result"
    }
   ],
   "source": [
    "df[cols].head()"
   ]
  },
  {
   "cell_type": "code",
   "execution_count": 38,
   "metadata": {},
   "outputs": [],
   "source": [
    "def accuracy(actual, pred):\n",
    "    res = np.sum(np.array(actual) == np.array(pred)) / len(actual)\n",
    "    return res"
   ]
  },
  {
   "cell_type": "code",
   "execution_count": 39,
   "metadata": {},
   "outputs": [
    {
     "data": {
      "text/plain": [
       "0.5029550827423168"
      ]
     },
     "execution_count": 39,
     "metadata": {},
     "output_type": "execute_result"
    }
   ],
   "source": [
    "accuracy(df[\"CHOICE\"], df[\"PRED\"])"
   ]
  },
  {
   "cell_type": "code",
   "execution_count": null,
   "metadata": {},
   "outputs": [],
   "source": []
  }
 ],
 "metadata": {
  "kernelspec": {
   "display_name": "Python 3",
   "language": "python",
   "name": "python3"
  },
  "language_info": {
   "codemirror_mode": {
    "name": "ipython",
    "version": 3
   },
   "file_extension": ".py",
   "mimetype": "text/x-python",
   "name": "python",
   "nbconvert_exporter": "python",
   "pygments_lexer": "ipython3",
   "version": "3.8.5"
  }
 },
 "nbformat": 4,
 "nbformat_minor": 4
}
