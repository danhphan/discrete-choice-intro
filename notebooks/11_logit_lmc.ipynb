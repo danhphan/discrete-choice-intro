{
 "cells": [
  {
   "cell_type": "code",
   "execution_count": 42,
   "metadata": {},
   "outputs": [],
   "source": [
    "import numpy as np\n",
    "import pandas as pd\n",
    "from biogeme import models as models, database as db, biogeme as bio\n",
    "from utils import add_utilities"
   ]
  },
  {
   "cell_type": "code",
   "execution_count": 2,
   "metadata": {},
   "outputs": [],
   "source": [
    "from biogeme.expressions import Beta"
   ]
  },
  {
   "cell_type": "code",
   "execution_count": 6,
   "metadata": {},
   "outputs": [
    {
     "data": {
      "text/plain": [
       "(81086, 32)"
      ]
     },
     "execution_count": 6,
     "metadata": {},
     "output_type": "execute_result"
    }
   ],
   "source": [
    "# Read data\n",
    "df = pd.read_csv(\"../data/lpmc.dat\",sep='\\t')\n",
    "df.shape"
   ]
  },
  {
   "cell_type": "code",
   "execution_count": 7,
   "metadata": {},
   "outputs": [
    {
     "data": {
      "text/html": [
       "<div>\n",
       "<style scoped>\n",
       "    .dataframe tbody tr th:only-of-type {\n",
       "        vertical-align: middle;\n",
       "    }\n",
       "\n",
       "    .dataframe tbody tr th {\n",
       "        vertical-align: top;\n",
       "    }\n",
       "\n",
       "    .dataframe thead th {\n",
       "        text-align: right;\n",
       "    }\n",
       "</style>\n",
       "<table border=\"1\" class=\"dataframe\">\n",
       "  <thead>\n",
       "    <tr style=\"text-align: right;\">\n",
       "      <th></th>\n",
       "      <th>trip_id</th>\n",
       "      <th>household_id</th>\n",
       "      <th>person_n</th>\n",
       "      <th>trip_n</th>\n",
       "      <th>travel_mode</th>\n",
       "      <th>purpose</th>\n",
       "      <th>fueltype</th>\n",
       "      <th>faretype</th>\n",
       "      <th>bus_scale</th>\n",
       "      <th>survey_year</th>\n",
       "      <th>...</th>\n",
       "      <th>dur_pt_access</th>\n",
       "      <th>dur_pt_rail</th>\n",
       "      <th>dur_pt_bus</th>\n",
       "      <th>dur_pt_int</th>\n",
       "      <th>pt_interchanges</th>\n",
       "      <th>dur_driving</th>\n",
       "      <th>cost_transit</th>\n",
       "      <th>cost_driving_fuel</th>\n",
       "      <th>cost_driving_ccharge</th>\n",
       "      <th>driving_traffic_percent</th>\n",
       "    </tr>\n",
       "  </thead>\n",
       "  <tbody>\n",
       "    <tr>\n",
       "      <th>0</th>\n",
       "      <td>0</td>\n",
       "      <td>0</td>\n",
       "      <td>0</td>\n",
       "      <td>0</td>\n",
       "      <td>4</td>\n",
       "      <td>3</td>\n",
       "      <td>1</td>\n",
       "      <td>1</td>\n",
       "      <td>1.0</td>\n",
       "      <td>1</td>\n",
       "      <td>...</td>\n",
       "      <td>0.134444</td>\n",
       "      <td>0.0</td>\n",
       "      <td>0.016667</td>\n",
       "      <td>0.0</td>\n",
       "      <td>0</td>\n",
       "      <td>0.052222</td>\n",
       "      <td>1.5</td>\n",
       "      <td>0.14</td>\n",
       "      <td>0.0</td>\n",
       "      <td>0.111702</td>\n",
       "    </tr>\n",
       "    <tr>\n",
       "      <th>1</th>\n",
       "      <td>1</td>\n",
       "      <td>0</td>\n",
       "      <td>0</td>\n",
       "      <td>1</td>\n",
       "      <td>4</td>\n",
       "      <td>3</td>\n",
       "      <td>1</td>\n",
       "      <td>1</td>\n",
       "      <td>1.0</td>\n",
       "      <td>1</td>\n",
       "      <td>...</td>\n",
       "      <td>0.109444</td>\n",
       "      <td>0.0</td>\n",
       "      <td>0.055556</td>\n",
       "      <td>0.0</td>\n",
       "      <td>0</td>\n",
       "      <td>0.059444</td>\n",
       "      <td>1.5</td>\n",
       "      <td>0.15</td>\n",
       "      <td>0.0</td>\n",
       "      <td>0.112150</td>\n",
       "    </tr>\n",
       "    <tr>\n",
       "      <th>2</th>\n",
       "      <td>2</td>\n",
       "      <td>0</td>\n",
       "      <td>0</td>\n",
       "      <td>2</td>\n",
       "      <td>4</td>\n",
       "      <td>3</td>\n",
       "      <td>1</td>\n",
       "      <td>1</td>\n",
       "      <td>1.0</td>\n",
       "      <td>1</td>\n",
       "      <td>...</td>\n",
       "      <td>0.203056</td>\n",
       "      <td>0.0</td>\n",
       "      <td>0.210278</td>\n",
       "      <td>0.0</td>\n",
       "      <td>0</td>\n",
       "      <td>0.236667</td>\n",
       "      <td>1.5</td>\n",
       "      <td>0.79</td>\n",
       "      <td>0.0</td>\n",
       "      <td>0.203052</td>\n",
       "    </tr>\n",
       "    <tr>\n",
       "      <th>3</th>\n",
       "      <td>3</td>\n",
       "      <td>0</td>\n",
       "      <td>0</td>\n",
       "      <td>3</td>\n",
       "      <td>4</td>\n",
       "      <td>3</td>\n",
       "      <td>1</td>\n",
       "      <td>1</td>\n",
       "      <td>1.0</td>\n",
       "      <td>1</td>\n",
       "      <td>...</td>\n",
       "      <td>0.205556</td>\n",
       "      <td>0.0</td>\n",
       "      <td>0.258611</td>\n",
       "      <td>0.0</td>\n",
       "      <td>0</td>\n",
       "      <td>0.233333</td>\n",
       "      <td>1.5</td>\n",
       "      <td>0.78</td>\n",
       "      <td>0.0</td>\n",
       "      <td>0.160714</td>\n",
       "    </tr>\n",
       "    <tr>\n",
       "      <th>4</th>\n",
       "      <td>4</td>\n",
       "      <td>0</td>\n",
       "      <td>1</td>\n",
       "      <td>2</td>\n",
       "      <td>4</td>\n",
       "      <td>3</td>\n",
       "      <td>1</td>\n",
       "      <td>4</td>\n",
       "      <td>1.0</td>\n",
       "      <td>1</td>\n",
       "      <td>...</td>\n",
       "      <td>0.203056</td>\n",
       "      <td>0.0</td>\n",
       "      <td>0.189444</td>\n",
       "      <td>0.0</td>\n",
       "      <td>0</td>\n",
       "      <td>0.229167</td>\n",
       "      <td>1.5</td>\n",
       "      <td>0.78</td>\n",
       "      <td>0.0</td>\n",
       "      <td>0.130909</td>\n",
       "    </tr>\n",
       "  </tbody>\n",
       "</table>\n",
       "<p>5 rows × 32 columns</p>\n",
       "</div>"
      ],
      "text/plain": [
       "   trip_id  household_id  person_n  trip_n  travel_mode  purpose  fueltype  \\\n",
       "0        0             0         0       0            4        3         1   \n",
       "1        1             0         0       1            4        3         1   \n",
       "2        2             0         0       2            4        3         1   \n",
       "3        3             0         0       3            4        3         1   \n",
       "4        4             0         1       2            4        3         1   \n",
       "\n",
       "   faretype  bus_scale  survey_year  ...  dur_pt_access  dur_pt_rail  \\\n",
       "0         1        1.0            1  ...       0.134444          0.0   \n",
       "1         1        1.0            1  ...       0.109444          0.0   \n",
       "2         1        1.0            1  ...       0.203056          0.0   \n",
       "3         1        1.0            1  ...       0.205556          0.0   \n",
       "4         4        1.0            1  ...       0.203056          0.0   \n",
       "\n",
       "   dur_pt_bus  dur_pt_int  pt_interchanges  dur_driving  cost_transit  \\\n",
       "0    0.016667         0.0                0     0.052222           1.5   \n",
       "1    0.055556         0.0                0     0.059444           1.5   \n",
       "2    0.210278         0.0                0     0.236667           1.5   \n",
       "3    0.258611         0.0                0     0.233333           1.5   \n",
       "4    0.189444         0.0                0     0.229167           1.5   \n",
       "\n",
       "   cost_driving_fuel  cost_driving_ccharge  driving_traffic_percent  \n",
       "0               0.14                   0.0                 0.111702  \n",
       "1               0.15                   0.0                 0.112150  \n",
       "2               0.79                   0.0                 0.203052  \n",
       "3               0.78                   0.0                 0.160714  \n",
       "4               0.78                   0.0                 0.130909  \n",
       "\n",
       "[5 rows x 32 columns]"
      ]
     },
     "execution_count": 7,
     "metadata": {},
     "output_type": "execute_result"
    }
   ],
   "source": [
    "df.head()"
   ]
  },
  {
   "cell_type": "code",
   "execution_count": 8,
   "metadata": {},
   "outputs": [
    {
     "data": {
      "text/plain": [
       "Index(['trip_id', 'household_id', 'person_n', 'trip_n', 'travel_mode',\n",
       "       'purpose', 'fueltype', 'faretype', 'bus_scale', 'survey_year',\n",
       "       'travel_year', 'travel_month', 'travel_date', 'day_of_week',\n",
       "       'start_time', 'age', 'female', 'driving_license', 'car_ownership',\n",
       "       'distance', 'dur_walking', 'dur_cycling', 'dur_pt_access',\n",
       "       'dur_pt_rail', 'dur_pt_bus', 'dur_pt_int', 'pt_interchanges',\n",
       "       'dur_driving', 'cost_transit', 'cost_driving_fuel',\n",
       "       'cost_driving_ccharge', 'driving_traffic_percent'],\n",
       "      dtype='object')"
      ]
     },
     "execution_count": 8,
     "metadata": {},
     "output_type": "execute_result"
    }
   ],
   "source": [
    "df.columns"
   ]
  },
  {
   "cell_type": "code",
   "execution_count": 18,
   "metadata": {},
   "outputs": [],
   "source": [
    "df['dur_pt_total'] = df['dur_pt_access'] + df['dur_pt_rail'] + df['dur_pt_bus'] + df['dur_pt_int'] \n",
    "df['cost_driving'] = df['cost_driving_fuel'] + df['cost_driving_ccharge']"
   ]
  },
  {
   "cell_type": "code",
   "execution_count": 20,
   "metadata": {},
   "outputs": [],
   "source": [
    "cols = ['trip_id', 'travel_mode',      \n",
    "        'dur_walking', 'dur_cycling', 'dur_pt_total', 'dur_driving', \n",
    "        'cost_transit', 'cost_driving']\n",
    "\n",
    "df = df[cols]"
   ]
  },
  {
   "cell_type": "code",
   "execution_count": 21,
   "metadata": {},
   "outputs": [
    {
     "data": {
      "text/plain": [
       "4    35808\n",
       "3    28605\n",
       "1    14268\n",
       "2     2405\n",
       "Name: travel_mode, dtype: int64"
      ]
     },
     "execution_count": 21,
     "metadata": {},
     "output_type": "execute_result"
    }
   ],
   "source": [
    "#  (1: walk, 2: cycle, 3: public transport, 4: drive)\n",
    "df.travel_mode.value_counts()"
   ]
  },
  {
   "cell_type": "code",
   "execution_count": 23,
   "metadata": {},
   "outputs": [],
   "source": [
    "data = db.Database(\"lmc\",df)"
   ]
  },
  {
   "cell_type": "code",
   "execution_count": 24,
   "metadata": {},
   "outputs": [
    {
     "data": {
      "text/plain": [
       "{'trip_id': trip_id,\n",
       " 'travel_mode': travel_mode,\n",
       " 'dur_walking': dur_walking,\n",
       " 'dur_cycling': dur_cycling,\n",
       " 'dur_pt_total': dur_pt_total,\n",
       " 'dur_driving': dur_driving,\n",
       " 'cost_transit': cost_transit,\n",
       " 'cost_driving': cost_driving}"
      ]
     },
     "execution_count": 24,
     "metadata": {},
     "output_type": "execute_result"
    }
   ],
   "source": [
    "data.variables"
   ]
  },
  {
   "cell_type": "code",
   "execution_count": 26,
   "metadata": {},
   "outputs": [],
   "source": [
    "globals().update(data.variables)"
   ]
  },
  {
   "cell_type": "code",
   "execution_count": 28,
   "metadata": {},
   "outputs": [],
   "source": [
    "# Create parameters\n",
    "asc_walk = Beta('asc_walk',0,None,None,0)\n",
    "asc_cycle = Beta('asc_cycle',0,None,None,0)\n",
    "asc_trsit = Beta('asc_trsit',0,None,None,0)\n",
    "asc_drive = Beta('asc_drive',0,None,None,1)\n",
    "\n",
    "b_dur = Beta('b_dur',0,None,None,0)\n",
    "b_cos = Beta('b_cos',0,None,None,0)"
   ]
  },
  {
   "cell_type": "code",
   "execution_count": 29,
   "metadata": {},
   "outputs": [
    {
     "data": {
      "text/plain": [
       "['trip_id',\n",
       " 'travel_mode',\n",
       " 'dur_walking',\n",
       " 'dur_cycling',\n",
       " 'dur_pt_total',\n",
       " 'dur_driving',\n",
       " 'cost_transit',\n",
       " 'cost_driving']"
      ]
     },
     "execution_count": 29,
     "metadata": {},
     "output_type": "execute_result"
    }
   ],
   "source": [
    "cols"
   ]
  },
  {
   "cell_type": "code",
   "execution_count": 32,
   "metadata": {},
   "outputs": [],
   "source": [
    "# Create utility function\n",
    "v_walk = asc_walk + b_dur * dur_walking\n",
    "v_cycle = asc_cycle + b_dur * dur_cycling\n",
    "v_trsit = asc_trsit + b_dur * dur_pt_total + b_cos * cost_transit\n",
    "v_drive = asc_drive + b_dur * dur_driving + b_cos * cost_driving\n",
    "v = {1:v_walk, 2:v_cycle, 3:v_trsit, 4:v_drive}\n"
   ]
  },
  {
   "cell_type": "code",
   "execution_count": 34,
   "metadata": {},
   "outputs": [],
   "source": [
    "logprob = models.logit(v, None, travel_mode)"
   ]
  },
  {
   "cell_type": "code",
   "execution_count": 35,
   "metadata": {},
   "outputs": [],
   "source": [
    "mlogit = bio.BIOGEME(data, logprob)\n",
    "mlogit.modelName = \"11_logit_lmc\""
   ]
  },
  {
   "cell_type": "code",
   "execution_count": 49,
   "metadata": {},
   "outputs": [
    {
     "name": "stdout",
     "output_type": "stream",
     "text": [
      "CPU times: user 9min 32s, sys: 1.9 s, total: 9min 34s\n",
      "Wall time: 2min 38s\n"
     ]
    }
   ],
   "source": [
    "%%time\n",
    "res = mlogit.estimate(saveIterations=True,file_iterations=\"11_logit_lmc_params.txt\")"
   ]
  },
  {
   "cell_type": "code",
   "execution_count": 50,
   "metadata": {},
   "outputs": [
    {
     "data": {
      "text/html": [
       "<div>\n",
       "<style scoped>\n",
       "    .dataframe tbody tr th:only-of-type {\n",
       "        vertical-align: middle;\n",
       "    }\n",
       "\n",
       "    .dataframe tbody tr th {\n",
       "        vertical-align: top;\n",
       "    }\n",
       "\n",
       "    .dataframe thead th {\n",
       "        text-align: right;\n",
       "    }\n",
       "</style>\n",
       "<table border=\"1\" class=\"dataframe\">\n",
       "  <thead>\n",
       "    <tr style=\"text-align: right;\">\n",
       "      <th></th>\n",
       "      <th>Value</th>\n",
       "      <th>Std err</th>\n",
       "      <th>t-test</th>\n",
       "      <th>p-value</th>\n",
       "      <th>Rob. Std err</th>\n",
       "      <th>Rob. t-test</th>\n",
       "      <th>Rob. p-value</th>\n",
       "    </tr>\n",
       "  </thead>\n",
       "  <tbody>\n",
       "    <tr>\n",
       "      <th>asc_cycle</th>\n",
       "      <td>-277.126484</td>\n",
       "      <td>1.797693e+308</td>\n",
       "      <td>-1.541567e-306</td>\n",
       "      <td>1.000000e+00</td>\n",
       "      <td>1.797693e+308</td>\n",
       "      <td>-1.541567e-306</td>\n",
       "      <td>1.000000</td>\n",
       "    </tr>\n",
       "    <tr>\n",
       "      <th>asc_trsit</th>\n",
       "      <td>22.301737</td>\n",
       "      <td>3.073347e+00</td>\n",
       "      <td>7.256498e+00</td>\n",
       "      <td>3.972378e-13</td>\n",
       "      <td>4.829463e+00</td>\n",
       "      <td>4.617850e+00</td>\n",
       "      <td>0.000004</td>\n",
       "    </tr>\n",
       "    <tr>\n",
       "      <th>asc_walk</th>\n",
       "      <td>-73.650299</td>\n",
       "      <td>5.006554e-13</td>\n",
       "      <td>-1.471078e+14</td>\n",
       "      <td>0.000000e+00</td>\n",
       "      <td>8.653971e-13</td>\n",
       "      <td>-8.510578e+13</td>\n",
       "      <td>0.000000</td>\n",
       "    </tr>\n",
       "    <tr>\n",
       "      <th>b_cos</th>\n",
       "      <td>-12.201773</td>\n",
       "      <td>1.723986e+00</td>\n",
       "      <td>-7.077652e+00</td>\n",
       "      <td>1.466161e-12</td>\n",
       "      <td>2.945159e+00</td>\n",
       "      <td>-4.142993e+00</td>\n",
       "      <td>0.000034</td>\n",
       "    </tr>\n",
       "    <tr>\n",
       "      <th>b_dur</th>\n",
       "      <td>-315.786761</td>\n",
       "      <td>4.534525e+01</td>\n",
       "      <td>-6.964054e+00</td>\n",
       "      <td>3.306244e-12</td>\n",
       "      <td>7.843443e+01</td>\n",
       "      <td>-4.026124e+00</td>\n",
       "      <td>0.000057</td>\n",
       "    </tr>\n",
       "  </tbody>\n",
       "</table>\n",
       "</div>"
      ],
      "text/plain": [
       "                Value        Std err         t-test       p-value  \\\n",
       "asc_cycle -277.126484  1.797693e+308 -1.541567e-306  1.000000e+00   \n",
       "asc_trsit   22.301737   3.073347e+00   7.256498e+00  3.972378e-13   \n",
       "asc_walk   -73.650299   5.006554e-13  -1.471078e+14  0.000000e+00   \n",
       "b_cos      -12.201773   1.723986e+00  -7.077652e+00  1.466161e-12   \n",
       "b_dur     -315.786761   4.534525e+01  -6.964054e+00  3.306244e-12   \n",
       "\n",
       "            Rob. Std err    Rob. t-test  Rob. p-value  \n",
       "asc_cycle  1.797693e+308 -1.541567e-306      1.000000  \n",
       "asc_trsit   4.829463e+00   4.617850e+00      0.000004  \n",
       "asc_walk    8.653971e-13  -8.510578e+13      0.000000  \n",
       "b_cos       2.945159e+00  -4.142993e+00      0.000034  \n",
       "b_dur       7.843443e+01  -4.026124e+00      0.000057  "
      ]
     },
     "execution_count": 50,
     "metadata": {},
     "output_type": "execute_result"
    }
   ],
   "source": [
    "res.getEstimatedParameters()"
   ]
  },
  {
   "cell_type": "code",
   "execution_count": 54,
   "metadata": {},
   "outputs": [
    {
     "data": {
      "text/plain": [
       "(asc_walk(-73.65029911809745) + (b_dur(-315.786760914279) * dur_walking))"
      ]
     },
     "execution_count": 54,
     "metadata": {},
     "output_type": "execute_result"
    }
   ],
   "source": [
    "v_walk"
   ]
  },
  {
   "cell_type": "code",
   "execution_count": 55,
   "metadata": {},
   "outputs": [],
   "source": [
    "mlogit.loadSavedIteration(\"11_logit_lmc_params.txt\")"
   ]
  },
  {
   "cell_type": "code",
   "execution_count": 56,
   "metadata": {},
   "outputs": [
    {
     "data": {
      "text/plain": [
       "exp(_bioLogLogitFullChoiceSet(1:(asc_walk(-73.65029911809745) + (b_dur(-315.786760914279) * dur_walking)), 2:(asc_cycle(-277.12648351963844) + (b_dur(-315.786760914279) * dur_cycling)), 3:((asc_trsit(22.301736979691917) + (b_dur(-315.786760914279) * dur_pt_total)) + (b_cos(-12.201772975805605) * cost_transit)), 4:((asc_drive(0) + (b_dur(-315.786760914279) * dur_driving)) + (b_cos(-12.201772975805605) * cost_driving))))"
      ]
     },
     "execution_count": 56,
     "metadata": {},
     "output_type": "execute_result"
    }
   ],
   "source": [
    "mlogit.loglike"
   ]
  },
  {
   "cell_type": "code",
   "execution_count": 59,
   "metadata": {},
   "outputs": [],
   "source": [
    "def add_utilities(db, V):\n",
    "    df = db.data\n",
    "    for idx, v in V.items():\n",
    "        df[f'V_{idx}'] = db.valuesFromDatabase(v)\n",
    "    Vs = [f'V_{idx}' for idx in V.keys()]\n",
    "    df[\"PRED\"] = np.argmax(df[Vs].values, axis=1) + 1\n",
    "    return df"
   ]
  },
  {
   "cell_type": "code",
   "execution_count": 60,
   "metadata": {},
   "outputs": [],
   "source": [
    "test = add_utilities(data, v)"
   ]
  },
  {
   "cell_type": "code",
   "execution_count": 61,
   "metadata": {},
   "outputs": [
    {
     "data": {
      "text/html": [
       "<div>\n",
       "<style scoped>\n",
       "    .dataframe tbody tr th:only-of-type {\n",
       "        vertical-align: middle;\n",
       "    }\n",
       "\n",
       "    .dataframe tbody tr th {\n",
       "        vertical-align: top;\n",
       "    }\n",
       "\n",
       "    .dataframe thead th {\n",
       "        text-align: right;\n",
       "    }\n",
       "</style>\n",
       "<table border=\"1\" class=\"dataframe\">\n",
       "  <thead>\n",
       "    <tr style=\"text-align: right;\">\n",
       "      <th></th>\n",
       "      <th>trip_id</th>\n",
       "      <th>travel_mode</th>\n",
       "      <th>dur_walking</th>\n",
       "      <th>dur_cycling</th>\n",
       "      <th>dur_pt_total</th>\n",
       "      <th>dur_driving</th>\n",
       "      <th>cost_transit</th>\n",
       "      <th>cost_driving</th>\n",
       "      <th>V_1</th>\n",
       "      <th>V_2</th>\n",
       "      <th>V_3</th>\n",
       "      <th>V_4</th>\n",
       "      <th>PRED</th>\n",
       "    </tr>\n",
       "  </thead>\n",
       "  <tbody>\n",
       "    <tr>\n",
       "      <th>0</th>\n",
       "      <td>0</td>\n",
       "      <td>4</td>\n",
       "      <td>0.218056</td>\n",
       "      <td>0.092222</td>\n",
       "      <td>0.151111</td>\n",
       "      <td>0.052222</td>\n",
       "      <td>1.5</td>\n",
       "      <td>0.14</td>\n",
       "      <td>-142.509357</td>\n",
       "      <td>-306.249040</td>\n",
       "      <td>-43.719811</td>\n",
       "      <td>-18.199335</td>\n",
       "      <td>4</td>\n",
       "    </tr>\n",
       "    <tr>\n",
       "      <th>1</th>\n",
       "      <td>1</td>\n",
       "      <td>4</td>\n",
       "      <td>0.188889</td>\n",
       "      <td>0.061944</td>\n",
       "      <td>0.165000</td>\n",
       "      <td>0.059444</td>\n",
       "      <td>1.5</td>\n",
       "      <td>0.15</td>\n",
       "      <td>-133.298910</td>\n",
       "      <td>-296.687719</td>\n",
       "      <td>-48.105738</td>\n",
       "      <td>-20.602034</td>\n",
       "      <td>4</td>\n",
       "    </tr>\n",
       "    <tr>\n",
       "      <th>2</th>\n",
       "      <td>2</td>\n",
       "      <td>4</td>\n",
       "      <td>1.037778</td>\n",
       "      <td>0.355833</td>\n",
       "      <td>0.413333</td>\n",
       "      <td>0.236667</td>\n",
       "      <td>1.5</td>\n",
       "      <td>0.79</td>\n",
       "      <td>-401.366782</td>\n",
       "      <td>-389.493939</td>\n",
       "      <td>-126.526117</td>\n",
       "      <td>-84.375601</td>\n",
       "      <td>4</td>\n",
       "    </tr>\n",
       "    <tr>\n",
       "      <th>3</th>\n",
       "      <td>3</td>\n",
       "      <td>4</td>\n",
       "      <td>1.039444</td>\n",
       "      <td>0.384444</td>\n",
       "      <td>0.464167</td>\n",
       "      <td>0.233333</td>\n",
       "      <td>1.5</td>\n",
       "      <td>0.78</td>\n",
       "      <td>-401.893093</td>\n",
       "      <td>-398.528949</td>\n",
       "      <td>-142.578611</td>\n",
       "      <td>-83.200960</td>\n",
       "      <td>4</td>\n",
       "    </tr>\n",
       "    <tr>\n",
       "      <th>4</th>\n",
       "      <td>4</td>\n",
       "      <td>4</td>\n",
       "      <td>1.037778</td>\n",
       "      <td>0.355833</td>\n",
       "      <td>0.392500</td>\n",
       "      <td>0.229167</td>\n",
       "      <td>1.5</td>\n",
       "      <td>0.78</td>\n",
       "      <td>-401.366782</td>\n",
       "      <td>-389.493939</td>\n",
       "      <td>-119.947226</td>\n",
       "      <td>-81.885182</td>\n",
       "      <td>4</td>\n",
       "    </tr>\n",
       "  </tbody>\n",
       "</table>\n",
       "</div>"
      ],
      "text/plain": [
       "   trip_id  travel_mode  dur_walking  dur_cycling  dur_pt_total  dur_driving  \\\n",
       "0        0            4     0.218056     0.092222      0.151111     0.052222   \n",
       "1        1            4     0.188889     0.061944      0.165000     0.059444   \n",
       "2        2            4     1.037778     0.355833      0.413333     0.236667   \n",
       "3        3            4     1.039444     0.384444      0.464167     0.233333   \n",
       "4        4            4     1.037778     0.355833      0.392500     0.229167   \n",
       "\n",
       "   cost_transit  cost_driving         V_1         V_2         V_3        V_4  \\\n",
       "0           1.5          0.14 -142.509357 -306.249040  -43.719811 -18.199335   \n",
       "1           1.5          0.15 -133.298910 -296.687719  -48.105738 -20.602034   \n",
       "2           1.5          0.79 -401.366782 -389.493939 -126.526117 -84.375601   \n",
       "3           1.5          0.78 -401.893093 -398.528949 -142.578611 -83.200960   \n",
       "4           1.5          0.78 -401.366782 -389.493939 -119.947226 -81.885182   \n",
       "\n",
       "   PRED  \n",
       "0     4  \n",
       "1     4  \n",
       "2     4  \n",
       "3     4  \n",
       "4     4  "
      ]
     },
     "execution_count": 61,
     "metadata": {},
     "output_type": "execute_result"
    }
   ],
   "source": [
    "test.head()"
   ]
  },
  {
   "cell_type": "code",
   "execution_count": 62,
   "metadata": {},
   "outputs": [],
   "source": [
    "def accuracy(actual, pred):\n",
    "    res = np.sum(np.array(actual) == np.array(pred)) / len(actual)\n",
    "    return res"
   ]
  },
  {
   "cell_type": "code",
   "execution_count": 63,
   "metadata": {},
   "outputs": [
    {
     "data": {
      "text/plain": [
       "0.5334829686998989"
      ]
     },
     "execution_count": 63,
     "metadata": {},
     "output_type": "execute_result"
    }
   ],
   "source": [
    "accuracy(test['travel_mode'], test[\"PRED\"])"
   ]
  },
  {
   "cell_type": "code",
   "execution_count": 64,
   "metadata": {},
   "outputs": [
    {
     "data": {
      "text/plain": [
       "4    35808\n",
       "3    28605\n",
       "1    14268\n",
       "2     2405\n",
       "Name: travel_mode, dtype: int64"
      ]
     },
     "execution_count": 64,
     "metadata": {},
     "output_type": "execute_result"
    }
   ],
   "source": [
    "test['travel_mode'].value_counts()"
   ]
  },
  {
   "cell_type": "code",
   "execution_count": 65,
   "metadata": {},
   "outputs": [
    {
     "data": {
      "text/plain": [
       "4    63773\n",
       "3    17313\n",
       "Name: PRED, dtype: int64"
      ]
     },
     "execution_count": 65,
     "metadata": {},
     "output_type": "execute_result"
    }
   ],
   "source": [
    "test['PRED'].value_counts()"
   ]
  },
  {
   "cell_type": "code",
   "execution_count": null,
   "metadata": {},
   "outputs": [],
   "source": []
  }
 ],
 "metadata": {
  "kernelspec": {
   "display_name": "Python 3",
   "language": "python",
   "name": "python3"
  },
  "language_info": {
   "codemirror_mode": {
    "name": "ipython",
    "version": 3
   },
   "file_extension": ".py",
   "mimetype": "text/x-python",
   "name": "python",
   "nbconvert_exporter": "python",
   "pygments_lexer": "ipython3",
   "version": "3.8.5"
  }
 },
 "nbformat": 4,
 "nbformat_minor": 4
}
