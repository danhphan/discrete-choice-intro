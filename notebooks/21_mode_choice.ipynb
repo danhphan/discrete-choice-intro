{
 "cells": [
  {
   "cell_type": "code",
   "execution_count": 1,
   "metadata": {},
   "outputs": [],
   "source": [
    "import numpy as np\n",
    "import pandas as pd\n",
    "import biogeme.database as db\n",
    "import biogeme.biogeme as bio\n",
    "import biogeme.models as models\n",
    "from biogeme.expressions import Beta\n",
    "from utils import *"
   ]
  },
  {
   "cell_type": "code",
   "execution_count": 2,
   "metadata": {},
   "outputs": [
    {
     "data": {
      "text/plain": [
       "(1739, 28)"
      ]
     },
     "execution_count": 2,
     "metadata": {},
     "output_type": "execute_result"
    }
   ],
   "source": [
    "# Read data\n",
    "df = pd.read_csv(\"../data/netherlands.dat\",'\\t')\n",
    "df.shape"
   ]
  },
  {
   "cell_type": "code",
   "execution_count": 3,
   "metadata": {},
   "outputs": [
    {
     "data": {
      "text/html": [
       "<div>\n",
       "<style scoped>\n",
       "    .dataframe tbody tr th:only-of-type {\n",
       "        vertical-align: middle;\n",
       "    }\n",
       "\n",
       "    .dataframe tbody tr th {\n",
       "        vertical-align: top;\n",
       "    }\n",
       "\n",
       "    .dataframe thead th {\n",
       "        text-align: right;\n",
       "    }\n",
       "</style>\n",
       "<table border=\"1\" class=\"dataframe\">\n",
       "  <thead>\n",
       "    <tr style=\"text-align: right;\">\n",
       "      <th></th>\n",
       "      <th>id</th>\n",
       "      <th>rp</th>\n",
       "      <th>sp</th>\n",
       "      <th>choice</th>\n",
       "      <th>purpose</th>\n",
       "      <th>npersons</th>\n",
       "      <th>age</th>\n",
       "      <th>employ_status</th>\n",
       "      <th>mainearn</th>\n",
       "      <th>arrival_time</th>\n",
       "      <th>...</th>\n",
       "      <th>seat_status</th>\n",
       "      <th>car_ivtt</th>\n",
       "      <th>car_cost</th>\n",
       "      <th>car_walk_time</th>\n",
       "      <th>car_parking_fee</th>\n",
       "      <th>rail_comfort</th>\n",
       "      <th>rp_transfer</th>\n",
       "      <th>rp_choice</th>\n",
       "      <th>rp_rail_ovt</th>\n",
       "      <th>rp_car_ovt</th>\n",
       "    </tr>\n",
       "  </thead>\n",
       "  <tbody>\n",
       "    <tr>\n",
       "      <th>0</th>\n",
       "      <td>1</td>\n",
       "      <td>1</td>\n",
       "      <td>0</td>\n",
       "      <td>0</td>\n",
       "      <td>0</td>\n",
       "      <td>3</td>\n",
       "      <td>0</td>\n",
       "      <td>0</td>\n",
       "      <td>0</td>\n",
       "      <td>0</td>\n",
       "      <td>...</td>\n",
       "      <td>0</td>\n",
       "      <td>1.000</td>\n",
       "      <td>5.0</td>\n",
       "      <td>0.167</td>\n",
       "      <td>0</td>\n",
       "      <td>-1</td>\n",
       "      <td>0</td>\n",
       "      <td>0</td>\n",
       "      <td>0.5</td>\n",
       "      <td>0.167</td>\n",
       "    </tr>\n",
       "    <tr>\n",
       "      <th>1</th>\n",
       "      <td>1</td>\n",
       "      <td>0</td>\n",
       "      <td>1</td>\n",
       "      <td>10</td>\n",
       "      <td>0</td>\n",
       "      <td>3</td>\n",
       "      <td>0</td>\n",
       "      <td>0</td>\n",
       "      <td>0</td>\n",
       "      <td>0</td>\n",
       "      <td>...</td>\n",
       "      <td>-1</td>\n",
       "      <td>1.167</td>\n",
       "      <td>7.5</td>\n",
       "      <td>-1.000</td>\n",
       "      <td>-1</td>\n",
       "      <td>0</td>\n",
       "      <td>0</td>\n",
       "      <td>0</td>\n",
       "      <td>0.5</td>\n",
       "      <td>0.167</td>\n",
       "    </tr>\n",
       "    <tr>\n",
       "      <th>2</th>\n",
       "      <td>1</td>\n",
       "      <td>0</td>\n",
       "      <td>1</td>\n",
       "      <td>10</td>\n",
       "      <td>0</td>\n",
       "      <td>3</td>\n",
       "      <td>0</td>\n",
       "      <td>0</td>\n",
       "      <td>0</td>\n",
       "      <td>0</td>\n",
       "      <td>...</td>\n",
       "      <td>-1</td>\n",
       "      <td>1.167</td>\n",
       "      <td>7.0</td>\n",
       "      <td>-1.000</td>\n",
       "      <td>-1</td>\n",
       "      <td>0</td>\n",
       "      <td>0</td>\n",
       "      <td>0</td>\n",
       "      <td>0.5</td>\n",
       "      <td>0.167</td>\n",
       "    </tr>\n",
       "    <tr>\n",
       "      <th>3</th>\n",
       "      <td>1</td>\n",
       "      <td>0</td>\n",
       "      <td>1</td>\n",
       "      <td>10</td>\n",
       "      <td>0</td>\n",
       "      <td>3</td>\n",
       "      <td>0</td>\n",
       "      <td>0</td>\n",
       "      <td>0</td>\n",
       "      <td>0</td>\n",
       "      <td>...</td>\n",
       "      <td>-1</td>\n",
       "      <td>1.167</td>\n",
       "      <td>6.5</td>\n",
       "      <td>-1.000</td>\n",
       "      <td>-1</td>\n",
       "      <td>0</td>\n",
       "      <td>0</td>\n",
       "      <td>0</td>\n",
       "      <td>0.5</td>\n",
       "      <td>0.167</td>\n",
       "    </tr>\n",
       "    <tr>\n",
       "      <th>4</th>\n",
       "      <td>1</td>\n",
       "      <td>0</td>\n",
       "      <td>1</td>\n",
       "      <td>10</td>\n",
       "      <td>0</td>\n",
       "      <td>3</td>\n",
       "      <td>0</td>\n",
       "      <td>0</td>\n",
       "      <td>0</td>\n",
       "      <td>0</td>\n",
       "      <td>...</td>\n",
       "      <td>-1</td>\n",
       "      <td>1.167</td>\n",
       "      <td>6.0</td>\n",
       "      <td>-1.000</td>\n",
       "      <td>-1</td>\n",
       "      <td>0</td>\n",
       "      <td>0</td>\n",
       "      <td>0</td>\n",
       "      <td>0.5</td>\n",
       "      <td>0.167</td>\n",
       "    </tr>\n",
       "  </tbody>\n",
       "</table>\n",
       "<p>5 rows × 28 columns</p>\n",
       "</div>"
      ],
      "text/plain": [
       "   id  rp  sp  choice  purpose  npersons  age  employ_status  mainearn  \\\n",
       "0   1   1   0       0        0         3    0              0         0   \n",
       "1   1   0   1      10        0         3    0              0         0   \n",
       "2   1   0   1      10        0         3    0              0         0   \n",
       "3   1   0   1      10        0         3    0              0         0   \n",
       "4   1   0   1      10        0         3    0              0         0   \n",
       "\n",
       "   arrival_time  ...  seat_status  car_ivtt  car_cost  car_walk_time  \\\n",
       "0             0  ...            0     1.000       5.0          0.167   \n",
       "1             0  ...           -1     1.167       7.5         -1.000   \n",
       "2             0  ...           -1     1.167       7.0         -1.000   \n",
       "3             0  ...           -1     1.167       6.5         -1.000   \n",
       "4             0  ...           -1     1.167       6.0         -1.000   \n",
       "\n",
       "   car_parking_fee  rail_comfort  rp_transfer  rp_choice  rp_rail_ovt  \\\n",
       "0                0            -1            0          0          0.5   \n",
       "1               -1             0            0          0          0.5   \n",
       "2               -1             0            0          0          0.5   \n",
       "3               -1             0            0          0          0.5   \n",
       "4               -1             0            0          0          0.5   \n",
       "\n",
       "   rp_car_ovt  \n",
       "0       0.167  \n",
       "1       0.167  \n",
       "2       0.167  \n",
       "3       0.167  \n",
       "4       0.167  \n",
       "\n",
       "[5 rows x 28 columns]"
      ]
     },
     "execution_count": 3,
     "metadata": {},
     "output_type": "execute_result"
    }
   ],
   "source": [
    "df.head()"
   ]
  },
  {
   "cell_type": "code",
   "execution_count": 7,
   "metadata": {},
   "outputs": [
    {
     "data": {
      "text/plain": [
       "Index(['id', 'rp', 'sp', 'choice', 'purpose', 'npersons', 'age',\n",
       "       'employ_status', 'mainearn', 'arrival_time', 'gender', 'rail_ivtt',\n",
       "       'rail_cost', 'rail_transfers', 'rail_acc_time', 'rail_egr_time',\n",
       "       'rail_acc_mode', 'rail_egr_mode', 'seat_status', 'car_ivtt', 'car_cost',\n",
       "       'car_walk_time', 'car_parking_fee', 'rail_comfort', 'rp_transfer',\n",
       "       'rp_choice', 'rp_rail_ovt', 'rp_car_ovt'],\n",
       "      dtype='object')"
      ]
     },
     "execution_count": 7,
     "metadata": {},
     "output_type": "execute_result"
    }
   ],
   "source": [
    "df.columns"
   ]
  },
  {
   "cell_type": "code",
   "execution_count": 4,
   "metadata": {},
   "outputs": [],
   "source": [
    "data = db.Database('netherland',df)"
   ]
  },
  {
   "cell_type": "code",
   "execution_count": 6,
   "metadata": {},
   "outputs": [],
   "source": [
    "globals().update(data.variables)"
   ]
  },
  {
   "cell_type": "code",
   "execution_count": 9,
   "metadata": {},
   "outputs": [],
   "source": [
    "# params\n",
    "asc_car = Beta('asc_car', 0, None, None, 0)\n",
    "asc_rail = Beta('asc_car', 0, None, None, 1)\n",
    "b_time_car = Beta('b_time_car', 0, None, None, 0)\n",
    "b_time_rail = Beta('b_time_rail', 0, None, None, 0)\n",
    "b_cost = Beta('b_cost', 0, None, None, 0)\n",
    "b_gen1 = Beta('b_gen1', 0, None, None, 0)\n",
    "b_gen2 = Beta('b_gen12', 0, None, None, 0)"
   ]
  },
  {
   "cell_type": "code",
   "execution_count": 10,
   "metadata": {},
   "outputs": [],
   "source": [
    "# Utilities\n",
    "v_car = asc_car + b_time_car * car_ivtt + b_cost * car_cost + b_gen1 * gender\n",
    "v_rail = asc_rail + b_time_rail * rail_ivtt + b_cost * rail_cost + b_gen2 * gender"
   ]
  },
  {
   "cell_type": "code",
   "execution_count": 11,
   "metadata": {},
   "outputs": [
    {
     "data": {
      "text/plain": [
       "10    1104\n",
       "11     407\n",
       "0      147\n",
       "1       81\n",
       "Name: choice, dtype: int64"
      ]
     },
     "execution_count": 11,
     "metadata": {},
     "output_type": "execute_result"
    }
   ],
   "source": [
    "df.choice.value_counts()"
   ]
  },
  {
   "cell_type": "code",
   "execution_count": null,
   "metadata": {},
   "outputs": [],
   "source": []
  },
  {
   "cell_type": "code",
   "execution_count": null,
   "metadata": {},
   "outputs": [],
   "source": []
  },
  {
   "cell_type": "code",
   "execution_count": null,
   "metadata": {},
   "outputs": [],
   "source": []
  },
  {
   "cell_type": "code",
   "execution_count": null,
   "metadata": {},
   "outputs": [],
   "source": []
  }
 ],
 "metadata": {
  "kernelspec": {
   "display_name": "Python 3",
   "language": "python",
   "name": "python3"
  },
  "language_info": {
   "codemirror_mode": {
    "name": "ipython",
    "version": 3
   },
   "file_extension": ".py",
   "mimetype": "text/x-python",
   "name": "python",
   "nbconvert_exporter": "python",
   "pygments_lexer": "ipython3",
   "version": "3.8.5"
  }
 },
 "nbformat": 4,
 "nbformat_minor": 4
}
