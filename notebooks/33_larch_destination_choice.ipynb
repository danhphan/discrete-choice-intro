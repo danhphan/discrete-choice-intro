{
 "cells": [
  {
   "cell_type": "markdown",
   "id": "76e2be91-3f25-4e90-adfb-64bcd0fd351f",
   "metadata": {},
   "source": [
    "## Exampville Destination Choice"
   ]
  },
  {
   "cell_type": "code",
   "execution_count": 1,
   "id": "409ecd18-76a0-4af1-a8dc-eabfc56f86a1",
   "metadata": {},
   "outputs": [],
   "source": [
    "import os\n",
    "import numpy as np\n",
    "import pandas as pd\n",
    "import larch\n",
    "import larch.exampville\n",
    "from larch import P, X"
   ]
  },
  {
   "cell_type": "code",
   "execution_count": 2,
   "id": "5a761a53-275d-4816-a7e0-9aec49e6abc3",
   "metadata": {},
   "outputs": [],
   "source": [
    "hh = pd.read_csv( larch.exampville.files.hh )\n",
    "pp = pd.read_csv( larch.exampville.files.person )\n",
    "tour = pd.read_csv( larch.exampville.files.tour )\n",
    "skims = larch.OMX( larch.exampville.files.skims, mode='r' )"
   ]
  },
  {
   "cell_type": "code",
   "execution_count": 4,
   "id": "d0459346-1c29-4377-86d9-43583b790fc8",
   "metadata": {},
   "outputs": [
    {
     "name": "stdout",
     "output_type": "stream",
     "text": [
      "<class 'pandas.core.frame.DataFrame'>\n",
      "Int64Index: 40 entries, 1 to 40\n",
      "Data columns (total 3 columns):\n",
      " #   Column         Non-Null Count  Dtype\n",
      "---  ------         --------------  -----\n",
      " 0   NONRETAIL_EMP  40 non-null     int64\n",
      " 1   RETAIL_EMP     40 non-null     int64\n",
      " 2   TOTAL_EMP      40 non-null     int64\n",
      "dtypes: int64(3)\n",
      "memory usage: 1.2 KB\n"
     ]
    }
   ],
   "source": [
    "emp = pd.read_csv(larch.exampville.files.employment, index_col='TAZ')\n",
    "emp.info()"
   ]
  },
  {
   "cell_type": "code",
   "execution_count": 11,
   "id": "090c085e-7a66-43a7-b1fe-346059a6d879",
   "metadata": {},
   "outputs": [
    {
     "data": {
      "text/plain": [
       "(7564, 40)"
      ]
     },
     "execution_count": 11,
     "metadata": {},
     "output_type": "execute_result"
    }
   ],
   "source": [
    "logsums = pd.read_pickle('./logsums.pkl.gz')\n",
    "logsums.shape"
   ]
  },
  {
   "cell_type": "code",
   "execution_count": 9,
   "id": "469d3ac1-356f-4d22-9af2-95ab50f2ce66",
   "metadata": {},
   "outputs": [
    {
     "data": {
      "text/plain": [
       "(7564, 35)"
      ]
     },
     "execution_count": 9,
     "metadata": {},
     "output_type": "execute_result"
    }
   ],
   "source": [
    "co = tour.merge(hh, on='HHID').merge(pp, on=('HHID','PERSONID'))\n",
    "co[\"HOMETAZi\"] = co[\"HOMETAZ\"] - 1\n",
    "co[\"DTAZi\"] = co[\"DTAZ\"] - 1\n",
    "co = co[co.TOURPURP == 1]\n",
    "co.index.name = 'CASE_ID'\n",
    "co.shape"
   ]
  },
  {
   "cell_type": "code",
   "execution_count": 10,
   "id": "e892bdd5-1072-4dda-960d-67586c5d18c8",
   "metadata": {},
   "outputs": [
    {
     "data": {
      "text/html": [
       "<div>\n",
       "<style scoped>\n",
       "    .dataframe tbody tr th:only-of-type {\n",
       "        vertical-align: middle;\n",
       "    }\n",
       "\n",
       "    .dataframe tbody tr th {\n",
       "        vertical-align: top;\n",
       "    }\n",
       "\n",
       "    .dataframe thead th {\n",
       "        text-align: right;\n",
       "    }\n",
       "</style>\n",
       "<table border=\"1\" class=\"dataframe\">\n",
       "  <thead>\n",
       "    <tr style=\"text-align: right;\">\n",
       "      <th></th>\n",
       "      <th>TOURID</th>\n",
       "      <th>HHID</th>\n",
       "      <th>PERSONID</th>\n",
       "      <th>DTAZ</th>\n",
       "      <th>TOURMODE</th>\n",
       "      <th>TOURPURP</th>\n",
       "      <th>N_STOPS</th>\n",
       "      <th>N_TRIPS_x</th>\n",
       "      <th>N_TRIPS_HBW_x</th>\n",
       "      <th>N_TRIPS_HBO_x</th>\n",
       "      <th>...</th>\n",
       "      <th>WORKS</th>\n",
       "      <th>N_WORK_TOURS</th>\n",
       "      <th>N_OTHER_TOURS</th>\n",
       "      <th>N_TOURS</th>\n",
       "      <th>N_TRIPS</th>\n",
       "      <th>N_TRIPS_HBW</th>\n",
       "      <th>N_TRIPS_HBO</th>\n",
       "      <th>N_TRIPS_NHB</th>\n",
       "      <th>HOMETAZi</th>\n",
       "      <th>DTAZi</th>\n",
       "    </tr>\n",
       "    <tr>\n",
       "      <th>CASE_ID</th>\n",
       "      <th></th>\n",
       "      <th></th>\n",
       "      <th></th>\n",
       "      <th></th>\n",
       "      <th></th>\n",
       "      <th></th>\n",
       "      <th></th>\n",
       "      <th></th>\n",
       "      <th></th>\n",
       "      <th></th>\n",
       "      <th></th>\n",
       "      <th></th>\n",
       "      <th></th>\n",
       "      <th></th>\n",
       "      <th></th>\n",
       "      <th></th>\n",
       "      <th></th>\n",
       "      <th></th>\n",
       "      <th></th>\n",
       "      <th></th>\n",
       "      <th></th>\n",
       "    </tr>\n",
       "  </thead>\n",
       "  <tbody>\n",
       "    <tr>\n",
       "      <th>0</th>\n",
       "      <td>0</td>\n",
       "      <td>50000</td>\n",
       "      <td>60000</td>\n",
       "      <td>22</td>\n",
       "      <td>1</td>\n",
       "      <td>1</td>\n",
       "      <td>0</td>\n",
       "      <td>2</td>\n",
       "      <td>2</td>\n",
       "      <td>0</td>\n",
       "      <td>...</td>\n",
       "      <td>1</td>\n",
       "      <td>1</td>\n",
       "      <td>0</td>\n",
       "      <td>1</td>\n",
       "      <td>2</td>\n",
       "      <td>2</td>\n",
       "      <td>0</td>\n",
       "      <td>0</td>\n",
       "      <td>21</td>\n",
       "      <td>21</td>\n",
       "    </tr>\n",
       "    <tr>\n",
       "      <th>1</th>\n",
       "      <td>1</td>\n",
       "      <td>50000</td>\n",
       "      <td>60001</td>\n",
       "      <td>4</td>\n",
       "      <td>1</td>\n",
       "      <td>1</td>\n",
       "      <td>0</td>\n",
       "      <td>2</td>\n",
       "      <td>2</td>\n",
       "      <td>0</td>\n",
       "      <td>...</td>\n",
       "      <td>1</td>\n",
       "      <td>1</td>\n",
       "      <td>1</td>\n",
       "      <td>2</td>\n",
       "      <td>4</td>\n",
       "      <td>2</td>\n",
       "      <td>2</td>\n",
       "      <td>0</td>\n",
       "      <td>21</td>\n",
       "      <td>3</td>\n",
       "    </tr>\n",
       "    <tr>\n",
       "      <th>3</th>\n",
       "      <td>3</td>\n",
       "      <td>50000</td>\n",
       "      <td>60002</td>\n",
       "      <td>20</td>\n",
       "      <td>1</td>\n",
       "      <td>1</td>\n",
       "      <td>0</td>\n",
       "      <td>2</td>\n",
       "      <td>2</td>\n",
       "      <td>0</td>\n",
       "      <td>...</td>\n",
       "      <td>1</td>\n",
       "      <td>1</td>\n",
       "      <td>1</td>\n",
       "      <td>2</td>\n",
       "      <td>5</td>\n",
       "      <td>2</td>\n",
       "      <td>2</td>\n",
       "      <td>1</td>\n",
       "      <td>21</td>\n",
       "      <td>19</td>\n",
       "    </tr>\n",
       "    <tr>\n",
       "      <th>7</th>\n",
       "      <td>7</td>\n",
       "      <td>50001</td>\n",
       "      <td>60004</td>\n",
       "      <td>25</td>\n",
       "      <td>1</td>\n",
       "      <td>1</td>\n",
       "      <td>2</td>\n",
       "      <td>4</td>\n",
       "      <td>1</td>\n",
       "      <td>1</td>\n",
       "      <td>...</td>\n",
       "      <td>1</td>\n",
       "      <td>1</td>\n",
       "      <td>0</td>\n",
       "      <td>1</td>\n",
       "      <td>4</td>\n",
       "      <td>1</td>\n",
       "      <td>1</td>\n",
       "      <td>2</td>\n",
       "      <td>21</td>\n",
       "      <td>24</td>\n",
       "    </tr>\n",
       "    <tr>\n",
       "      <th>10</th>\n",
       "      <td>10</td>\n",
       "      <td>50003</td>\n",
       "      <td>60006</td>\n",
       "      <td>25</td>\n",
       "      <td>1</td>\n",
       "      <td>1</td>\n",
       "      <td>1</td>\n",
       "      <td>3</td>\n",
       "      <td>1</td>\n",
       "      <td>1</td>\n",
       "      <td>...</td>\n",
       "      <td>1</td>\n",
       "      <td>1</td>\n",
       "      <td>2</td>\n",
       "      <td>3</td>\n",
       "      <td>12</td>\n",
       "      <td>1</td>\n",
       "      <td>5</td>\n",
       "      <td>6</td>\n",
       "      <td>21</td>\n",
       "      <td>24</td>\n",
       "    </tr>\n",
       "  </tbody>\n",
       "</table>\n",
       "<p>5 rows × 35 columns</p>\n",
       "</div>"
      ],
      "text/plain": [
       "         TOURID   HHID  PERSONID  DTAZ  TOURMODE  TOURPURP  N_STOPS  \\\n",
       "CASE_ID                                                               \n",
       "0             0  50000     60000    22         1         1        0   \n",
       "1             1  50000     60001     4         1         1        0   \n",
       "3             3  50000     60002    20         1         1        0   \n",
       "7             7  50001     60004    25         1         1        2   \n",
       "10           10  50003     60006    25         1         1        1   \n",
       "\n",
       "         N_TRIPS_x  N_TRIPS_HBW_x  N_TRIPS_HBO_x  ...  WORKS  N_WORK_TOURS  \\\n",
       "CASE_ID                                           ...                        \n",
       "0                2              2              0  ...      1             1   \n",
       "1                2              2              0  ...      1             1   \n",
       "3                2              2              0  ...      1             1   \n",
       "7                4              1              1  ...      1             1   \n",
       "10               3              1              1  ...      1             1   \n",
       "\n",
       "         N_OTHER_TOURS  N_TOURS  N_TRIPS  N_TRIPS_HBW N_TRIPS_HBO  \\\n",
       "CASE_ID                                                             \n",
       "0                    0        1        2            2           0   \n",
       "1                    1        2        4            2           2   \n",
       "3                    1        2        5            2           2   \n",
       "7                    0        1        4            1           1   \n",
       "10                   2        3       12            1           5   \n",
       "\n",
       "         N_TRIPS_NHB  HOMETAZi  DTAZi  \n",
       "CASE_ID                                \n",
       "0                  0        21     21  \n",
       "1                  0        21      3  \n",
       "3                  1        21     19  \n",
       "7                  2        21     24  \n",
       "10                 6        21     24  \n",
       "\n",
       "[5 rows x 35 columns]"
      ]
     },
     "execution_count": 10,
     "metadata": {},
     "output_type": "execute_result"
    }
   ],
   "source": [
    "co.head()"
   ]
  },
  {
   "cell_type": "code",
   "execution_count": 16,
   "id": "f71637bb-63c1-455d-980a-c831eb45b2ed",
   "metadata": {},
   "outputs": [
    {
     "data": {
      "text/plain": [
       "(7564, 40)"
      ]
     },
     "execution_count": 16,
     "metadata": {},
     "output_type": "execute_result"
    }
   ],
   "source": [
    "skims.AUTO_DIST[:][co[\"HOMETAZi\"],:].shape"
   ]
  },
  {
   "cell_type": "code",
   "execution_count": 17,
   "id": "91b65479-3cf6-43cc-863f-a9a88c1d3758",
   "metadata": {},
   "outputs": [],
   "source": [
    "distance = pd.DataFrame(skims.AUTO_DIST[:][co[\"HOMETAZi\"],:],\n",
    "                        index=co.index, columns=skims.TAZ_ID)"
   ]
  },
  {
   "cell_type": "code",
   "execution_count": 18,
   "id": "47196cca-5831-42f4-8cb4-b1ffa53d3526",
   "metadata": {},
   "outputs": [
    {
     "data": {
      "text/plain": [
       "(7564, 40)"
      ]
     },
     "execution_count": 18,
     "metadata": {},
     "output_type": "execute_result"
    }
   ],
   "source": [
    "distance.shape"
   ]
  },
  {
   "cell_type": "code",
   "execution_count": 19,
   "id": "22b365bc-b057-44a9-8db4-5e4e8e4cf2d6",
   "metadata": {},
   "outputs": [
    {
     "data": {
      "text/plain": [
       "(302560, 2)"
      ]
     },
     "execution_count": 19,
     "metadata": {},
     "output_type": "execute_result"
    }
   ],
   "source": [
    "ca = pd.concat([distance.stack().rename(\"distance\"), \n",
    "                logsums.stack().rename(\"logsum\")], axis=1)\n",
    "ca.shape"
   ]
  },
  {
   "cell_type": "code",
   "execution_count": 21,
   "id": "aced996d-1235-40ca-a70a-48fcb9f3e1f9",
   "metadata": {},
   "outputs": [
    {
     "data": {
      "text/html": [
       "<div>\n",
       "<style scoped>\n",
       "    .dataframe tbody tr th:only-of-type {\n",
       "        vertical-align: middle;\n",
       "    }\n",
       "\n",
       "    .dataframe tbody tr th {\n",
       "        vertical-align: top;\n",
       "    }\n",
       "\n",
       "    .dataframe thead th {\n",
       "        text-align: right;\n",
       "    }\n",
       "</style>\n",
       "<table border=\"1\" class=\"dataframe\">\n",
       "  <thead>\n",
       "    <tr style=\"text-align: right;\">\n",
       "      <th></th>\n",
       "      <th></th>\n",
       "      <th>distance</th>\n",
       "      <th>logsum</th>\n",
       "    </tr>\n",
       "    <tr>\n",
       "      <th>CASE_ID</th>\n",
       "      <th>TAZ_ID</th>\n",
       "      <th></th>\n",
       "      <th></th>\n",
       "    </tr>\n",
       "  </thead>\n",
       "  <tbody>\n",
       "    <tr>\n",
       "      <th rowspan=\"5\" valign=\"top\">0</th>\n",
       "      <th>1</th>\n",
       "      <td>8.286090</td>\n",
       "      <td>-2.935611</td>\n",
       "    </tr>\n",
       "    <tr>\n",
       "      <th>2</th>\n",
       "      <td>8.256698</td>\n",
       "      <td>-2.660436</td>\n",
       "    </tr>\n",
       "    <tr>\n",
       "      <th>3</th>\n",
       "      <td>2.928829</td>\n",
       "      <td>-1.745654</td>\n",
       "    </tr>\n",
       "    <tr>\n",
       "      <th>4</th>\n",
       "      <td>5.502758</td>\n",
       "      <td>-2.229281</td>\n",
       "    </tr>\n",
       "    <tr>\n",
       "      <th>5</th>\n",
       "      <td>5.882862</td>\n",
       "      <td>-2.403117</td>\n",
       "    </tr>\n",
       "  </tbody>\n",
       "</table>\n",
       "</div>"
      ],
      "text/plain": [
       "                distance    logsum\n",
       "CASE_ID TAZ_ID                    \n",
       "0       1       8.286090 -2.935611\n",
       "        2       8.256698 -2.660436\n",
       "        3       2.928829 -1.745654\n",
       "        4       5.502758 -2.229281\n",
       "        5       5.882862 -2.403117"
      ]
     },
     "execution_count": 21,
     "metadata": {},
     "output_type": "execute_result"
    }
   ],
   "source": [
    "ca.head()"
   ]
  },
  {
   "cell_type": "code",
   "execution_count": 22,
   "id": "89684aba-7cd7-45e6-97bd-93094f6203be",
   "metadata": {},
   "outputs": [
    {
     "name": "stdout",
     "output_type": "stream",
     "text": [
      "<class 'pandas.core.frame.DataFrame'>\n",
      "Int64Index: 40 entries, 1 to 40\n",
      "Data columns (total 3 columns):\n",
      " #   Column         Non-Null Count  Dtype\n",
      "---  ------         --------------  -----\n",
      " 0   NONRETAIL_EMP  40 non-null     int64\n",
      " 1   RETAIL_EMP     40 non-null     int64\n",
      " 2   TOTAL_EMP      40 non-null     int64\n",
      "dtypes: int64(3)\n",
      "memory usage: 1.2 KB\n"
     ]
    }
   ],
   "source": [
    "emp.info()"
   ]
  },
  {
   "cell_type": "code",
   "execution_count": 23,
   "id": "200c7c60-d442-4dab-a2d9-c9bb314507b7",
   "metadata": {},
   "outputs": [
    {
     "data": {
      "text/html": [
       "<div>\n",
       "<style scoped>\n",
       "    .dataframe tbody tr th:only-of-type {\n",
       "        vertical-align: middle;\n",
       "    }\n",
       "\n",
       "    .dataframe tbody tr th {\n",
       "        vertical-align: top;\n",
       "    }\n",
       "\n",
       "    .dataframe thead th {\n",
       "        text-align: right;\n",
       "    }\n",
       "</style>\n",
       "<table border=\"1\" class=\"dataframe\">\n",
       "  <thead>\n",
       "    <tr style=\"text-align: right;\">\n",
       "      <th></th>\n",
       "      <th>NONRETAIL_EMP</th>\n",
       "      <th>RETAIL_EMP</th>\n",
       "      <th>TOTAL_EMP</th>\n",
       "    </tr>\n",
       "    <tr>\n",
       "      <th>TAZ</th>\n",
       "      <th></th>\n",
       "      <th></th>\n",
       "      <th></th>\n",
       "    </tr>\n",
       "  </thead>\n",
       "  <tbody>\n",
       "    <tr>\n",
       "      <th>1</th>\n",
       "      <td>118</td>\n",
       "      <td>340</td>\n",
       "      <td>458</td>\n",
       "    </tr>\n",
       "    <tr>\n",
       "      <th>2</th>\n",
       "      <td>91</td>\n",
       "      <td>0</td>\n",
       "      <td>91</td>\n",
       "    </tr>\n",
       "    <tr>\n",
       "      <th>3</th>\n",
       "      <td>197</td>\n",
       "      <td>2</td>\n",
       "      <td>199</td>\n",
       "    </tr>\n",
       "    <tr>\n",
       "      <th>4</th>\n",
       "      <td>277</td>\n",
       "      <td>8</td>\n",
       "      <td>285</td>\n",
       "    </tr>\n",
       "    <tr>\n",
       "      <th>5</th>\n",
       "      <td>44</td>\n",
       "      <td>13</td>\n",
       "      <td>57</td>\n",
       "    </tr>\n",
       "  </tbody>\n",
       "</table>\n",
       "</div>"
      ],
      "text/plain": [
       "     NONRETAIL_EMP  RETAIL_EMP  TOTAL_EMP\n",
       "TAZ                                      \n",
       "1              118         340        458\n",
       "2               91           0         91\n",
       "3              197           2        199\n",
       "4              277           8        285\n",
       "5               44          13         57"
      ]
     },
     "execution_count": 23,
     "metadata": {},
     "output_type": "execute_result"
    }
   ],
   "source": [
    "emp.head()"
   ]
  },
  {
   "cell_type": "code",
   "execution_count": 24,
   "id": "436b3ebc-2702-43b6-816b-2347e53f90dd",
   "metadata": {},
   "outputs": [
    {
     "data": {
      "text/plain": [
       "(302560, 5)"
      ]
     },
     "execution_count": 24,
     "metadata": {},
     "output_type": "execute_result"
    }
   ],
   "source": [
    "ca = ca.join(emp, on=\"TAZ_ID\")\n",
    "ca.shape"
   ]
  },
  {
   "cell_type": "code",
   "execution_count": 25,
   "id": "fa5f3baf-08bb-4f00-babe-1c5bbafe15fa",
   "metadata": {},
   "outputs": [],
   "source": [
    "area_type = pd.Series(\n",
    "    skims.TAZ_AREA_TYPE[:],\n",
    "    index=skims.TAZ_ID[:],\n",
    "    name ='TAZ_AREA_TYPE',\n",
    ").astype('category')"
   ]
  },
  {
   "cell_type": "code",
   "execution_count": 26,
   "id": "2cafec51-54e1-4c59-abdc-bc57f750d48b",
   "metadata": {},
   "outputs": [],
   "source": [
    "ca = ca.join(area_type, on='TAZ_ID')"
   ]
  },
  {
   "cell_type": "code",
   "execution_count": 28,
   "id": "a8450972-4ea1-420b-983e-4b119bdb219e",
   "metadata": {},
   "outputs": [
    {
     "data": {
      "text/plain": [
       "((7564, 35), (302560, 6))"
      ]
     },
     "execution_count": 28,
     "metadata": {},
     "output_type": "execute_result"
    }
   ],
   "source": [
    "co.shape, ca.shape"
   ]
  },
  {
   "cell_type": "code",
   "execution_count": 32,
   "id": "df29288e-21ac-4b14-bfe5-1487d236aca7",
   "metadata": {},
   "outputs": [
    {
     "data": {
      "text/html": [
       "<div>\n",
       "<style scoped>\n",
       "    .dataframe tbody tr th:only-of-type {\n",
       "        vertical-align: middle;\n",
       "    }\n",
       "\n",
       "    .dataframe tbody tr th {\n",
       "        vertical-align: top;\n",
       "    }\n",
       "\n",
       "    .dataframe thead th {\n",
       "        text-align: right;\n",
       "    }\n",
       "</style>\n",
       "<table border=\"1\" class=\"dataframe\">\n",
       "  <thead>\n",
       "    <tr style=\"text-align: right;\">\n",
       "      <th></th>\n",
       "      <th>TOURID</th>\n",
       "      <th>HHID</th>\n",
       "      <th>PERSONID</th>\n",
       "      <th>DTAZ</th>\n",
       "      <th>TOURMODE</th>\n",
       "      <th>TOURPURP</th>\n",
       "      <th>N_STOPS</th>\n",
       "      <th>N_TRIPS_x</th>\n",
       "      <th>N_TRIPS_HBW_x</th>\n",
       "      <th>N_TRIPS_HBO_x</th>\n",
       "      <th>...</th>\n",
       "      <th>WORKS</th>\n",
       "      <th>N_WORK_TOURS</th>\n",
       "      <th>N_OTHER_TOURS</th>\n",
       "      <th>N_TOURS</th>\n",
       "      <th>N_TRIPS</th>\n",
       "      <th>N_TRIPS_HBW</th>\n",
       "      <th>N_TRIPS_HBO</th>\n",
       "      <th>N_TRIPS_NHB</th>\n",
       "      <th>HOMETAZi</th>\n",
       "      <th>DTAZi</th>\n",
       "    </tr>\n",
       "    <tr>\n",
       "      <th>CASE_ID</th>\n",
       "      <th></th>\n",
       "      <th></th>\n",
       "      <th></th>\n",
       "      <th></th>\n",
       "      <th></th>\n",
       "      <th></th>\n",
       "      <th></th>\n",
       "      <th></th>\n",
       "      <th></th>\n",
       "      <th></th>\n",
       "      <th></th>\n",
       "      <th></th>\n",
       "      <th></th>\n",
       "      <th></th>\n",
       "      <th></th>\n",
       "      <th></th>\n",
       "      <th></th>\n",
       "      <th></th>\n",
       "      <th></th>\n",
       "      <th></th>\n",
       "      <th></th>\n",
       "    </tr>\n",
       "  </thead>\n",
       "  <tbody>\n",
       "    <tr>\n",
       "      <th>0</th>\n",
       "      <td>0</td>\n",
       "      <td>50000</td>\n",
       "      <td>60000</td>\n",
       "      <td>22</td>\n",
       "      <td>1</td>\n",
       "      <td>1</td>\n",
       "      <td>0</td>\n",
       "      <td>2</td>\n",
       "      <td>2</td>\n",
       "      <td>0</td>\n",
       "      <td>...</td>\n",
       "      <td>1</td>\n",
       "      <td>1</td>\n",
       "      <td>0</td>\n",
       "      <td>1</td>\n",
       "      <td>2</td>\n",
       "      <td>2</td>\n",
       "      <td>0</td>\n",
       "      <td>0</td>\n",
       "      <td>21</td>\n",
       "      <td>21</td>\n",
       "    </tr>\n",
       "    <tr>\n",
       "      <th>1</th>\n",
       "      <td>1</td>\n",
       "      <td>50000</td>\n",
       "      <td>60001</td>\n",
       "      <td>4</td>\n",
       "      <td>1</td>\n",
       "      <td>1</td>\n",
       "      <td>0</td>\n",
       "      <td>2</td>\n",
       "      <td>2</td>\n",
       "      <td>0</td>\n",
       "      <td>...</td>\n",
       "      <td>1</td>\n",
       "      <td>1</td>\n",
       "      <td>1</td>\n",
       "      <td>2</td>\n",
       "      <td>4</td>\n",
       "      <td>2</td>\n",
       "      <td>2</td>\n",
       "      <td>0</td>\n",
       "      <td>21</td>\n",
       "      <td>3</td>\n",
       "    </tr>\n",
       "    <tr>\n",
       "      <th>3</th>\n",
       "      <td>3</td>\n",
       "      <td>50000</td>\n",
       "      <td>60002</td>\n",
       "      <td>20</td>\n",
       "      <td>1</td>\n",
       "      <td>1</td>\n",
       "      <td>0</td>\n",
       "      <td>2</td>\n",
       "      <td>2</td>\n",
       "      <td>0</td>\n",
       "      <td>...</td>\n",
       "      <td>1</td>\n",
       "      <td>1</td>\n",
       "      <td>1</td>\n",
       "      <td>2</td>\n",
       "      <td>5</td>\n",
       "      <td>2</td>\n",
       "      <td>2</td>\n",
       "      <td>1</td>\n",
       "      <td>21</td>\n",
       "      <td>19</td>\n",
       "    </tr>\n",
       "    <tr>\n",
       "      <th>7</th>\n",
       "      <td>7</td>\n",
       "      <td>50001</td>\n",
       "      <td>60004</td>\n",
       "      <td>25</td>\n",
       "      <td>1</td>\n",
       "      <td>1</td>\n",
       "      <td>2</td>\n",
       "      <td>4</td>\n",
       "      <td>1</td>\n",
       "      <td>1</td>\n",
       "      <td>...</td>\n",
       "      <td>1</td>\n",
       "      <td>1</td>\n",
       "      <td>0</td>\n",
       "      <td>1</td>\n",
       "      <td>4</td>\n",
       "      <td>1</td>\n",
       "      <td>1</td>\n",
       "      <td>2</td>\n",
       "      <td>21</td>\n",
       "      <td>24</td>\n",
       "    </tr>\n",
       "    <tr>\n",
       "      <th>10</th>\n",
       "      <td>10</td>\n",
       "      <td>50003</td>\n",
       "      <td>60006</td>\n",
       "      <td>25</td>\n",
       "      <td>1</td>\n",
       "      <td>1</td>\n",
       "      <td>1</td>\n",
       "      <td>3</td>\n",
       "      <td>1</td>\n",
       "      <td>1</td>\n",
       "      <td>...</td>\n",
       "      <td>1</td>\n",
       "      <td>1</td>\n",
       "      <td>2</td>\n",
       "      <td>3</td>\n",
       "      <td>12</td>\n",
       "      <td>1</td>\n",
       "      <td>5</td>\n",
       "      <td>6</td>\n",
       "      <td>21</td>\n",
       "      <td>24</td>\n",
       "    </tr>\n",
       "  </tbody>\n",
       "</table>\n",
       "<p>5 rows × 35 columns</p>\n",
       "</div>"
      ],
      "text/plain": [
       "         TOURID   HHID  PERSONID  DTAZ  TOURMODE  TOURPURP  N_STOPS  \\\n",
       "CASE_ID                                                               \n",
       "0             0  50000     60000    22         1         1        0   \n",
       "1             1  50000     60001     4         1         1        0   \n",
       "3             3  50000     60002    20         1         1        0   \n",
       "7             7  50001     60004    25         1         1        2   \n",
       "10           10  50003     60006    25         1         1        1   \n",
       "\n",
       "         N_TRIPS_x  N_TRIPS_HBW_x  N_TRIPS_HBO_x  ...  WORKS  N_WORK_TOURS  \\\n",
       "CASE_ID                                           ...                        \n",
       "0                2              2              0  ...      1             1   \n",
       "1                2              2              0  ...      1             1   \n",
       "3                2              2              0  ...      1             1   \n",
       "7                4              1              1  ...      1             1   \n",
       "10               3              1              1  ...      1             1   \n",
       "\n",
       "         N_OTHER_TOURS  N_TOURS  N_TRIPS  N_TRIPS_HBW N_TRIPS_HBO  \\\n",
       "CASE_ID                                                             \n",
       "0                    0        1        2            2           0   \n",
       "1                    1        2        4            2           2   \n",
       "3                    1        2        5            2           2   \n",
       "7                    0        1        4            1           1   \n",
       "10                   2        3       12            1           5   \n",
       "\n",
       "         N_TRIPS_NHB  HOMETAZi  DTAZi  \n",
       "CASE_ID                                \n",
       "0                  0        21     21  \n",
       "1                  0        21      3  \n",
       "3                  1        21     19  \n",
       "7                  2        21     24  \n",
       "10                 6        21     24  \n",
       "\n",
       "[5 rows x 35 columns]"
      ]
     },
     "execution_count": 32,
     "metadata": {},
     "output_type": "execute_result"
    }
   ],
   "source": [
    "co.head()"
   ]
  },
  {
   "cell_type": "code",
   "execution_count": 33,
   "id": "38adb72d-40c8-4699-9d51-d037dc77e1ec",
   "metadata": {},
   "outputs": [
    {
     "data": {
      "text/html": [
       "<div>\n",
       "<style scoped>\n",
       "    .dataframe tbody tr th:only-of-type {\n",
       "        vertical-align: middle;\n",
       "    }\n",
       "\n",
       "    .dataframe tbody tr th {\n",
       "        vertical-align: top;\n",
       "    }\n",
       "\n",
       "    .dataframe thead th {\n",
       "        text-align: right;\n",
       "    }\n",
       "</style>\n",
       "<table border=\"1\" class=\"dataframe\">\n",
       "  <thead>\n",
       "    <tr style=\"text-align: right;\">\n",
       "      <th></th>\n",
       "      <th></th>\n",
       "      <th>distance</th>\n",
       "      <th>logsum</th>\n",
       "      <th>NONRETAIL_EMP</th>\n",
       "      <th>RETAIL_EMP</th>\n",
       "      <th>TOTAL_EMP</th>\n",
       "      <th>TAZ_AREA_TYPE</th>\n",
       "    </tr>\n",
       "    <tr>\n",
       "      <th>CASE_ID</th>\n",
       "      <th>TAZ_ID</th>\n",
       "      <th></th>\n",
       "      <th></th>\n",
       "      <th></th>\n",
       "      <th></th>\n",
       "      <th></th>\n",
       "      <th></th>\n",
       "    </tr>\n",
       "  </thead>\n",
       "  <tbody>\n",
       "    <tr>\n",
       "      <th rowspan=\"5\" valign=\"top\">0</th>\n",
       "      <th>1</th>\n",
       "      <td>8.286090</td>\n",
       "      <td>-2.935611</td>\n",
       "      <td>118</td>\n",
       "      <td>340</td>\n",
       "      <td>458</td>\n",
       "      <td>b'SUB'</td>\n",
       "    </tr>\n",
       "    <tr>\n",
       "      <th>2</th>\n",
       "      <td>8.256698</td>\n",
       "      <td>-2.660436</td>\n",
       "      <td>91</td>\n",
       "      <td>0</td>\n",
       "      <td>91</td>\n",
       "      <td>b'SUB'</td>\n",
       "    </tr>\n",
       "    <tr>\n",
       "      <th>3</th>\n",
       "      <td>2.928829</td>\n",
       "      <td>-1.745654</td>\n",
       "      <td>197</td>\n",
       "      <td>2</td>\n",
       "      <td>199</td>\n",
       "      <td>b'URB'</td>\n",
       "    </tr>\n",
       "    <tr>\n",
       "      <th>4</th>\n",
       "      <td>5.502758</td>\n",
       "      <td>-2.229281</td>\n",
       "      <td>277</td>\n",
       "      <td>8</td>\n",
       "      <td>285</td>\n",
       "      <td>b'URB'</td>\n",
       "    </tr>\n",
       "    <tr>\n",
       "      <th>5</th>\n",
       "      <td>5.882862</td>\n",
       "      <td>-2.403117</td>\n",
       "      <td>44</td>\n",
       "      <td>13</td>\n",
       "      <td>57</td>\n",
       "      <td>b'SUB'</td>\n",
       "    </tr>\n",
       "  </tbody>\n",
       "</table>\n",
       "</div>"
      ],
      "text/plain": [
       "                distance    logsum  NONRETAIL_EMP  RETAIL_EMP  TOTAL_EMP  \\\n",
       "CASE_ID TAZ_ID                                                             \n",
       "0       1       8.286090 -2.935611            118         340        458   \n",
       "        2       8.256698 -2.660436             91           0         91   \n",
       "        3       2.928829 -1.745654            197           2        199   \n",
       "        4       5.502758 -2.229281            277           8        285   \n",
       "        5       5.882862 -2.403117             44          13         57   \n",
       "\n",
       "               TAZ_AREA_TYPE  \n",
       "CASE_ID TAZ_ID                \n",
       "0       1             b'SUB'  \n",
       "        2             b'SUB'  \n",
       "        3             b'URB'  \n",
       "        4             b'URB'  \n",
       "        5             b'SUB'  "
      ]
     },
     "execution_count": 33,
     "metadata": {},
     "output_type": "execute_result"
    }
   ],
   "source": [
    "ca.head()"
   ]
  },
  {
   "cell_type": "code",
   "execution_count": 43,
   "id": "3bb933a5-8128-442b-ad9c-084d024244a1",
   "metadata": {},
   "outputs": [
    {
     "data": {
      "text/plain": [
       "/lookup/TAZ_ID (CArray(40,), shuffle, zlib(1)) ''\n",
       "  atom := Int64Atom(shape=(), dflt=0)\n",
       "  maindim := 0\n",
       "  flavor := 'numpy'\n",
       "  byteorder := 'little'\n",
       "  chunkshape := (8192,)"
      ]
     },
     "execution_count": 43,
     "metadata": {},
     "output_type": "execute_result"
    }
   ],
   "source": [
    "skims.TAZ_ID"
   ]
  },
  {
   "cell_type": "code",
   "execution_count": 27,
   "id": "e0692f51-a5c0-4bb5-b9e2-88a427094afd",
   "metadata": {},
   "outputs": [],
   "source": [
    "dfs = larch.DataFrames(\n",
    "    co=co,\n",
    "    ca=ca,\n",
    "    alt_codes=skims.TAZ_ID, \n",
    "    alt_names=['TAZ{i}' for i in skims.TAZ_ID],\n",
    "    ch_name='DTAZ',\n",
    "    av=True,\n",
    ")"
   ]
  },
  {
   "cell_type": "markdown",
   "id": "f4a95b2d-24c6-423c-86e5-2211c4f9834f",
   "metadata": {},
   "source": [
    "## Model Definition"
   ]
  },
  {
   "cell_type": "code",
   "execution_count": 34,
   "id": "884b149b-9a8b-40cf-9aad-b6a43f3593fd",
   "metadata": {},
   "outputs": [],
   "source": [
    "m = larch.Model(dataservice=dfs)"
   ]
  },
  {
   "cell_type": "code",
   "execution_count": 35,
   "id": "979eca8e-97ca-4350-b6f7-8b83252a1551",
   "metadata": {},
   "outputs": [],
   "source": [
    "m.quantity_ca = (\n",
    "        + P.EmpRetail_HighInc * X('RETAIL_EMP * (INCOME>50000)')\n",
    "        + P.EmpNonRetail_HighInc * X('NONRETAIL_EMP') * X(\"INCOME>50000\")\n",
    "        + P.EmpRetail_LowInc * X('RETAIL_EMP') * X(\"INCOME<=50000\")\n",
    "        + P.EmpNonRetail_LowInc * X('NONRETAIL_EMP') * X(\"INCOME<=50000\")\n",
    ")"
   ]
  },
  {
   "cell_type": "code",
   "execution_count": 36,
   "id": "ddb68503-2bff-441d-89c3-6eeb9a2c8a5e",
   "metadata": {},
   "outputs": [],
   "source": [
    "m.quantity_scale = P.Theta"
   ]
  },
  {
   "cell_type": "code",
   "execution_count": 37,
   "id": "a942ec31-cdd8-4d16-b07f-6cb7ccedb42c",
   "metadata": {},
   "outputs": [],
   "source": [
    "m.utility_ca = (\n",
    "    + P.logsum * X.logsum\n",
    "    + P.distance * X.distance\n",
    ")"
   ]
  },
  {
   "cell_type": "code",
   "execution_count": 38,
   "id": "c3a6cfe2-8d6b-4d6c-917c-162637a83659",
   "metadata": {},
   "outputs": [
    {
     "name": "stderr",
     "output_type": "stream",
     "text": [
      "req_data does not request {choice_ca,choice_co,choice_co_code} but choice is set and being provided\n",
      "req_data does not request avail_ca or avail_co but it is set and being provided\n"
     ]
    }
   ],
   "source": [
    "m.load_data()"
   ]
  },
  {
   "cell_type": "code",
   "execution_count": 39,
   "id": "fe71a897-290d-472f-a148-e95a4af28bca",
   "metadata": {},
   "outputs": [
    {
     "data": {
      "text/html": [
       "<h3>Iteration 013 [Optimization terminated successfully] </h3>"
      ],
      "text/plain": [
       "<IPython.core.display.HTML object>"
      ]
     },
     "metadata": {},
     "output_type": "display_data"
    },
    {
     "data": {
      "text/html": [
       "<p>Best LL = -25157.72676051146</p>"
      ],
      "text/plain": [
       "<IPython.core.display.HTML object>"
      ]
     },
     "metadata": {},
     "output_type": "display_data"
    },
    {
     "data": {
      "text/html": [
       "<div>\n",
       "<style scoped>\n",
       "    .dataframe tbody tr th:only-of-type {\n",
       "        vertical-align: middle;\n",
       "    }\n",
       "\n",
       "    .dataframe tbody tr th {\n",
       "        vertical-align: top;\n",
       "    }\n",
       "\n",
       "    .dataframe thead th {\n",
       "        text-align: right;\n",
       "    }\n",
       "</style>\n",
       "<table border=\"1\" class=\"dataframe\">\n",
       "  <thead>\n",
       "    <tr style=\"text-align: right;\">\n",
       "      <th></th>\n",
       "      <th>value</th>\n",
       "      <th>initvalue</th>\n",
       "      <th>nullvalue</th>\n",
       "      <th>minimum</th>\n",
       "      <th>maximum</th>\n",
       "      <th>holdfast</th>\n",
       "      <th>note</th>\n",
       "      <th>best</th>\n",
       "    </tr>\n",
       "  </thead>\n",
       "  <tbody>\n",
       "    <tr>\n",
       "      <th>EmpNonRetail_HighInc</th>\n",
       "      <td>0.681995</td>\n",
       "      <td>0.0</td>\n",
       "      <td>0.0</td>\n",
       "      <td>-inf</td>\n",
       "      <td>inf</td>\n",
       "      <td>0</td>\n",
       "      <td></td>\n",
       "      <td>0.681995</td>\n",
       "    </tr>\n",
       "    <tr>\n",
       "      <th>EmpNonRetail_LowInc</th>\n",
       "      <td>-0.440679</td>\n",
       "      <td>0.0</td>\n",
       "      <td>0.0</td>\n",
       "      <td>-inf</td>\n",
       "      <td>inf</td>\n",
       "      <td>0</td>\n",
       "      <td></td>\n",
       "      <td>-0.440679</td>\n",
       "    </tr>\n",
       "    <tr>\n",
       "      <th>EmpRetail_HighInc</th>\n",
       "      <td>-0.681995</td>\n",
       "      <td>0.0</td>\n",
       "      <td>0.0</td>\n",
       "      <td>-inf</td>\n",
       "      <td>inf</td>\n",
       "      <td>0</td>\n",
       "      <td></td>\n",
       "      <td>-0.681995</td>\n",
       "    </tr>\n",
       "    <tr>\n",
       "      <th>EmpRetail_LowInc</th>\n",
       "      <td>0.440679</td>\n",
       "      <td>0.0</td>\n",
       "      <td>0.0</td>\n",
       "      <td>-inf</td>\n",
       "      <td>inf</td>\n",
       "      <td>0</td>\n",
       "      <td></td>\n",
       "      <td>0.440679</td>\n",
       "    </tr>\n",
       "    <tr>\n",
       "      <th>Theta</th>\n",
       "      <td>0.749372</td>\n",
       "      <td>1.0</td>\n",
       "      <td>1.0</td>\n",
       "      <td>0.001</td>\n",
       "      <td>1.0</td>\n",
       "      <td>0</td>\n",
       "      <td></td>\n",
       "      <td>0.749372</td>\n",
       "    </tr>\n",
       "    <tr>\n",
       "      <th>distance</th>\n",
       "      <td>-0.041823</td>\n",
       "      <td>0.0</td>\n",
       "      <td>0.0</td>\n",
       "      <td>-inf</td>\n",
       "      <td>inf</td>\n",
       "      <td>0</td>\n",
       "      <td></td>\n",
       "      <td>-0.041823</td>\n",
       "    </tr>\n",
       "    <tr>\n",
       "      <th>logsum</th>\n",
       "      <td>1.020814</td>\n",
       "      <td>0.0</td>\n",
       "      <td>0.0</td>\n",
       "      <td>-inf</td>\n",
       "      <td>inf</td>\n",
       "      <td>0</td>\n",
       "      <td></td>\n",
       "      <td>1.020814</td>\n",
       "    </tr>\n",
       "  </tbody>\n",
       "</table>\n",
       "</div>"
      ],
      "text/plain": [
       "                         value  initvalue  nullvalue  minimum  maximum  \\\n",
       "EmpNonRetail_HighInc  0.681995        0.0        0.0     -inf      inf   \n",
       "EmpNonRetail_LowInc  -0.440679        0.0        0.0     -inf      inf   \n",
       "EmpRetail_HighInc    -0.681995        0.0        0.0     -inf      inf   \n",
       "EmpRetail_LowInc      0.440679        0.0        0.0     -inf      inf   \n",
       "Theta                 0.749372        1.0        1.0    0.001      1.0   \n",
       "distance             -0.041823        0.0        0.0     -inf      inf   \n",
       "logsum                1.020814        0.0        0.0     -inf      inf   \n",
       "\n",
       "                      holdfast note      best  \n",
       "EmpNonRetail_HighInc         0       0.681995  \n",
       "EmpNonRetail_LowInc          0      -0.440679  \n",
       "EmpRetail_HighInc            0      -0.681995  \n",
       "EmpRetail_LowInc             0       0.440679  \n",
       "Theta                        0       0.749372  \n",
       "distance                     0      -0.041823  \n",
       "logsum                       0       1.020814  "
      ]
     },
     "metadata": {},
     "output_type": "display_data"
    },
    {
     "name": "stderr",
     "output_type": "stream",
     "text": [
      "/home/danph/.pyenv/versions/miniconda3-4.7.10/envs/.dcm/lib/python3.9/site-packages/larch/model/optimization.py:306: UserWarning: slsqp may not play nicely with unbounded parameters\n",
      "if you get poor results, consider setting global bounds with model.set_cap()\n",
      "  warnings.warn( # infinite bounds # )\n"
     ]
    },
    {
     "data": {
      "text/html": [
       "<div><table style=\"margin-top:1px;\"><tr><th>key</th><th style=\"text-align:left;\">value</th></tr><tr><td>x</td><td style=\"text-align:left;\"><table border=\"1\" class=\"dataframe\">\n",
       "  <thead>\n",
       "    <tr style=\"text-align: right;\">\n",
       "      <th></th>\n",
       "      <th>0</th>\n",
       "    </tr>\n",
       "  </thead>\n",
       "  <tbody>\n",
       "    <tr>\n",
       "      <th>EmpNonRetail_HighInc</th>\n",
       "      <td>0.681995</td>\n",
       "    </tr>\n",
       "    <tr>\n",
       "      <th>EmpNonRetail_LowInc</th>\n",
       "      <td>-0.440679</td>\n",
       "    </tr>\n",
       "    <tr>\n",
       "      <th>EmpRetail_HighInc</th>\n",
       "      <td>-0.681995</td>\n",
       "    </tr>\n",
       "    <tr>\n",
       "      <th>EmpRetail_LowInc</th>\n",
       "      <td>0.440679</td>\n",
       "    </tr>\n",
       "    <tr>\n",
       "      <th>Theta</th>\n",
       "      <td>0.749372</td>\n",
       "    </tr>\n",
       "    <tr>\n",
       "      <th>distance</th>\n",
       "      <td>-0.041823</td>\n",
       "    </tr>\n",
       "    <tr>\n",
       "      <th>logsum</th>\n",
       "      <td>1.020814</td>\n",
       "    </tr>\n",
       "  </tbody>\n",
       "</table></td></tr><tr><td>loglike</td><td style=\"text-align:left;\">-25157.72676051146</td></tr><tr><td>d_loglike</td><td style=\"text-align:left;\"><table border=\"1\" class=\"dataframe\">\n",
       "  <thead>\n",
       "    <tr style=\"text-align: right;\">\n",
       "      <th></th>\n",
       "      <th>0</th>\n",
       "    </tr>\n",
       "  </thead>\n",
       "  <tbody>\n",
       "    <tr>\n",
       "      <th>EmpNonRetail_HighInc</th>\n",
       "      <td>0.000315</td>\n",
       "    </tr>\n",
       "    <tr>\n",
       "      <th>EmpNonRetail_LowInc</th>\n",
       "      <td>-0.000012</td>\n",
       "    </tr>\n",
       "    <tr>\n",
       "      <th>EmpRetail_HighInc</th>\n",
       "      <td>-0.000315</td>\n",
       "    </tr>\n",
       "    <tr>\n",
       "      <th>EmpRetail_LowInc</th>\n",
       "      <td>0.000012</td>\n",
       "    </tr>\n",
       "    <tr>\n",
       "      <th>Theta</th>\n",
       "      <td>0.007939</td>\n",
       "    </tr>\n",
       "    <tr>\n",
       "      <th>distance</th>\n",
       "      <td>0.004064</td>\n",
       "    </tr>\n",
       "    <tr>\n",
       "      <th>logsum</th>\n",
       "      <td>-0.000868</td>\n",
       "    </tr>\n",
       "  </tbody>\n",
       "</table></td></tr><tr><td>nit</td><td style=\"text-align:left;\">13</td></tr><tr><td>nfev</td><td style=\"text-align:left;\">31</td></tr><tr><td>njev</td><td style=\"text-align:left;\">13</td></tr><tr><td>status</td><td style=\"text-align:left;\">0</td></tr><tr><td>message</td><td style=\"text-align:left;\">'Optimization terminated successfully'</td></tr><tr><td>success</td><td style=\"text-align:left;\">True</td></tr><tr><td>elapsed_time</td><td style=\"text-align:left;\">0:00:01.963544</td></tr><tr><td>method</td><td style=\"text-align:left;\">'slsqp'</td></tr><tr><td>n_cases</td><td style=\"text-align:left;\">7564</td></tr><tr><td>iteration_number</td><td style=\"text-align:left;\">13</td></tr><tr><td>logloss</td><td style=\"text-align:left;\">3.3259818562283794</td></tr></table></div>"
      ],
      "text/plain": [
       "┣                x: EmpNonRetail_HighInc    0.681995\n",
       "┃                   EmpNonRetail_LowInc    -0.440679\n",
       "┃                   EmpRetail_HighInc      -0.681995\n",
       "┃                   EmpRetail_LowInc        0.440679\n",
       "┃                   Theta                   0.749372\n",
       "┃                   distance               -0.041823\n",
       "┃                   logsum                  1.020814\n",
       "┃                   dtype: float64\n",
       "┣          loglike: -25157.72676051146\n",
       "┣        d_loglike: EmpNonRetail_HighInc    0.000315\n",
       "┃                   EmpNonRetail_LowInc    -0.000012\n",
       "┃                   EmpRetail_HighInc      -0.000315\n",
       "┃                   EmpRetail_LowInc        0.000012\n",
       "┃                   Theta                   0.007939\n",
       "┃                   distance                0.004064\n",
       "┃                   logsum                 -0.000868\n",
       "┃                   dtype: float64\n",
       "┣              nit: 13\n",
       "┣             nfev: 31\n",
       "┣             njev: 13\n",
       "┣           status: 0\n",
       "┣          message: 'Optimization terminated successfully'\n",
       "┣          success: True\n",
       "┣     elapsed_time: datetime.timedelta(seconds=1, microseconds=963544)\n",
       "┣           method: 'slsqp'\n",
       "┣          n_cases: 7564\n",
       "┣ iteration_number: 13\n",
       "┣          logloss: 3.3259818562283794"
      ]
     },
     "execution_count": 39,
     "metadata": {},
     "output_type": "execute_result"
    }
   ],
   "source": [
    "m.maximize_loglike()"
   ]
  },
  {
   "cell_type": "code",
   "execution_count": 40,
   "id": "54da9697-e845-49ce-8006-ea2e657abb10",
   "metadata": {},
   "outputs": [
    {
     "name": "stderr",
     "output_type": "stream",
     "text": [
      "<ipython-input-40-69910d0b056e>:1: PossibleOverspecification: WARNING: Model is possibly over-specified (hessian is nearly singular).\n",
      "  m.calculate_parameter_covariance()\n",
      "/home/danph/.pyenv/versions/miniconda3-4.7.10/envs/.dcm/lib/python3.9/site-packages/larch/linalg/__init__.py:18: UserWarning: minimum eig 4.976990965132953e-06 in general_inverse\n",
      "  warnings.warn(f\"minimum eig {min_eig} in general_inverse\")\n"
     ]
    }
   ],
   "source": [
    "m.calculate_parameter_covariance()"
   ]
  },
  {
   "cell_type": "code",
   "execution_count": 41,
   "id": "40405629-cdf3-45ef-9a6c-a3d4549707af",
   "metadata": {},
   "outputs": [
    {
     "data": {
      "text/html": [
       "<style  type=\"text/css\" >\n",
       "    #T_1fca084f_dd67_11eb_8008_2cf05d9d94df th {\n",
       "          vertical-align: top;\n",
       "          text-align: left;\n",
       "    }    #T_1fca084f_dd67_11eb_8008_2cf05d9d94df td {\n",
       "          vertical-align: top;\n",
       "          text-align: left;\n",
       "    }#T_1fca084f_dd67_11eb_8008_2cf05d9d94dfrow0_col0,#T_1fca084f_dd67_11eb_8008_2cf05d9d94dfrow0_col1,#T_1fca084f_dd67_11eb_8008_2cf05d9d94dfrow0_col2,#T_1fca084f_dd67_11eb_8008_2cf05d9d94dfrow0_col3,#T_1fca084f_dd67_11eb_8008_2cf05d9d94dfrow0_col4,#T_1fca084f_dd67_11eb_8008_2cf05d9d94dfrow1_col0,#T_1fca084f_dd67_11eb_8008_2cf05d9d94dfrow1_col1,#T_1fca084f_dd67_11eb_8008_2cf05d9d94dfrow1_col2,#T_1fca084f_dd67_11eb_8008_2cf05d9d94dfrow1_col3,#T_1fca084f_dd67_11eb_8008_2cf05d9d94dfrow1_col4,#T_1fca084f_dd67_11eb_8008_2cf05d9d94dfrow2_col0,#T_1fca084f_dd67_11eb_8008_2cf05d9d94dfrow2_col1,#T_1fca084f_dd67_11eb_8008_2cf05d9d94dfrow2_col2,#T_1fca084f_dd67_11eb_8008_2cf05d9d94dfrow2_col3,#T_1fca084f_dd67_11eb_8008_2cf05d9d94dfrow2_col4,#T_1fca084f_dd67_11eb_8008_2cf05d9d94dfrow3_col0,#T_1fca084f_dd67_11eb_8008_2cf05d9d94dfrow3_col1,#T_1fca084f_dd67_11eb_8008_2cf05d9d94dfrow3_col2,#T_1fca084f_dd67_11eb_8008_2cf05d9d94dfrow3_col3,#T_1fca084f_dd67_11eb_8008_2cf05d9d94dfrow3_col4,#T_1fca084f_dd67_11eb_8008_2cf05d9d94dfrow4_col0,#T_1fca084f_dd67_11eb_8008_2cf05d9d94dfrow4_col1,#T_1fca084f_dd67_11eb_8008_2cf05d9d94dfrow4_col2,#T_1fca084f_dd67_11eb_8008_2cf05d9d94dfrow4_col3,#T_1fca084f_dd67_11eb_8008_2cf05d9d94dfrow4_col4,#T_1fca084f_dd67_11eb_8008_2cf05d9d94dfrow5_col0,#T_1fca084f_dd67_11eb_8008_2cf05d9d94dfrow5_col1,#T_1fca084f_dd67_11eb_8008_2cf05d9d94dfrow5_col2,#T_1fca084f_dd67_11eb_8008_2cf05d9d94dfrow5_col3,#T_1fca084f_dd67_11eb_8008_2cf05d9d94dfrow5_col4,#T_1fca084f_dd67_11eb_8008_2cf05d9d94dfrow6_col0,#T_1fca084f_dd67_11eb_8008_2cf05d9d94dfrow6_col1,#T_1fca084f_dd67_11eb_8008_2cf05d9d94dfrow6_col2,#T_1fca084f_dd67_11eb_8008_2cf05d9d94dfrow6_col3,#T_1fca084f_dd67_11eb_8008_2cf05d9d94dfrow6_col4{\n",
       "            font-family: monospace;\n",
       "        }</style><table id=\"T_1fca084f_dd67_11eb_8008_2cf05d9d94df\" ><thead>    <tr>        <th class=\"blank level0\" ></th>        <th class=\"col_heading level0 col0\" >Value</th>        <th class=\"col_heading level0 col1\" >Std Err</th>        <th class=\"col_heading level0 col2\" >t Stat</th>        <th class=\"col_heading level0 col3\" >Signif</th>        <th class=\"col_heading level0 col4\" >Null Value</th>    </tr></thead><tbody>\n",
       "                <tr>\n",
       "                        <th id=\"T_1fca084f_dd67_11eb_8008_2cf05d9d94dflevel0_row0\" class=\"row_heading level0 row0\" >EmpNonRetail_HighInc</th>\n",
       "                        <td id=\"T_1fca084f_dd67_11eb_8008_2cf05d9d94dfrow0_col0\" class=\"data row0 col0\" > 0.682</td>\n",
       "                        <td id=\"T_1fca084f_dd67_11eb_8008_2cf05d9d94dfrow0_col1\" class=\"data row0 col1\" > 274.</td>\n",
       "                        <td id=\"T_1fca084f_dd67_11eb_8008_2cf05d9d94dfrow0_col2\" class=\"data row0 col2\" > 0.00</td>\n",
       "                        <td id=\"T_1fca084f_dd67_11eb_8008_2cf05d9d94dfrow0_col3\" class=\"data row0 col3\" ></td>\n",
       "                        <td id=\"T_1fca084f_dd67_11eb_8008_2cf05d9d94dfrow0_col4\" class=\"data row0 col4\" > 0.00</td>\n",
       "            </tr>\n",
       "            <tr>\n",
       "                        <th id=\"T_1fca084f_dd67_11eb_8008_2cf05d9d94dflevel0_row1\" class=\"row_heading level0 row1\" >EmpNonRetail_LowInc</th>\n",
       "                        <td id=\"T_1fca084f_dd67_11eb_8008_2cf05d9d94dfrow1_col0\" class=\"data row1 col0\" >-0.441</td>\n",
       "                        <td id=\"T_1fca084f_dd67_11eb_8008_2cf05d9d94dfrow1_col1\" class=\"data row1 col1\" > 317.</td>\n",
       "                        <td id=\"T_1fca084f_dd67_11eb_8008_2cf05d9d94dfrow1_col2\" class=\"data row1 col2\" >-0.00</td>\n",
       "                        <td id=\"T_1fca084f_dd67_11eb_8008_2cf05d9d94dfrow1_col3\" class=\"data row1 col3\" ></td>\n",
       "                        <td id=\"T_1fca084f_dd67_11eb_8008_2cf05d9d94dfrow1_col4\" class=\"data row1 col4\" > 0.00</td>\n",
       "            </tr>\n",
       "            <tr>\n",
       "                        <th id=\"T_1fca084f_dd67_11eb_8008_2cf05d9d94dflevel0_row2\" class=\"row_heading level0 row2\" >EmpRetail_HighInc</th>\n",
       "                        <td id=\"T_1fca084f_dd67_11eb_8008_2cf05d9d94dfrow2_col0\" class=\"data row2 col0\" >-0.682</td>\n",
       "                        <td id=\"T_1fca084f_dd67_11eb_8008_2cf05d9d94dfrow2_col1\" class=\"data row2 col1\" > 274.</td>\n",
       "                        <td id=\"T_1fca084f_dd67_11eb_8008_2cf05d9d94dfrow2_col2\" class=\"data row2 col2\" >-0.00</td>\n",
       "                        <td id=\"T_1fca084f_dd67_11eb_8008_2cf05d9d94dfrow2_col3\" class=\"data row2 col3\" ></td>\n",
       "                        <td id=\"T_1fca084f_dd67_11eb_8008_2cf05d9d94dfrow2_col4\" class=\"data row2 col4\" > 0.00</td>\n",
       "            </tr>\n",
       "            <tr>\n",
       "                        <th id=\"T_1fca084f_dd67_11eb_8008_2cf05d9d94dflevel0_row3\" class=\"row_heading level0 row3\" >EmpRetail_LowInc</th>\n",
       "                        <td id=\"T_1fca084f_dd67_11eb_8008_2cf05d9d94dfrow3_col0\" class=\"data row3 col0\" > 0.441</td>\n",
       "                        <td id=\"T_1fca084f_dd67_11eb_8008_2cf05d9d94dfrow3_col1\" class=\"data row3 col1\" > 317.</td>\n",
       "                        <td id=\"T_1fca084f_dd67_11eb_8008_2cf05d9d94dfrow3_col2\" class=\"data row3 col2\" > 0.00</td>\n",
       "                        <td id=\"T_1fca084f_dd67_11eb_8008_2cf05d9d94dfrow3_col3\" class=\"data row3 col3\" ></td>\n",
       "                        <td id=\"T_1fca084f_dd67_11eb_8008_2cf05d9d94dfrow3_col4\" class=\"data row3 col4\" > 0.00</td>\n",
       "            </tr>\n",
       "            <tr>\n",
       "                        <th id=\"T_1fca084f_dd67_11eb_8008_2cf05d9d94dflevel0_row4\" class=\"row_heading level0 row4\" >Theta</th>\n",
       "                        <td id=\"T_1fca084f_dd67_11eb_8008_2cf05d9d94dfrow4_col0\" class=\"data row4 col0\" > 0.749</td>\n",
       "                        <td id=\"T_1fca084f_dd67_11eb_8008_2cf05d9d94dfrow4_col1\" class=\"data row4 col1\" > 0.0152</td>\n",
       "                        <td id=\"T_1fca084f_dd67_11eb_8008_2cf05d9d94dfrow4_col2\" class=\"data row4 col2\" >-16.45</td>\n",
       "                        <td id=\"T_1fca084f_dd67_11eb_8008_2cf05d9d94dfrow4_col3\" class=\"data row4 col3\" >***</td>\n",
       "                        <td id=\"T_1fca084f_dd67_11eb_8008_2cf05d9d94dfrow4_col4\" class=\"data row4 col4\" > 1.00</td>\n",
       "            </tr>\n",
       "            <tr>\n",
       "                        <th id=\"T_1fca084f_dd67_11eb_8008_2cf05d9d94dflevel0_row5\" class=\"row_heading level0 row5\" >distance</th>\n",
       "                        <td id=\"T_1fca084f_dd67_11eb_8008_2cf05d9d94dfrow5_col0\" class=\"data row5 col0\" >-0.0418</td>\n",
       "                        <td id=\"T_1fca084f_dd67_11eb_8008_2cf05d9d94dfrow5_col1\" class=\"data row5 col1\" > 0.0107</td>\n",
       "                        <td id=\"T_1fca084f_dd67_11eb_8008_2cf05d9d94dfrow5_col2\" class=\"data row5 col2\" >-3.90</td>\n",
       "                        <td id=\"T_1fca084f_dd67_11eb_8008_2cf05d9d94dfrow5_col3\" class=\"data row5 col3\" >***</td>\n",
       "                        <td id=\"T_1fca084f_dd67_11eb_8008_2cf05d9d94dfrow5_col4\" class=\"data row5 col4\" > 0.00</td>\n",
       "            </tr>\n",
       "            <tr>\n",
       "                        <th id=\"T_1fca084f_dd67_11eb_8008_2cf05d9d94dflevel0_row6\" class=\"row_heading level0 row6\" >logsum</th>\n",
       "                        <td id=\"T_1fca084f_dd67_11eb_8008_2cf05d9d94dfrow6_col0\" class=\"data row6 col0\" > 1.02</td>\n",
       "                        <td id=\"T_1fca084f_dd67_11eb_8008_2cf05d9d94dfrow6_col1\" class=\"data row6 col1\" > 0.0317</td>\n",
       "                        <td id=\"T_1fca084f_dd67_11eb_8008_2cf05d9d94dfrow6_col2\" class=\"data row6 col2\" > 32.16</td>\n",
       "                        <td id=\"T_1fca084f_dd67_11eb_8008_2cf05d9d94dfrow6_col3\" class=\"data row6 col3\" >***</td>\n",
       "                        <td id=\"T_1fca084f_dd67_11eb_8008_2cf05d9d94dfrow6_col4\" class=\"data row6 col4\" > 0.00</td>\n",
       "            </tr>\n",
       "    </tbody></table>"
      ],
      "text/plain": [
       "<pandas.io.formats.style.Styler at 0x7f6db7f4b610>"
      ]
     },
     "execution_count": 41,
     "metadata": {},
     "output_type": "execute_result"
    }
   ],
   "source": [
    "m.parameter_summary()"
   ]
  },
  {
   "cell_type": "code",
   "execution_count": 42,
   "id": "29a95e48-015b-4bd5-a4cd-5021b48a49b6",
   "metadata": {},
   "outputs": [
    {
     "data": {
      "text/html": [
       "<div><table class=\"floatinghead\" style=\"margin-top:1px;\"><tr><td style=\"text-align:left;\"><div></div> + <span class=\"LinearFunc_Param\">P.logsum</span> * <span class=\"LinearFunc_Data\">X.logsum</span><br> + <span class=\"LinearFunc_Param\">P.distance</span> * <span class=\"LinearFunc_Data\">X.distance</span><br> + <span class=\"Larch_Parameter\">P.Theta</span> * log(<br>   + <span></span>exp(<span class=\"LinearFunc_Param\">P.EmpRetail_HighInc</span>) * <span class=\"LinearFunc_Data\">X('RETAIL_EMP * (INCOME&gt;50000)')</span><br>   + <span></span>exp(<span class=\"LinearFunc_Param\">P.EmpNonRetail_HighInc</span>) * <span class=\"LinearFunc_Data\">X('NONRETAIL_EMP*(INCOME&gt;50000)')</span><br>   + <span></span>exp(<span class=\"LinearFunc_Param\">P.EmpRetail_LowInc</span>) * <span class=\"LinearFunc_Data\">X('RETAIL_EMP*(INCOME&lt;=50000)')</span><br>   + <span></span>exp(<span class=\"LinearFunc_Param\">P.EmpNonRetail_LowInc</span>) * <span class=\"LinearFunc_Data\">X('NONRETAIL_EMP*(INCOME&lt;=50000)')</span><br>)</td></tr></table></div>"
      ],
      "text/plain": [
       "<xmle.Elem 'div' with 1 children>"
      ]
     },
     "execution_count": 42,
     "metadata": {},
     "output_type": "execute_result"
    }
   ],
   "source": [
    "m.utility_functions()"
   ]
  },
  {
   "cell_type": "code",
   "execution_count": null,
   "id": "66fd633c-2a0e-45c6-a4f8-259cf5b2840d",
   "metadata": {},
   "outputs": [],
   "source": []
  }
 ],
 "metadata": {
  "kernelspec": {
   "display_name": "Python 3",
   "language": "python",
   "name": "python3"
  },
  "language_info": {
   "codemirror_mode": {
    "name": "ipython",
    "version": 3
   },
   "file_extension": ".py",
   "mimetype": "text/x-python",
   "name": "python",
   "nbconvert_exporter": "python",
   "pygments_lexer": "ipython3",
   "version": "3.9.5"
  }
 },
 "nbformat": 4,
 "nbformat_minor": 5
}
