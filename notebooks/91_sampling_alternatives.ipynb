{
 "cells": [
  {
   "cell_type": "code",
   "execution_count": null,
   "metadata": {},
   "outputs": [],
   "source": []
  },
  {
   "cell_type": "markdown",
   "metadata": {},
   "source": [
    "# 1. Generate synthetic data set\n",
    "- N = 1000 observations\n",
    "- J = 1000 alternatives for all observations (C_n = C)\n",
    "- X = single attribute distributed Uniform(-2,1) for the first 500 alternatives and Uniform(-1,2) for the second half\n",
    "- beta = generic linear taste coefficient, distributed Normal(mu=1.5, sigma=0.8) across the 1000 observations\n",
    "- systematic utility = beta * X\n",
    "- epsilon = error term distributed ExtremeValue(0,1)\n",
    "- random utility = beta * X + epsilon\n",
    "- Utility of alternative i for agent n: $$ U_{in} = V_{in} + \\varepsilon_{in} = \\beta_n x_{i} + \\varepsilon_{in} $$\n",
    "\n",
    "- Probability that agent n will choose alternative i: $$ L_n(i \\mid \\beta_n, x_n,C_n) = \\frac {e^{V_{in}}} {\\sum_{j \\epsilon C_n} e^{V_{jn}}} $$"
   ]
  },
  {
   "cell_type": "code",
   "execution_count": 145,
   "metadata": {},
   "outputs": [],
   "source": [
    "import numpy as np\n",
    "import pandas as pd"
   ]
  },
  {
   "cell_type": "code",
   "execution_count": 146,
   "metadata": {},
   "outputs": [
    {
     "data": {
      "text/plain": [
       "(50, array([-1.53751147,  0.22014909, -1.21005495, -0.39878182, -1.95627511]))"
      ]
     },
     "execution_count": 146,
     "metadata": {},
     "output_type": "execute_result"
    }
   ],
   "source": [
    "# Generate attribute x for each of J alternatives\n",
    "# Set a seed for reproducibility\n",
    "np.random.seed(12)\n",
    "# Start with J << 1000 to speed up runtimes\n",
    "J = 50  # alternatives\n",
    "Xa = 3 * np.random.rand(int(J/2)) - 2  # uniform distribution over [-2, 1]\n",
    "Xb = 3 * np.random.rand(int(J/2)) - 1  # uniform distribution over [-1, 2]\n",
    "X = np.concatenate((Xa, Xb))\n",
    "len(X) , X[:5]"
   ]
  },
  {
   "cell_type": "code",
   "execution_count": 147,
   "metadata": {},
   "outputs": [
    {
     "data": {
      "text/plain": [
       "(-0.6588490021631214,\n",
       " 0.9820474818827583,\n",
       " 0.6879886567353536,\n",
       " 0.6061399517798512)"
      ]
     },
     "execution_count": 147,
     "metadata": {},
     "output_type": "execute_result"
    }
   ],
   "source": [
    "Xa.mean(), Xa.var(), Xb.mean(), Xb.var()"
   ]
  },
  {
   "cell_type": "code",
   "execution_count": 148,
   "metadata": {},
   "outputs": [
    {
     "data": {
      "text/plain": [
       "[<matplotlib.lines.Line2D at 0x7fc012a0b3a0>]"
      ]
     },
     "execution_count": 148,
     "metadata": {},
     "output_type": "execute_result"
    },
    {
     "data": {
      "image/png": "[encoded data removed]",
      "text/plain": [
       "<Figure size 432x288 with 1 Axes>"
      ]
     },
     "metadata": {
      "needs_background": "light"
     },
     "output_type": "display_data"
    }
   ],
   "source": [
    "import matplotlib.pyplot as plt\n",
    "plt.plot(X)"
   ]
  },
  {
   "cell_type": "code",
   "execution_count": 149,
   "metadata": {},
   "outputs": [
    {
     "data": {
      "text/plain": [
       "(1000, array([1.5, 1.5, 1.5, 1.5, 1.5]))"
      ]
     },
     "execution_count": 149,
     "metadata": {},
     "output_type": "execute_result"
    }
   ],
   "source": [
    "# Generate taste coefficient beta for each of N agents \n",
    "# For regular MNL, we need to use a single value, instead of a \n",
    "# distribution as Guevara & Ben-Akiva used for the mixture model\n",
    "N = 1000  # agents/observations\n",
    "beta = np.zeros(1000) + 1.5\n",
    "# beta = 0.8 * np.random.randn(N) + 1.5\n",
    "len(beta), beta[:5]"
   ]
  },
  {
   "cell_type": "code",
   "execution_count": 150,
   "metadata": {},
   "outputs": [
    {
     "data": {
      "text/html": [
       "<div>\n",
       "<style scoped>\n",
       "    .dataframe tbody tr th:only-of-type {\n",
       "        vertical-align: middle;\n",
       "    }\n",
       "\n",
       "    .dataframe tbody tr th {\n",
       "        vertical-align: top;\n",
       "    }\n",
       "\n",
       "    .dataframe thead th {\n",
       "        text-align: right;\n",
       "    }\n",
       "</style>\n",
       "<table border=\"1\" class=\"dataframe\">\n",
       "  <thead>\n",
       "    <tr style=\"text-align: right;\">\n",
       "      <th></th>\n",
       "      <th>0</th>\n",
       "    </tr>\n",
       "  </thead>\n",
       "  <tbody>\n",
       "    <tr>\n",
       "      <th>count</th>\n",
       "      <td>1000.0</td>\n",
       "    </tr>\n",
       "    <tr>\n",
       "      <th>mean</th>\n",
       "      <td>1.5</td>\n",
       "    </tr>\n",
       "    <tr>\n",
       "      <th>std</th>\n",
       "      <td>0.0</td>\n",
       "    </tr>\n",
       "    <tr>\n",
       "      <th>min</th>\n",
       "      <td>1.5</td>\n",
       "    </tr>\n",
       "    <tr>\n",
       "      <th>25%</th>\n",
       "      <td>1.5</td>\n",
       "    </tr>\n",
       "    <tr>\n",
       "      <th>50%</th>\n",
       "      <td>1.5</td>\n",
       "    </tr>\n",
       "    <tr>\n",
       "      <th>75%</th>\n",
       "      <td>1.5</td>\n",
       "    </tr>\n",
       "    <tr>\n",
       "      <th>max</th>\n",
       "      <td>1.5</td>\n",
       "    </tr>\n",
       "  </tbody>\n",
       "</table>\n",
       "</div>"
      ],
      "text/plain": [
       "            0\n",
       "count  1000.0\n",
       "mean      1.5\n",
       "std       0.0\n",
       "min       1.5\n",
       "25%       1.5\n",
       "50%       1.5\n",
       "75%       1.5\n",
       "max       1.5"
      ]
     },
     "execution_count": 150,
     "metadata": {},
     "output_type": "execute_result"
    }
   ],
   "source": [
    "pd.DataFrame(beta).describe()"
   ]
  },
  {
   "cell_type": "code",
   "execution_count": 151,
   "metadata": {},
   "outputs": [
    {
     "data": {
      "text/plain": [
       "((50,), 1000)"
      ]
     },
     "execution_count": 151,
     "metadata": {},
     "output_type": "execute_result"
    }
   ],
   "source": [
    "X.shape, N"
   ]
  },
  {
   "cell_type": "code",
   "execution_count": 152,
   "metadata": {},
   "outputs": [
    {
     "name": "stdout",
     "output_type": "stream",
     "text": [
      "(1000, 50)\n"
     ]
    }
   ],
   "source": [
    "# Generate probability matrix for N agents choosing among J alternatives\n",
    "def probs(n):\n",
    "    ''' \n",
    "    Return list of J probabilities for agent n\n",
    "    '''\n",
    "    b = beta[n]\n",
    "    exps = [np.exp(b*x) for x in X]\n",
    "    sum_exps = np.sum(exps)\n",
    "    return [exp/sum_exps for exp in exps]\n",
    "\n",
    "\n",
    "P = np.array([probs(n) for n in range(N)])\n",
    "print(P.shape)"
   ]
  },
  {
   "cell_type": "code",
   "execution_count": 153,
   "metadata": {},
   "outputs": [
    {
     "name": "stdout",
     "output_type": "stream",
     "text": [
      "[1. 1. 1. 1. 1. 1. 1. 1. 1. 1.]\n"
     ]
    }
   ],
   "source": [
    "# Check that each row sums to 1\n",
    "print(np.sum(P, axis=1)[:10])"
   ]
  },
  {
   "cell_type": "code",
   "execution_count": 154,
   "metadata": {},
   "outputs": [
    {
     "data": {
      "text/plain": [
       "(1000, [5, 43, 32, 43, 18, 45, 6, 27, 34, 38])"
      ]
     },
     "execution_count": 154,
     "metadata": {},
     "output_type": "execute_result"
    }
   ],
   "source": [
    "# Simulate a choice from J alternatives for each of N agents\n",
    "C = [np.random.choice(range(J)) for p in P]\n",
    "len(C), C[:10]"
   ]
  },
  {
   "cell_type": "markdown",
   "metadata": {},
   "source": [
    "# Now we have data:\n",
    "* N agents/observations with true taste coefficients in array \"beta\"\n",
    "* J alternatives with single attributes in array \"X\"\n",
    "* N choice outcomes in array \"C\""
   ]
  },
  {
   "cell_type": "markdown",
   "metadata": {},
   "source": [
    "# 2. Estimate beta without sampling, using PyLogit MNL"
   ]
  },
  {
   "cell_type": "code",
   "execution_count": 155,
   "metadata": {},
   "outputs": [],
   "source": [
    "import pylogit\n",
    "from collections import OrderedDict"
   ]
  },
  {
   "cell_type": "code",
   "execution_count": 156,
   "metadata": {},
   "outputs": [
    {
     "name": "stdout",
     "output_type": "stream",
     "text": [
      "50000\n"
     ]
    }
   ],
   "source": [
    "# Set up an estimation dataset in long format\n",
    "d = [[n, i, int(C[n]==i), X[i]] for n in range(N) for i in range(J)]\n",
    "print(len(d))"
   ]
  },
  {
   "cell_type": "code",
   "execution_count": 157,
   "metadata": {},
   "outputs": [
    {
     "data": {
      "text/plain": [
       "(50000, 4)"
      ]
     },
     "execution_count": 157,
     "metadata": {},
     "output_type": "execute_result"
    }
   ],
   "source": [
    "pd.DataFrame(d).shape"
   ]
  },
  {
   "cell_type": "code",
   "execution_count": 158,
   "metadata": {},
   "outputs": [
    {
     "data": {
      "text/html": [
       "<div>\n",
       "<style scoped>\n",
       "    .dataframe tbody tr th:only-of-type {\n",
       "        vertical-align: middle;\n",
       "    }\n",
       "\n",
       "    .dataframe tbody tr th {\n",
       "        vertical-align: top;\n",
       "    }\n",
       "\n",
       "    .dataframe thead th {\n",
       "        text-align: right;\n",
       "    }\n",
       "</style>\n",
       "<table border=\"1\" class=\"dataframe\">\n",
       "  <thead>\n",
       "    <tr style=\"text-align: right;\">\n",
       "      <th></th>\n",
       "      <th>obs_id</th>\n",
       "      <th>alt_id</th>\n",
       "      <th>choice</th>\n",
       "      <th>x</th>\n",
       "    </tr>\n",
       "  </thead>\n",
       "  <tbody>\n",
       "    <tr>\n",
       "      <th>0</th>\n",
       "      <td>0</td>\n",
       "      <td>0</td>\n",
       "      <td>0</td>\n",
       "      <td>-1.537511</td>\n",
       "    </tr>\n",
       "    <tr>\n",
       "      <th>1</th>\n",
       "      <td>0</td>\n",
       "      <td>1</td>\n",
       "      <td>0</td>\n",
       "      <td>0.220149</td>\n",
       "    </tr>\n",
       "    <tr>\n",
       "      <th>2</th>\n",
       "      <td>0</td>\n",
       "      <td>2</td>\n",
       "      <td>0</td>\n",
       "      <td>-1.210055</td>\n",
       "    </tr>\n",
       "    <tr>\n",
       "      <th>3</th>\n",
       "      <td>0</td>\n",
       "      <td>3</td>\n",
       "      <td>0</td>\n",
       "      <td>-0.398782</td>\n",
       "    </tr>\n",
       "    <tr>\n",
       "      <th>4</th>\n",
       "      <td>0</td>\n",
       "      <td>4</td>\n",
       "      <td>0</td>\n",
       "      <td>-1.956275</td>\n",
       "    </tr>\n",
       "  </tbody>\n",
       "</table>\n",
       "</div>"
      ],
      "text/plain": [
       "   obs_id  alt_id  choice         x\n",
       "0       0       0       0 -1.537511\n",
       "1       0       1       0  0.220149\n",
       "2       0       2       0 -1.210055\n",
       "3       0       3       0 -0.398782\n",
       "4       0       4       0 -1.956275"
      ]
     },
     "execution_count": 158,
     "metadata": {},
     "output_type": "execute_result"
    }
   ],
   "source": [
    "df = pd.DataFrame(d, columns=['obs_id', 'alt_id', 'choice', 'x'])\n",
    "df.head()"
   ]
  },
  {
   "cell_type": "code",
   "execution_count": 159,
   "metadata": {},
   "outputs": [
    {
     "data": {
      "text/html": [
       "<div>\n",
       "<style scoped>\n",
       "    .dataframe tbody tr th:only-of-type {\n",
       "        vertical-align: middle;\n",
       "    }\n",
       "\n",
       "    .dataframe tbody tr th {\n",
       "        vertical-align: top;\n",
       "    }\n",
       "\n",
       "    .dataframe thead th {\n",
       "        text-align: right;\n",
       "    }\n",
       "</style>\n",
       "<table border=\"1\" class=\"dataframe\">\n",
       "  <thead>\n",
       "    <tr style=\"text-align: right;\">\n",
       "      <th></th>\n",
       "      <th>obs_id</th>\n",
       "      <th>alt_id</th>\n",
       "      <th>choice</th>\n",
       "      <th>x</th>\n",
       "    </tr>\n",
       "  </thead>\n",
       "  <tbody>\n",
       "    <tr>\n",
       "      <th>count</th>\n",
       "      <td>50000.000000</td>\n",
       "      <td>50000.000000</td>\n",
       "      <td>50000.000000</td>\n",
       "      <td>50000.000000</td>\n",
       "    </tr>\n",
       "    <tr>\n",
       "      <th>mean</th>\n",
       "      <td>499.500000</td>\n",
       "      <td>24.500000</td>\n",
       "      <td>0.020000</td>\n",
       "      <td>0.014570</td>\n",
       "    </tr>\n",
       "    <tr>\n",
       "      <th>std</th>\n",
       "      <td>288.677877</td>\n",
       "      <td>14.431014</td>\n",
       "      <td>0.140001</td>\n",
       "      <td>1.116965</td>\n",
       "    </tr>\n",
       "    <tr>\n",
       "      <th>min</th>\n",
       "      <td>0.000000</td>\n",
       "      <td>0.000000</td>\n",
       "      <td>0.000000</td>\n",
       "      <td>-1.993222</td>\n",
       "    </tr>\n",
       "    <tr>\n",
       "      <th>25%</th>\n",
       "      <td>249.750000</td>\n",
       "      <td>12.000000</td>\n",
       "      <td>0.000000</td>\n",
       "      <td>-0.894495</td>\n",
       "    </tr>\n",
       "    <tr>\n",
       "      <th>50%</th>\n",
       "      <td>499.500000</td>\n",
       "      <td>24.500000</td>\n",
       "      <td>0.000000</td>\n",
       "      <td>0.220035</td>\n",
       "    </tr>\n",
       "    <tr>\n",
       "      <th>75%</th>\n",
       "      <td>749.250000</td>\n",
       "      <td>37.000000</td>\n",
       "      <td>0.000000</td>\n",
       "      <td>0.832675</td>\n",
       "    </tr>\n",
       "    <tr>\n",
       "      <th>max</th>\n",
       "      <td>999.000000</td>\n",
       "      <td>49.000000</td>\n",
       "      <td>1.000000</td>\n",
       "      <td>1.985414</td>\n",
       "    </tr>\n",
       "  </tbody>\n",
       "</table>\n",
       "</div>"
      ],
      "text/plain": [
       "             obs_id        alt_id        choice             x\n",
       "count  50000.000000  50000.000000  50000.000000  50000.000000\n",
       "mean     499.500000     24.500000      0.020000      0.014570\n",
       "std      288.677877     14.431014      0.140001      1.116965\n",
       "min        0.000000      0.000000      0.000000     -1.993222\n",
       "25%      249.750000     12.000000      0.000000     -0.894495\n",
       "50%      499.500000     24.500000      0.000000      0.220035\n",
       "75%      749.250000     37.000000      0.000000      0.832675\n",
       "max      999.000000     49.000000      1.000000      1.985414"
      ]
     },
     "execution_count": 159,
     "metadata": {},
     "output_type": "execute_result"
    }
   ],
   "source": [
    "df.describe()"
   ]
  },
  {
   "cell_type": "code",
   "execution_count": 160,
   "metadata": {},
   "outputs": [],
   "source": [
    "# Set up model spec\n",
    "spec = OrderedDict([ ('x', [range(J)]) ])\n",
    "\n",
    "labels = OrderedDict([ ('x', ['beta_x']) ])"
   ]
  },
  {
   "cell_type": "code",
   "execution_count": 161,
   "metadata": {},
   "outputs": [
    {
     "name": "stdout",
     "output_type": "stream",
     "text": [
      "Log-likelihood at zero: -3,912.0230\n",
      "Initial Log-likelihood: -3,912.0230\n",
      "Estimation Time for Point Estimation: 0.03 seconds.\n",
      "Final log-likelihood: -3,912.0109\n"
     ]
    },
    {
     "name": "stderr",
     "output_type": "stream",
     "text": [
      "/home/danph/anaconda3/envs/dev/lib/python3.8/site-packages/scipy/optimize/_minimize.py:522: RuntimeWarning: Method BFGS does not use Hessian information (hess).\n",
      "  warn('Method %s does not use Hessian information (hess).' % method,\n"
     ]
    },
    {
     "name": "stdout",
     "output_type": "stream",
     "text": [
      "CPU times: user 466 ms, sys: 365 ms, total: 830 ms\n",
      "Wall time: 568 ms\n"
     ]
    }
   ],
   "source": [
    "%%time\n",
    "m = pylogit.create_choice_model(data = df, \n",
    "                                alt_id_col = 'alt_id', \n",
    "                                obs_id_col = 'obs_id', \n",
    "                                choice_col = 'choice', \n",
    "                                specification = spec, \n",
    "                                model_type = \"MNL\", \n",
    "                                names = labels)\n",
    "\n",
    "m.fit_mle(init_vals = np.array([0]))"
   ]
  },
  {
   "cell_type": "code",
   "execution_count": 162,
   "metadata": {},
   "outputs": [
    {
     "data": {
      "text/html": [
       "<table class=\"simpletable\">\n",
       "<caption>Multinomial Logit Model Regression Results</caption>\n",
       "<tr>\n",
       "  <th>Dep. Variable:</th>         <td>choice</td>          <th>  No. Observations:  </th>    <td>1,000</td>  \n",
       "</tr>\n",
       "<tr>\n",
       "  <th>Model:</th>         <td>Multinomial Logit Model</td> <th>  Df Residuals:      </th>     <td>999</td>   \n",
       "</tr>\n",
       "<tr>\n",
       "  <th>Method:</th>                  <td>MLE</td>           <th>  Df Model:          </th>      <td>1</td>    \n",
       "</tr>\n",
       "<tr>\n",
       "  <th>Date:</th>             <td>Wed, 09 Jun 2021</td>     <th>  Pseudo R-squ.:     </th>    <td>0.000</td>  \n",
       "</tr>\n",
       "<tr>\n",
       "  <th>Time:</th>                 <td>15:06:02</td>         <th>  Pseudo R-bar-squ.: </th>   <td>-0.000</td>  \n",
       "</tr>\n",
       "<tr>\n",
       "  <th>AIC:</th>                  <td>7,826.022</td>        <th>  Log-Likelihood:    </th> <td>-3,912.011</td>\n",
       "</tr>\n",
       "<tr>\n",
       "  <th>BIC:</th>                  <td>7,830.929</td>        <th>  LL-Null:           </th> <td>-3,912.023</td>\n",
       "</tr>\n",
       "</table>\n",
       "<table class=\"simpletable\">\n",
       "<tr>\n",
       "     <td></td>       <th>coef</th>     <th>std err</th>      <th>z</th>      <th>P>|z|</th>  <th>[0.025</th>    <th>0.975]</th>  \n",
       "</tr>\n",
       "<tr>\n",
       "  <th>beta_x</th> <td>    0.0044</td> <td>    0.028</td> <td>    0.156</td> <td> 0.876</td> <td>   -0.051</td> <td>    0.060</td>\n",
       "</tr>\n",
       "</table>"
      ],
      "text/plain": [
       "<class 'statsmodels.iolib.summary.Summary'>\n",
       "\"\"\"\n",
       "                     Multinomial Logit Model Regression Results                    \n",
       "===================================================================================\n",
       "Dep. Variable:                      choice   No. Observations:                1,000\n",
       "Model:             Multinomial Logit Model   Df Residuals:                      999\n",
       "Method:                                MLE   Df Model:                            1\n",
       "Date:                     Wed, 09 Jun 2021   Pseudo R-squ.:                   0.000\n",
       "Time:                             15:06:02   Pseudo R-bar-squ.:              -0.000\n",
       "AIC:                             7,826.022   Log-Likelihood:             -3,912.011\n",
       "BIC:                             7,830.929   LL-Null:                    -3,912.023\n",
       "==============================================================================\n",
       "                 coef    std err          z      P>|z|      [0.025      0.975]\n",
       "------------------------------------------------------------------------------\n",
       "beta_x         0.0044      0.028      0.156      0.876      -0.051       0.060\n",
       "==============================================================================\n",
       "\"\"\""
      ]
     },
     "execution_count": 162,
     "metadata": {},
     "output_type": "execute_result"
    }
   ],
   "source": [
    "m.get_statsmodels_summary()"
   ]
  },
  {
   "cell_type": "markdown",
   "metadata": {},
   "source": [
    "# 2.2 Try Biogeme"
   ]
  },
  {
   "cell_type": "code",
   "execution_count": 165,
   "metadata": {},
   "outputs": [
    {
     "data": {
      "text/plain": [
       "((50,), 1000, 50, 1000)"
      ]
     },
     "execution_count": 165,
     "metadata": {},
     "output_type": "execute_result"
    }
   ],
   "source": [
    "X.shape, N, J, len(C)"
   ]
  },
  {
   "cell_type": "code",
   "execution_count": 167,
   "metadata": {},
   "outputs": [
    {
     "data": {
      "text/plain": [
       "array([-1.53751147,  0.22014909, -1.21005495, -0.39878182, -1.95627511,\n",
       "        0.75624102,  0.70214456, -1.89973572,  0.87084801, -1.58837204,\n",
       "       -1.14851494, -0.18175045,  0.83267541,  0.55820662, -1.9932223 ,\n",
       "       -0.43632192, -0.3438871 , -0.54386776,  0.30440246, -1.51784974,\n",
       "        0.29368135, -1.93757061, -1.59436946, -1.65118095, -1.07030725,\n",
       "        1.01435794,  0.41368933,  1.44850489, -0.13123965,  1.19937793,\n",
       "        1.10786707, -0.01729157,  0.00394259,  1.93417424,  0.87374634,\n",
       "        1.85094057,  1.30242695,  1.47502776,  0.21992091,  0.35392523,\n",
       "        0.20189488,  1.98541448, -0.46730747,  1.88779071,  0.25775081,\n",
       "        0.27215734,  0.38944661,  0.12116945,  0.3965243 , -0.89449522])"
      ]
     },
     "execution_count": 167,
     "metadata": {},
     "output_type": "execute_result"
    }
   ],
   "source": [
    "X"
   ]
  },
  {
   "cell_type": "code",
   "execution_count": null,
   "metadata": {},
   "outputs": [],
   "source": []
  },
  {
   "cell_type": "code",
   "execution_count": null,
   "metadata": {},
   "outputs": [],
   "source": []
  },
  {
   "cell_type": "markdown",
   "metadata": {},
   "source": [
    "# 3. Try with UrbanSim MNL instead of PyLogit"
   ]
  },
  {
   "cell_type": "code",
   "execution_count": 117,
   "metadata": {},
   "outputs": [],
   "source": [
    "from urbansim.models import MNLDiscreteChoiceModel"
   ]
  },
  {
   "cell_type": "code",
   "execution_count": 118,
   "metadata": {},
   "outputs": [
    {
     "data": {
      "text/plain": [
       "1000"
      ]
     },
     "execution_count": 118,
     "metadata": {},
     "output_type": "execute_result"
    }
   ],
   "source": [
    "# Choosers should be a DataFrame of characteristics, with index as identifier\n",
    "d = [[n, C[n]] for n in range(N)]\n",
    "choosers = pd.DataFrame(d, columns=['id', 'choice']).set_index('id')\n",
    "len(choosers)"
   ]
  },
  {
   "cell_type": "code",
   "execution_count": 119,
   "metadata": {},
   "outputs": [
    {
     "data": {
      "text/plain": [
       "50"
      ]
     },
     "execution_count": 119,
     "metadata": {},
     "output_type": "execute_result"
    }
   ],
   "source": [
    "# Alternatives should be a DataFrame of characteristics, with index as identifier\n",
    "d = [[i, X[i]] for i in range(J)]\n",
    "alts = pd.DataFrame(d, columns=['id', 'x']).set_index('id')\n",
    "len(alts)"
   ]
  },
  {
   "cell_type": "code",
   "execution_count": 120,
   "metadata": {},
   "outputs": [
    {
     "name": "stdout",
     "output_type": "stream",
     "text": [
      "Null Log-liklihood: -3891.820\n",
      "Log-liklihood at convergence: -3891.806\n",
      "Log-liklihood Ratio: 0.000\n",
      "\n",
      "+-----------+-------------+------------+---------+\n",
      "| Component | Coefficient | Std. Error | T-Score |\n",
      "+-----------+-------------+------------+---------+\n",
      "| x         |    0.005    |   0.028    |  0.172  |\n",
      "+-----------+-------------+------------+---------+\n",
      "CPU times: user 138 ms, sys: 0 ns, total: 138 ms\n",
      "Wall time: 101 ms\n"
     ]
    }
   ],
   "source": [
    "%%time\n",
    "\n",
    "# It seems like this implementation *requires* us to sample the alternatives, \n",
    "# so here i'm estimating the model with J-1 alts\n",
    "\n",
    "m = MNLDiscreteChoiceModel(model_expression = 'x',\n",
    "                           sample_size = J-1)\n",
    "\n",
    "m.fit(choosers = choosers,\n",
    "      alternatives = alts,\n",
    "      current_choice = 'choice')\n",
    "\n",
    "m.report_fit()"
   ]
  },
  {
   "cell_type": "markdown",
   "metadata": {},
   "source": [
    "# 4. MNL, sampling alternatives without correction"
   ]
  },
  {
   "cell_type": "code",
   "execution_count": 122,
   "metadata": {},
   "outputs": [],
   "source": [
    "# (NB - with random sampling, no correction is needed) \n",
    "# In the estimation dataset, for each observation include a row for the\n",
    "# chosen alternative, plus K-1 other alternatives sampled randomly\n",
    "# without replacement, where K < J."
   ]
  },
  {
   "cell_type": "code",
   "execution_count": 125,
   "metadata": {},
   "outputs": [
    {
     "data": {
      "text/plain": [
       "[5, 12, 21]"
      ]
     },
     "execution_count": 125,
     "metadata": {},
     "output_type": "execute_result"
    }
   ],
   "source": [
    "K = 3\n",
    "\n",
    "def alts(obs_id):\n",
    "    \"\"\"\n",
    "    Sample alternatives for observation `obs_id`. Expects `J` total\n",
    "    alts, `K` sampled alts, list `C` of choice outcomes. Returns list \n",
    "    of K alt id's including the chosen one.\n",
    "    \"\"\"\n",
    "    chosen = C[obs_id]  # id of chosen alternative\n",
    "    unchosen = [i for i in range(J) if chosen != i]  # id's of J-1 unchosen alts\n",
    "    sample_unchosen = np.random.choice(unchosen, size=K-1, replace=False)\n",
    "    return [chosen] + sample_unchosen.tolist()\n",
    "\n",
    "alts(0)"
   ]
  },
  {
   "cell_type": "code",
   "execution_count": 126,
   "metadata": {},
   "outputs": [
    {
     "data": {
      "text/plain": [
       "3000"
      ]
     },
     "execution_count": 126,
     "metadata": {},
     "output_type": "execute_result"
    }
   ],
   "source": [
    "# Set up the estimation dataset\n",
    "d = [[n, i, int(C[n]==i), X[i]] for n in range(N) for i in alts(n)]\n",
    "len(d)"
   ]
  },
  {
   "cell_type": "code",
   "execution_count": 128,
   "metadata": {},
   "outputs": [
    {
     "data": {
      "text/html": [
       "<div>\n",
       "<style scoped>\n",
       "    .dataframe tbody tr th:only-of-type {\n",
       "        vertical-align: middle;\n",
       "    }\n",
       "\n",
       "    .dataframe tbody tr th {\n",
       "        vertical-align: top;\n",
       "    }\n",
       "\n",
       "    .dataframe thead th {\n",
       "        text-align: right;\n",
       "    }\n",
       "</style>\n",
       "<table border=\"1\" class=\"dataframe\">\n",
       "  <thead>\n",
       "    <tr style=\"text-align: right;\">\n",
       "      <th></th>\n",
       "      <th>obs_id</th>\n",
       "      <th>alt_id</th>\n",
       "      <th>choice</th>\n",
       "      <th>x</th>\n",
       "    </tr>\n",
       "  </thead>\n",
       "  <tbody>\n",
       "    <tr>\n",
       "      <th>0</th>\n",
       "      <td>0</td>\n",
       "      <td>5</td>\n",
       "      <td>1</td>\n",
       "      <td>0.756241</td>\n",
       "    </tr>\n",
       "    <tr>\n",
       "      <th>1</th>\n",
       "      <td>0</td>\n",
       "      <td>3</td>\n",
       "      <td>0</td>\n",
       "      <td>-0.398782</td>\n",
       "    </tr>\n",
       "    <tr>\n",
       "      <th>2</th>\n",
       "      <td>0</td>\n",
       "      <td>30</td>\n",
       "      <td>0</td>\n",
       "      <td>1.107867</td>\n",
       "    </tr>\n",
       "    <tr>\n",
       "      <th>3</th>\n",
       "      <td>1</td>\n",
       "      <td>43</td>\n",
       "      <td>1</td>\n",
       "      <td>1.887791</td>\n",
       "    </tr>\n",
       "    <tr>\n",
       "      <th>4</th>\n",
       "      <td>1</td>\n",
       "      <td>29</td>\n",
       "      <td>0</td>\n",
       "      <td>1.199378</td>\n",
       "    </tr>\n",
       "  </tbody>\n",
       "</table>\n",
       "</div>"
      ],
      "text/plain": [
       "   obs_id  alt_id  choice         x\n",
       "0       0       5       1  0.756241\n",
       "1       0       3       0 -0.398782\n",
       "2       0      30       0  1.107867\n",
       "3       1      43       1  1.887791\n",
       "4       1      29       0  1.199378"
      ]
     },
     "execution_count": 128,
     "metadata": {},
     "output_type": "execute_result"
    }
   ],
   "source": [
    "df = pd.DataFrame(d, columns=['obs_id', 'alt_id', 'choice', 'x'])\n",
    "df.head()"
   ]
  },
  {
   "cell_type": "code",
   "execution_count": 129,
   "metadata": {},
   "outputs": [
    {
     "data": {
      "text/html": [
       "<div>\n",
       "<style scoped>\n",
       "    .dataframe tbody tr th:only-of-type {\n",
       "        vertical-align: middle;\n",
       "    }\n",
       "\n",
       "    .dataframe tbody tr th {\n",
       "        vertical-align: top;\n",
       "    }\n",
       "\n",
       "    .dataframe thead th {\n",
       "        text-align: right;\n",
       "    }\n",
       "</style>\n",
       "<table border=\"1\" class=\"dataframe\">\n",
       "  <thead>\n",
       "    <tr style=\"text-align: right;\">\n",
       "      <th></th>\n",
       "      <th>obs_id</th>\n",
       "      <th>alt_id</th>\n",
       "      <th>choice</th>\n",
       "      <th>x</th>\n",
       "    </tr>\n",
       "  </thead>\n",
       "  <tbody>\n",
       "    <tr>\n",
       "      <th>count</th>\n",
       "      <td>3000.000000</td>\n",
       "      <td>3000.000000</td>\n",
       "      <td>3000.000000</td>\n",
       "      <td>3000.000000</td>\n",
       "    </tr>\n",
       "    <tr>\n",
       "      <th>mean</th>\n",
       "      <td>499.500000</td>\n",
       "      <td>24.189000</td>\n",
       "      <td>0.333333</td>\n",
       "      <td>-0.010257</td>\n",
       "    </tr>\n",
       "    <tr>\n",
       "      <th>std</th>\n",
       "      <td>288.723115</td>\n",
       "      <td>14.257058</td>\n",
       "      <td>0.471483</td>\n",
       "      <td>1.119003</td>\n",
       "    </tr>\n",
       "    <tr>\n",
       "      <th>min</th>\n",
       "      <td>0.000000</td>\n",
       "      <td>0.000000</td>\n",
       "      <td>0.000000</td>\n",
       "      <td>-1.993222</td>\n",
       "    </tr>\n",
       "    <tr>\n",
       "      <th>25%</th>\n",
       "      <td>249.750000</td>\n",
       "      <td>12.000000</td>\n",
       "      <td>0.000000</td>\n",
       "      <td>-0.894495</td>\n",
       "    </tr>\n",
       "    <tr>\n",
       "      <th>50%</th>\n",
       "      <td>499.500000</td>\n",
       "      <td>24.000000</td>\n",
       "      <td>0.000000</td>\n",
       "      <td>0.219921</td>\n",
       "    </tr>\n",
       "    <tr>\n",
       "      <th>75%</th>\n",
       "      <td>749.250000</td>\n",
       "      <td>36.000000</td>\n",
       "      <td>1.000000</td>\n",
       "      <td>0.832675</td>\n",
       "    </tr>\n",
       "    <tr>\n",
       "      <th>max</th>\n",
       "      <td>999.000000</td>\n",
       "      <td>49.000000</td>\n",
       "      <td>1.000000</td>\n",
       "      <td>1.985414</td>\n",
       "    </tr>\n",
       "  </tbody>\n",
       "</table>\n",
       "</div>"
      ],
      "text/plain": [
       "            obs_id       alt_id       choice            x\n",
       "count  3000.000000  3000.000000  3000.000000  3000.000000\n",
       "mean    499.500000    24.189000     0.333333    -0.010257\n",
       "std     288.723115    14.257058     0.471483     1.119003\n",
       "min       0.000000     0.000000     0.000000    -1.993222\n",
       "25%     249.750000    12.000000     0.000000    -0.894495\n",
       "50%     499.500000    24.000000     0.000000     0.219921\n",
       "75%     749.250000    36.000000     1.000000     0.832675\n",
       "max     999.000000    49.000000     1.000000     1.985414"
      ]
     },
     "execution_count": 129,
     "metadata": {},
     "output_type": "execute_result"
    }
   ],
   "source": [
    "df.describe()"
   ]
  },
  {
   "cell_type": "code",
   "execution_count": 130,
   "metadata": {},
   "outputs": [],
   "source": [
    "# Same model spec as before\n",
    "\n",
    "spec = OrderedDict([\n",
    "        ('x', [range(J)])\n",
    "    ])\n",
    "\n",
    "labels = OrderedDict([\n",
    "        ('x', ['beta_x'])\n",
    "    ])"
   ]
  },
  {
   "cell_type": "code",
   "execution_count": 132,
   "metadata": {},
   "outputs": [
    {
     "name": "stdout",
     "output_type": "stream",
     "text": [
      "Log-likelihood at zero: -1,098.6123\n",
      "Initial Log-likelihood: -1,098.6123\n",
      "Estimation Time for Point Estimation: 0.01 seconds.\n",
      "Final log-likelihood: -1,098.0775\n",
      "CPU times: user 45.2 ms, sys: 22.7 ms, total: 67.9 ms\n",
      "Wall time: 61.5 ms\n"
     ]
    },
    {
     "name": "stderr",
     "output_type": "stream",
     "text": [
      "/home/danph/anaconda3/envs/dev/lib/python3.8/site-packages/scipy/optimize/_minimize.py:522: RuntimeWarning: Method BFGS does not use Hessian information (hess).\n",
      "  warn('Method %s does not use Hessian information (hess).' % method,\n"
     ]
    }
   ],
   "source": [
    "%%time\n",
    "m = pylogit.create_choice_model(data = df, \n",
    "                                alt_id_col = 'alt_id', \n",
    "                                obs_id_col = 'obs_id', \n",
    "                                choice_col = 'choice', \n",
    "                                specification = spec, \n",
    "                                model_type = \"MNL\", \n",
    "                                names = labels)\n",
    "\n",
    "m.fit_mle(init_vals = np.array([0]))"
   ]
  },
  {
   "cell_type": "code",
   "execution_count": 133,
   "metadata": {},
   "outputs": [
    {
     "data": {
      "text/html": [
       "<table class=\"simpletable\">\n",
       "<caption>Multinomial Logit Model Regression Results</caption>\n",
       "<tr>\n",
       "  <th>Dep. Variable:</th>         <td>choice</td>          <th>  No. Observations:  </th>    <td>1,000</td>  \n",
       "</tr>\n",
       "<tr>\n",
       "  <th>Model:</th>         <td>Multinomial Logit Model</td> <th>  Df Residuals:      </th>     <td>999</td>   \n",
       "</tr>\n",
       "<tr>\n",
       "  <th>Method:</th>                  <td>MLE</td>           <th>  Df Model:          </th>      <td>1</td>    \n",
       "</tr>\n",
       "<tr>\n",
       "  <th>Date:</th>             <td>Wed, 09 Jun 2021</td>     <th>  Pseudo R-squ.:     </th>    <td>0.000</td>  \n",
       "</tr>\n",
       "<tr>\n",
       "  <th>Time:</th>                 <td>14:52:27</td>         <th>  Pseudo R-bar-squ.: </th>   <td>-0.000</td>  \n",
       "</tr>\n",
       "<tr>\n",
       "  <th>AIC:</th>                  <td>2,198.155</td>        <th>  Log-Likelihood:    </th> <td>-1,098.077</td>\n",
       "</tr>\n",
       "<tr>\n",
       "  <th>BIC:</th>                  <td>2,203.063</td>        <th>  LL-Null:           </th> <td>-1,098.612</td>\n",
       "</tr>\n",
       "</table>\n",
       "<table class=\"simpletable\">\n",
       "<tr>\n",
       "     <td></td>       <th>coef</th>     <th>std err</th>      <th>z</th>      <th>P>|z|</th>  <th>[0.025</th>    <th>0.975]</th>  \n",
       "</tr>\n",
       "<tr>\n",
       "  <th>beta_x</th> <td>    0.0353</td> <td>    0.034</td> <td>    1.033</td> <td> 0.301</td> <td>   -0.032</td> <td>    0.102</td>\n",
       "</tr>\n",
       "</table>"
      ],
      "text/plain": [
       "<class 'statsmodels.iolib.summary.Summary'>\n",
       "\"\"\"\n",
       "                     Multinomial Logit Model Regression Results                    \n",
       "===================================================================================\n",
       "Dep. Variable:                      choice   No. Observations:                1,000\n",
       "Model:             Multinomial Logit Model   Df Residuals:                      999\n",
       "Method:                                MLE   Df Model:                            1\n",
       "Date:                     Wed, 09 Jun 2021   Pseudo R-squ.:                   0.000\n",
       "Time:                             14:52:27   Pseudo R-bar-squ.:              -0.000\n",
       "AIC:                             2,198.155   Log-Likelihood:             -1,098.077\n",
       "BIC:                             2,203.063   LL-Null:                    -1,098.612\n",
       "==============================================================================\n",
       "                 coef    std err          z      P>|z|      [0.025      0.975]\n",
       "------------------------------------------------------------------------------\n",
       "beta_x         0.0353      0.034      1.033      0.301      -0.032       0.102\n",
       "==============================================================================\n",
       "\"\"\""
      ]
     },
     "execution_count": 133,
     "metadata": {},
     "output_type": "execute_result"
    }
   ],
   "source": [
    "m.get_statsmodels_summary()"
   ]
  },
  {
   "cell_type": "markdown",
   "metadata": {},
   "source": [
    "# Run 1000x with different samples"
   ]
  },
  {
   "cell_type": "code",
   "execution_count": 134,
   "metadata": {},
   "outputs": [],
   "source": [
    "def estimate_beta():\n",
    "    d = [[n, i, int(C[n]==i), X[i]] for n in range(N) for i in alts(n)]\n",
    "    df = pd.DataFrame(d, columns=['obs_id', 'alt_id', 'choice', 'x'])\n",
    "    m = pylogit.create_choice_model(df, 'alt_id', 'obs_id', 'choice', spec, 'MNL', names=labels)\n",
    "    m.fit_mle(init_vals = np.array([0]))\n",
    "    return m.params.beta_x"
   ]
  },
  {
   "cell_type": "code",
   "execution_count": 135,
   "metadata": {},
   "outputs": [],
   "source": [
    "%%capture\n",
    "beta = []\n",
    "for i in range(1000):\n",
    "    beta.append(estimate_beta())"
   ]
  },
  {
   "cell_type": "code",
   "execution_count": 139,
   "metadata": {},
   "outputs": [
    {
     "data": {
      "text/plain": [
       "count    1000.000000\n",
       "mean        0.003964\n",
       "std         0.018123\n",
       "min        -0.052304\n",
       "25%        -0.008798\n",
       "50%         0.004380\n",
       "75%         0.016963\n",
       "max         0.067494\n",
       "dtype: float64"
      ]
     },
     "execution_count": 139,
     "metadata": {},
     "output_type": "execute_result"
    }
   ],
   "source": [
    "pd.Series(beta).describe()"
   ]
  },
  {
   "cell_type": "markdown",
   "metadata": {},
   "source": [
    "# 5. MNL with sampling correction\n",
    "Utility of alternative j: $$ V_{j} = \\beta x_{j} $$\n",
    "\n",
    "With sampling, we have to account for the restricted choice set (from Eq 6 in Guevara & Ben-Akiva 2013):\n",
    "\n",
    "$$ V_j = \\beta x_j + \\ln \\pi(D \\mid j) $$\n",
    "Where pi is the conditional probability that we would construct the choice set D given that alternative j was chosen. This goes into the likelihood function in both the numerator and denominator.\n",
    "\n",
    "$$ L_n = \\frac {exp(\\beta x_i + \\ln \\pi(D_n \\mid i))} {\\sum_{j \\epsilon D_n} exp(\\beta x_j + \\ln \\pi(D_n \\mid j))} $$\n",
    "How to calculate pi? From the original formulation of this in McFadden 1978: \"Suppose D is comprized of i plus a sample of alternatives from the set C\\{i}, obtained by considering each element of this set independently, and including it with probability p. Then, the probability of D will depend solely on the number of elements K it contains.\"\n",
    "\n",
    "$$ \\pi(D) = p^{K-1} (1 - p)^{J-K} $$\n",
    "(?? Without replacement, i think it should be the n-choose-k binomial coefficient, where n=J-1 and k=K-1)\n",
    "\n",
    "$$ \\pi(D) = {n \\choose k} = \\frac {(K-1)!(J-K)!} {(J-1)!} $$"
   ]
  },
  {
   "cell_type": "code",
   "execution_count": 136,
   "metadata": {},
   "outputs": [
    {
     "data": {
      "text/html": [
       "<div>\n",
       "<style scoped>\n",
       "    .dataframe tbody tr th:only-of-type {\n",
       "        vertical-align: middle;\n",
       "    }\n",
       "\n",
       "    .dataframe tbody tr th {\n",
       "        vertical-align: top;\n",
       "    }\n",
       "\n",
       "    .dataframe thead th {\n",
       "        text-align: right;\n",
       "    }\n",
       "</style>\n",
       "<table border=\"1\" class=\"dataframe\">\n",
       "  <thead>\n",
       "    <tr style=\"text-align: right;\">\n",
       "      <th></th>\n",
       "      <th>obs_id</th>\n",
       "      <th>alt_id</th>\n",
       "      <th>choice</th>\n",
       "      <th>x</th>\n",
       "      <th>const</th>\n",
       "    </tr>\n",
       "  </thead>\n",
       "  <tbody>\n",
       "    <tr>\n",
       "      <th>0</th>\n",
       "      <td>0</td>\n",
       "      <td>5</td>\n",
       "      <td>1</td>\n",
       "      <td>0.756241</td>\n",
       "      <td>1</td>\n",
       "    </tr>\n",
       "    <tr>\n",
       "      <th>1</th>\n",
       "      <td>0</td>\n",
       "      <td>4</td>\n",
       "      <td>0</td>\n",
       "      <td>-1.956275</td>\n",
       "      <td>1</td>\n",
       "    </tr>\n",
       "    <tr>\n",
       "      <th>2</th>\n",
       "      <td>0</td>\n",
       "      <td>23</td>\n",
       "      <td>0</td>\n",
       "      <td>-1.651181</td>\n",
       "      <td>1</td>\n",
       "    </tr>\n",
       "    <tr>\n",
       "      <th>3</th>\n",
       "      <td>1</td>\n",
       "      <td>43</td>\n",
       "      <td>1</td>\n",
       "      <td>1.887791</td>\n",
       "      <td>1</td>\n",
       "    </tr>\n",
       "    <tr>\n",
       "      <th>4</th>\n",
       "      <td>1</td>\n",
       "      <td>0</td>\n",
       "      <td>0</td>\n",
       "      <td>-1.537511</td>\n",
       "      <td>1</td>\n",
       "    </tr>\n",
       "  </tbody>\n",
       "</table>\n",
       "</div>"
      ],
      "text/plain": [
       "   obs_id  alt_id  choice         x  const\n",
       "0       0       5       1  0.756241      1\n",
       "1       0       4       0 -1.956275      1\n",
       "2       0      23       0 -1.651181      1\n",
       "3       1      43       1  1.887791      1\n",
       "4       1       0       0 -1.537511      1"
      ]
     },
     "execution_count": 136,
     "metadata": {},
     "output_type": "execute_result"
    }
   ],
   "source": [
    "# Add a column in the estimation data for the constant\n",
    "d = [[n, i, int(C[n]==i), X[i], 1] for n in range(N) for i in alts(n)]\n",
    "df = pd.DataFrame(d, columns=['obs_id', 'alt_id', 'choice', 'x', 'const'])\n",
    "df.head()\n"
   ]
  },
  {
   "cell_type": "code",
   "execution_count": 137,
   "metadata": {},
   "outputs": [
    {
     "data": {
      "text/html": [
       "<div>\n",
       "<style scoped>\n",
       "    .dataframe tbody tr th:only-of-type {\n",
       "        vertical-align: middle;\n",
       "    }\n",
       "\n",
       "    .dataframe tbody tr th {\n",
       "        vertical-align: top;\n",
       "    }\n",
       "\n",
       "    .dataframe thead th {\n",
       "        text-align: right;\n",
       "    }\n",
       "</style>\n",
       "<table border=\"1\" class=\"dataframe\">\n",
       "  <thead>\n",
       "    <tr style=\"text-align: right;\">\n",
       "      <th></th>\n",
       "      <th>obs_id</th>\n",
       "      <th>alt_id</th>\n",
       "      <th>choice</th>\n",
       "      <th>x</th>\n",
       "      <th>const</th>\n",
       "    </tr>\n",
       "  </thead>\n",
       "  <tbody>\n",
       "    <tr>\n",
       "      <th>count</th>\n",
       "      <td>3000.000000</td>\n",
       "      <td>3000.000000</td>\n",
       "      <td>3000.000000</td>\n",
       "      <td>3000.000000</td>\n",
       "      <td>3000.0</td>\n",
       "    </tr>\n",
       "    <tr>\n",
       "      <th>mean</th>\n",
       "      <td>499.500000</td>\n",
       "      <td>24.154333</td>\n",
       "      <td>0.333333</td>\n",
       "      <td>0.010779</td>\n",
       "      <td>1.0</td>\n",
       "    </tr>\n",
       "    <tr>\n",
       "      <th>std</th>\n",
       "      <td>288.723115</td>\n",
       "      <td>14.250153</td>\n",
       "      <td>0.471483</td>\n",
       "      <td>1.132319</td>\n",
       "      <td>0.0</td>\n",
       "    </tr>\n",
       "    <tr>\n",
       "      <th>min</th>\n",
       "      <td>0.000000</td>\n",
       "      <td>0.000000</td>\n",
       "      <td>0.000000</td>\n",
       "      <td>-1.993222</td>\n",
       "      <td>1.0</td>\n",
       "    </tr>\n",
       "    <tr>\n",
       "      <th>25%</th>\n",
       "      <td>249.750000</td>\n",
       "      <td>12.000000</td>\n",
       "      <td>0.000000</td>\n",
       "      <td>-0.894495</td>\n",
       "      <td>1.0</td>\n",
       "    </tr>\n",
       "    <tr>\n",
       "      <th>50%</th>\n",
       "      <td>499.500000</td>\n",
       "      <td>24.000000</td>\n",
       "      <td>0.000000</td>\n",
       "      <td>0.220149</td>\n",
       "      <td>1.0</td>\n",
       "    </tr>\n",
       "    <tr>\n",
       "      <th>75%</th>\n",
       "      <td>749.250000</td>\n",
       "      <td>36.000000</td>\n",
       "      <td>1.000000</td>\n",
       "      <td>0.832675</td>\n",
       "      <td>1.0</td>\n",
       "    </tr>\n",
       "    <tr>\n",
       "      <th>max</th>\n",
       "      <td>999.000000</td>\n",
       "      <td>49.000000</td>\n",
       "      <td>1.000000</td>\n",
       "      <td>1.985414</td>\n",
       "      <td>1.0</td>\n",
       "    </tr>\n",
       "  </tbody>\n",
       "</table>\n",
       "</div>"
      ],
      "text/plain": [
       "            obs_id       alt_id       choice            x   const\n",
       "count  3000.000000  3000.000000  3000.000000  3000.000000  3000.0\n",
       "mean    499.500000    24.154333     0.333333     0.010779     1.0\n",
       "std     288.723115    14.250153     0.471483     1.132319     0.0\n",
       "min       0.000000     0.000000     0.000000    -1.993222     1.0\n",
       "25%     249.750000    12.000000     0.000000    -0.894495     1.0\n",
       "50%     499.500000    24.000000     0.000000     0.220149     1.0\n",
       "75%     749.250000    36.000000     1.000000     0.832675     1.0\n",
       "max     999.000000    49.000000     1.000000     1.985414     1.0"
      ]
     },
     "execution_count": 137,
     "metadata": {},
     "output_type": "execute_result"
    }
   ],
   "source": [
    "df.describe()"
   ]
  },
  {
   "cell_type": "code",
   "execution_count": 138,
   "metadata": {},
   "outputs": [],
   "source": [
    "spec2 = OrderedDict([\n",
    "        ('x', [range(J)]),\n",
    "        ('const', [range(J)])\n",
    "    ])\n",
    "\n",
    "labels2 = OrderedDict([\n",
    "        ('x', ['beta_x']),\n",
    "        ('const', ['constant'])\n",
    "    ])"
   ]
  },
  {
   "cell_type": "code",
   "execution_count": 140,
   "metadata": {},
   "outputs": [
    {
     "data": {
      "text/plain": [
       "0.5"
      ]
     },
     "execution_count": 140,
     "metadata": {},
     "output_type": "execute_result"
    }
   ],
   "source": [
    "# Try binomial formula\n",
    "\n",
    "j=3\n",
    "k=2\n",
    "\n",
    "fact = np.math.factorial\n",
    "\n",
    "float(fact(k-1)*fact(j-k))/fact(j-1)"
   ]
  },
  {
   "cell_type": "code",
   "execution_count": 141,
   "metadata": {},
   "outputs": [
    {
     "name": "stdout",
     "output_type": "stream",
     "text": [
      "Log-likelihood at zero: -1,098.6123\n",
      "Initial Log-likelihood: -1,098.6123\n",
      "Estimation Time for Point Estimation: 0.02 seconds.\n",
      "Final log-likelihood: -1,098.5629\n",
      "CPU times: user 131 ms, sys: 0 ns, total: 131 ms\n",
      "Wall time: 71.9 ms\n"
     ]
    },
    {
     "name": "stderr",
     "output_type": "stream",
     "text": [
      "/home/danph/anaconda3/envs/dev/lib/python3.8/site-packages/scipy/optimize/_minimize.py:522: RuntimeWarning: Method BFGS does not use Hessian information (hess).\n",
      "  warn('Method %s does not use Hessian information (hess).' % method,\n",
      "/home/danph/anaconda3/envs/dev/lib/python3.8/site-packages/pylogit/base_multinomial_cm_v2.py:1228: RuntimeWarning: invalid value encountered in sqrt\n",
      "  self._store_inferential_results(np.sqrt(np.diag(self.cov)),\n"
     ]
    }
   ],
   "source": [
    "%%time\n",
    "m = pylogit.create_choice_model(data = df, \n",
    "                                alt_id_col = 'alt_id', \n",
    "                                obs_id_col = 'obs_id', \n",
    "                                choice_col = 'choice', \n",
    "                                specification = spec2, \n",
    "                                model_type = \"MNL\", \n",
    "                                names = labels2)\n",
    "\n",
    "# p = float(K-1)/(J-1)\n",
    "# const = np.log(p**(K-1) * (1-p)**(J-K))\n",
    "\n",
    "const = np.log(float(fact(K-1)*fact(J-K))/fact(J-1))\n",
    "\n",
    "# Add an initial value for the constant and constrain it to that\n",
    "m.fit_mle(init_vals = np.array([0, const]), \n",
    "          constrained_pos=[1])"
   ]
  },
  {
   "cell_type": "code",
   "execution_count": 142,
   "metadata": {},
   "outputs": [
    {
     "name": "stdout",
     "output_type": "stream",
     "text": [
      "                     Multinomial Logit Model Regression Results                    \n",
      "===================================================================================\n",
      "Dep. Variable:                      choice   No. Observations:                1,000\n",
      "Model:             Multinomial Logit Model   Df Residuals:                      998\n",
      "Method:                                MLE   Df Model:                            2\n",
      "Date:                     Wed, 09 Jun 2021   Pseudo R-squ.:                   0.000\n",
      "Time:                             14:56:20   Pseudo R-bar-squ.:              -0.002\n",
      "AIC:                             2,201.126   Log-Likelihood:             -1,098.563\n",
      "BIC:                             2,210.941   LL-Null:                    -1,098.612\n",
      "==============================================================================\n",
      "                 coef    std err          z      P>|z|      [0.025      0.975]\n",
      "------------------------------------------------------------------------------\n",
      "beta_x         0.0106         -0       -inf      0.000       0.011       0.011\n",
      "constant      -7.0699        nan        nan        nan         nan         nan\n",
      "==============================================================================\n"
     ]
    }
   ],
   "source": [
    "print(m.get_statsmodels_summary())"
   ]
  },
  {
   "cell_type": "markdown",
   "metadata": {},
   "source": [
    "# Run 1000x with different samples"
   ]
  },
  {
   "cell_type": "code",
   "execution_count": 143,
   "metadata": {},
   "outputs": [],
   "source": [
    "# try binomial formula\n",
    "const = np.log(float(fact(K-1)*fact(J-K))/fact(J-1))\n",
    "\n",
    "def estimate_beta_with_correction():\n",
    "    d = [[n, i, int(C[n]==i), X[i], 1] for n in range(N) for i in alts(n)]\n",
    "    df = pd.DataFrame(d, columns=['obs_id', 'alt_id', 'choice', 'x', 'const'])\n",
    "    m = pylogit.create_choice_model(df, 'alt_id', 'obs_id', 'choice', spec2, 'MNL', names=labels2)\n",
    "    m.fit_mle(init_vals = np.array([0, const]), constrained_pos=[1])\n",
    "    return m.params.beta_x"
   ]
  },
  {
   "cell_type": "code",
   "execution_count": 144,
   "metadata": {},
   "outputs": [
    {
     "ename": "LinAlgError",
     "evalue": "singular matrix",
     "output_type": "error",
     "traceback": [
      "\u001b[0;31m---------------------------------------------------------------------------\u001b[0m",
      "\u001b[0;31mLinAlgError\u001b[0m                               Traceback (most recent call last)",
      "\u001b[0;32m<ipython-input-144-4bfaa42c7709>\u001b[0m in \u001b[0;36m<module>\u001b[0;34m\u001b[0m\n\u001b[1;32m      1\u001b[0m \u001b[0mbeta\u001b[0m \u001b[0;34m=\u001b[0m \u001b[0;34m[\u001b[0m\u001b[0;34m]\u001b[0m\u001b[0;34m\u001b[0m\u001b[0;34m\u001b[0m\u001b[0m\n\u001b[1;32m      2\u001b[0m \u001b[0;32mfor\u001b[0m \u001b[0mi\u001b[0m \u001b[0;32min\u001b[0m \u001b[0mrange\u001b[0m\u001b[0;34m(\u001b[0m\u001b[0;36m1000\u001b[0m\u001b[0;34m)\u001b[0m\u001b[0;34m:\u001b[0m\u001b[0;34m\u001b[0m\u001b[0;34m\u001b[0m\u001b[0m\n\u001b[0;32m----> 3\u001b[0;31m     \u001b[0mbeta\u001b[0m\u001b[0;34m.\u001b[0m\u001b[0mappend\u001b[0m\u001b[0;34m(\u001b[0m\u001b[0mestimate_beta_with_correction\u001b[0m\u001b[0;34m(\u001b[0m\u001b[0;34m)\u001b[0m\u001b[0;34m)\u001b[0m\u001b[0;34m\u001b[0m\u001b[0;34m\u001b[0m\u001b[0m\n\u001b[0m",
      "\u001b[0;32m<ipython-input-143-114bb8ac2c2a>\u001b[0m in \u001b[0;36mestimate_beta_with_correction\u001b[0;34m()\u001b[0m\n\u001b[1;32m      6\u001b[0m     \u001b[0mdf\u001b[0m \u001b[0;34m=\u001b[0m \u001b[0mpd\u001b[0m\u001b[0;34m.\u001b[0m\u001b[0mDataFrame\u001b[0m\u001b[0;34m(\u001b[0m\u001b[0md\u001b[0m\u001b[0;34m,\u001b[0m \u001b[0mcolumns\u001b[0m\u001b[0;34m=\u001b[0m\u001b[0;34m[\u001b[0m\u001b[0;34m'obs_id'\u001b[0m\u001b[0;34m,\u001b[0m \u001b[0;34m'alt_id'\u001b[0m\u001b[0;34m,\u001b[0m \u001b[0;34m'choice'\u001b[0m\u001b[0;34m,\u001b[0m \u001b[0;34m'x'\u001b[0m\u001b[0;34m,\u001b[0m \u001b[0;34m'const'\u001b[0m\u001b[0;34m]\u001b[0m\u001b[0;34m)\u001b[0m\u001b[0;34m\u001b[0m\u001b[0;34m\u001b[0m\u001b[0m\n\u001b[1;32m      7\u001b[0m     \u001b[0mm\u001b[0m \u001b[0;34m=\u001b[0m \u001b[0mpylogit\u001b[0m\u001b[0;34m.\u001b[0m\u001b[0mcreate_choice_model\u001b[0m\u001b[0;34m(\u001b[0m\u001b[0mdf\u001b[0m\u001b[0;34m,\u001b[0m \u001b[0;34m'alt_id'\u001b[0m\u001b[0;34m,\u001b[0m \u001b[0;34m'obs_id'\u001b[0m\u001b[0;34m,\u001b[0m \u001b[0;34m'choice'\u001b[0m\u001b[0;34m,\u001b[0m \u001b[0mspec2\u001b[0m\u001b[0;34m,\u001b[0m \u001b[0;34m'MNL'\u001b[0m\u001b[0;34m,\u001b[0m \u001b[0mnames\u001b[0m\u001b[0;34m=\u001b[0m\u001b[0mlabels2\u001b[0m\u001b[0;34m)\u001b[0m\u001b[0;34m\u001b[0m\u001b[0;34m\u001b[0m\u001b[0m\n\u001b[0;32m----> 8\u001b[0;31m     \u001b[0mm\u001b[0m\u001b[0;34m.\u001b[0m\u001b[0mfit_mle\u001b[0m\u001b[0;34m(\u001b[0m\u001b[0minit_vals\u001b[0m \u001b[0;34m=\u001b[0m \u001b[0mnp\u001b[0m\u001b[0;34m.\u001b[0m\u001b[0marray\u001b[0m\u001b[0;34m(\u001b[0m\u001b[0;34m[\u001b[0m\u001b[0;36m0\u001b[0m\u001b[0;34m,\u001b[0m \u001b[0mconst\u001b[0m\u001b[0;34m]\u001b[0m\u001b[0;34m)\u001b[0m\u001b[0;34m,\u001b[0m \u001b[0mconstrained_pos\u001b[0m\u001b[0;34m=\u001b[0m\u001b[0;34m[\u001b[0m\u001b[0;36m1\u001b[0m\u001b[0;34m]\u001b[0m\u001b[0;34m)\u001b[0m\u001b[0;34m\u001b[0m\u001b[0;34m\u001b[0m\u001b[0m\n\u001b[0m\u001b[1;32m      9\u001b[0m     \u001b[0;32mreturn\u001b[0m \u001b[0mm\u001b[0m\u001b[0;34m.\u001b[0m\u001b[0mparams\u001b[0m\u001b[0;34m.\u001b[0m\u001b[0mbeta_x\u001b[0m\u001b[0;34m\u001b[0m\u001b[0;34m\u001b[0m\u001b[0m\n",
      "\u001b[0;32m~/anaconda3/envs/dev/lib/python3.8/site-packages/pylogit/conditional_logit.py\u001b[0m in \u001b[0;36mfit_mle\u001b[0;34m(self, init_vals, print_res, method, loss_tol, gradient_tol, maxiter, ridge, constrained_pos, just_point, **kwargs)\u001b[0m\n\u001b[1;32m    403\u001b[0m         \u001b[0;32mif\u001b[0m \u001b[0;32mnot\u001b[0m \u001b[0mjust_point\u001b[0m\u001b[0;34m:\u001b[0m\u001b[0;34m\u001b[0m\u001b[0;34m\u001b[0m\u001b[0m\n\u001b[1;32m    404\u001b[0m             \u001b[0;31m# Store the estimation results\u001b[0m\u001b[0;34m\u001b[0m\u001b[0;34m\u001b[0m\u001b[0;34m\u001b[0m\u001b[0m\n\u001b[0;32m--> 405\u001b[0;31m             \u001b[0mself\u001b[0m\u001b[0;34m.\u001b[0m\u001b[0mstore_fit_results\u001b[0m\u001b[0;34m(\u001b[0m\u001b[0mestimation_res\u001b[0m\u001b[0;34m)\u001b[0m\u001b[0;34m\u001b[0m\u001b[0;34m\u001b[0m\u001b[0m\n\u001b[0m\u001b[1;32m    406\u001b[0m \u001b[0;34m\u001b[0m\u001b[0m\n\u001b[1;32m    407\u001b[0m             \u001b[0;32mreturn\u001b[0m \u001b[0;32mNone\u001b[0m\u001b[0;34m\u001b[0m\u001b[0;34m\u001b[0m\u001b[0m\n",
      "\u001b[0;32m~/anaconda3/envs/dev/lib/python3.8/site-packages/pylogit/base_multinomial_cm_v2.py\u001b[0m in \u001b[0;36mstore_fit_results\u001b[0;34m(self, results_dict)\u001b[0m\n\u001b[1;32m   1489\u001b[0m \u001b[0;34m\u001b[0m\u001b[0m\n\u001b[1;32m   1490\u001b[0m         \u001b[0;31m# Store the model results and values needed for model inference\u001b[0m\u001b[0;34m\u001b[0m\u001b[0;34m\u001b[0m\u001b[0;34m\u001b[0m\u001b[0m\n\u001b[0;32m-> 1491\u001b[0;31m         self._store_generic_inference_results(results_dict,\n\u001b[0m\u001b[1;32m   1492\u001b[0m                                               \u001b[0mall_params\u001b[0m\u001b[0;34m,\u001b[0m\u001b[0;34m\u001b[0m\u001b[0;34m\u001b[0m\u001b[0m\n\u001b[1;32m   1493\u001b[0m                                               all_names)\n",
      "\u001b[0;32m~/anaconda3/envs/dev/lib/python3.8/site-packages/pylogit/base_multinomial_cm_v2.py\u001b[0m in \u001b[0;36m_store_generic_inference_results\u001b[0;34m(self, results_dict, all_params, all_names)\u001b[0m\n\u001b[1;32m   1214\u001b[0m \u001b[0;34m\u001b[0m\u001b[0m\n\u001b[1;32m   1215\u001b[0m         \u001b[0;31m# Store the variance-covariance matrix\u001b[0m\u001b[0;34m\u001b[0m\u001b[0;34m\u001b[0m\u001b[0;34m\u001b[0m\u001b[0m\n\u001b[0;32m-> 1216\u001b[0;31m         self._store_inferential_results(-1 * scipy.linalg.inv(self.hessian),\n\u001b[0m\u001b[1;32m   1217\u001b[0m                                         \u001b[0mindex_names\u001b[0m\u001b[0;34m=\u001b[0m\u001b[0mall_names\u001b[0m\u001b[0;34m,\u001b[0m\u001b[0;34m\u001b[0m\u001b[0;34m\u001b[0m\u001b[0m\n\u001b[1;32m   1218\u001b[0m                                         \u001b[0mattribute_name\u001b[0m\u001b[0;34m=\u001b[0m\u001b[0;34m\"cov\"\u001b[0m\u001b[0;34m,\u001b[0m\u001b[0;34m\u001b[0m\u001b[0;34m\u001b[0m\u001b[0m\n",
      "\u001b[0;32m~/anaconda3/envs/dev/lib/python3.8/site-packages/scipy/linalg/basic.py\u001b[0m in \u001b[0;36minv\u001b[0;34m(a, overwrite_a, check_finite)\u001b[0m\n\u001b[1;32m    975\u001b[0m         \u001b[0minv_a\u001b[0m\u001b[0;34m,\u001b[0m \u001b[0minfo\u001b[0m \u001b[0;34m=\u001b[0m \u001b[0mgetri\u001b[0m\u001b[0;34m(\u001b[0m\u001b[0mlu\u001b[0m\u001b[0;34m,\u001b[0m \u001b[0mpiv\u001b[0m\u001b[0;34m,\u001b[0m \u001b[0mlwork\u001b[0m\u001b[0;34m=\u001b[0m\u001b[0mlwork\u001b[0m\u001b[0;34m,\u001b[0m \u001b[0moverwrite_lu\u001b[0m\u001b[0;34m=\u001b[0m\u001b[0;36m1\u001b[0m\u001b[0;34m)\u001b[0m\u001b[0;34m\u001b[0m\u001b[0;34m\u001b[0m\u001b[0m\n\u001b[1;32m    976\u001b[0m     \u001b[0;32mif\u001b[0m \u001b[0minfo\u001b[0m \u001b[0;34m>\u001b[0m \u001b[0;36m0\u001b[0m\u001b[0;34m:\u001b[0m\u001b[0;34m\u001b[0m\u001b[0;34m\u001b[0m\u001b[0m\n\u001b[0;32m--> 977\u001b[0;31m         \u001b[0;32mraise\u001b[0m \u001b[0mLinAlgError\u001b[0m\u001b[0;34m(\u001b[0m\u001b[0;34m\"singular matrix\"\u001b[0m\u001b[0;34m)\u001b[0m\u001b[0;34m\u001b[0m\u001b[0;34m\u001b[0m\u001b[0m\n\u001b[0m\u001b[1;32m    978\u001b[0m     \u001b[0;32mif\u001b[0m \u001b[0minfo\u001b[0m \u001b[0;34m<\u001b[0m \u001b[0;36m0\u001b[0m\u001b[0;34m:\u001b[0m\u001b[0;34m\u001b[0m\u001b[0;34m\u001b[0m\u001b[0m\n\u001b[1;32m    979\u001b[0m         raise ValueError('illegal value in %d-th argument of internal '\n",
      "\u001b[0;31mLinAlgError\u001b[0m: singular matrix"
     ]
    }
   ],
   "source": [
    "%%capture\n",
    "beta = []\n",
    "for i in range(1000):\n",
    "    beta.append(estimate_beta_with_correction())"
   ]
  },
  {
   "cell_type": "code",
   "execution_count": null,
   "metadata": {},
   "outputs": [],
   "source": []
  }
 ],
 "metadata": {
  "kernelspec": {
   "display_name": "Python 3",
   "language": "python",
   "name": "python3"
  },
  "language_info": {
   "codemirror_mode": {
    "name": "ipython",
    "version": 3
   },
   "file_extension": ".py",
   "mimetype": "text/x-python",
   "name": "python",
   "nbconvert_exporter": "python",
   "pygments_lexer": "ipython3",
   "version": "3.8.5"
  }
 },
 "nbformat": 4,
 "nbformat_minor": 4
}
